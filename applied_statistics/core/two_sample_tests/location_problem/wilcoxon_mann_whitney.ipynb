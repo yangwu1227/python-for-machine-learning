{
 "cells": [
  {
   "cell_type": "markdown",
   "metadata": {},
   "source": [
    "## References\n",
    "\n",
    "H.B. Mann and D.R. Whitney, “On a test of whether one of two random variables is stochastically larger than the other”, The Annals of Mathematical Statistics, Vol. 18, pp. 50-60, 1947.\n",
    "\n",
    "Hollander, M., Wolfe, D.A. and Chicken, E. (2014) Nonparametric Statistical Methods. 3rd Edition, John Wiley & Sons, Inc., New York."
   ]
  },
  {
   "cell_type": "markdown",
   "metadata": {},
   "source": [
    "## Assumptions\n",
    "\n",
    "We obtain $N=m+n$ observations $X_1, \\ldots, X_m$ and $Y_1, \\ldots, Y_n$.\n",
    "\n",
    "\n",
    "* The observations $X_1, \\ldots, X_m$ are a random sample from population 1; that is, the $X$'s are independent and identically distributed. The observations $Y_1, \\ldots, Y_n$ are a random sample from population 2; the $Y$'s are independent and identically distributed.\n",
    "\n",
    "* The $X$'s and $Y$'s are mutually independent. Thus, in addition to assumptions of independence within each sample, we also assume independence between the two samples.\n",
    "\n",
    "* Populations 1 and 2 are **continuous populations**.\n",
    "\n",
    "For a test that handles discrete populations, see the Brunner-Munzel test."
   ]
  },
  {
   "cell_type": "markdown",
   "metadata": {},
   "source": [
    "## Hypothesis\n",
    "\n",
    "### Null Hypothesis\n",
    "\n",
    "Let $F$ be the distribution function corresponding to population 1 and let $G$ be the distribution function corresponding to population 2. Typicaly, group 1 is the control group and group 2 is the treatment group.\n",
    "\n",
    "The null hypothesis $H_0$ is that the two populations are identical, that is:\n",
    "\n",
    "$$\n",
    "\\begin{align*}\n",
    "H_0: F(t) = G(t) \\quad \\text{for all } t.\n",
    "\\end{align*}\n",
    "$$\n",
    "\n",
    "Note that although the null hypothesis asserts that $X$ and $Y$ have the same CDF, the common CDF is not specified.\n",
    "\n",
    "### Alternative Hypothesis\n",
    "\n",
    "The alternative hypothesis in a two-sample location problem typically states that $Y$ is generally larger (or smaller) than $X$. One useful model for this is the **translation model**, also called the **location-shift model**:\n",
    "\n",
    "$$\n",
    "G(t) = F(t - \\Delta), \\quad \\text{for all } t\n",
    "$$\n",
    "\n",
    "This means population 2 is identical to population 1, but shifted by an amount $\\Delta$. Another way to express this is:\n",
    "\n",
    "$$\n",
    "Y \\stackrel{d}{=} X + \\Delta\n",
    "$$\n",
    "\n",
    "where $\\stackrel{d}{=}$ indicates \"has the same distribution as.\" The parameter $\\Delta$ is the **location shift** or **treatment effect**. If $X$ is from population 1 (control) and $Y$ is from population 2 (treatment), then $\\Delta$ represents the **expected effect of the treatment**. If the mean $E(X)$ of population 1 exists, and $E(Y)$ is the mean of population 2, then:\n",
    "\n",
    "$$\n",
    "\\Delta = E(Y) - E(X)\n",
    "$$\n",
    "\n",
    "is the difference in population means. Under the location-shift model, the null hypothesis $H_0$ becomes:\n",
    "\n",
    "$$\n",
    "H_0: \\Delta = 0\n",
    "$$\n",
    "\n",
    "which asserts that the population means are equal, implying no treatment effect."
   ]
  },
  {
   "cell_type": "markdown",
   "metadata": {},
   "source": [
    "## Mann-Whitney U Statistic\n",
    "\n",
    "The Mann-Whitney statistic is defined as:\n",
    "\n",
    "$$\n",
    "\\begin{align*}\n",
    "U=\\sum_{i=1}^m \\sum_{j=1}^n \\phi\\left(X_i, Y_j\\right)\n",
    "\\end{align*}\n",
    "$$\n",
    "\n",
    "where\n",
    "\n",
    "$$\n",
    "\\begin{align*}\n",
    "\\phi\\left(X_i, Y_j\\right)= \\begin{cases}1 & \\text { if } X_i<Y_j \\\\ 0 & \\text { otherwise. }\\end{cases}\n",
    "\\end{align*}\n",
    "$$\n",
    "\n",
    "The generalization of the Mann-Whitney U statistic to the case of tied observations is:\n",
    "\n",
    "$$\n",
    "\\begin{align*}\n",
    "U=\\sum_{i=1}^m \\sum_{j=1}^n \\phi^*\\left(X_i, Y_j\\right)\n",
    "\\end{align*}\n",
    "$$\n",
    "\n",
    "where\n",
    "\n",
    "$$\n",
    "\\begin{align*}\n",
    "\\phi^*\\left(X_i, Y_j\\right)= \\begin{cases}1, & \\text { if } X_i<Y_j \\\\ \\frac{1}{2}, & \\text { if } X_i=Y_j \\\\ 0, & \\text { if } X_i>Y_j\\end{cases}\n",
    "\\end{align*}\n",
    "$$\n",
    "\n",
    "### Null Distribution\n",
    "\n",
    "Some textbooks and some software find it more convenient to use $U^\\prime$ instead of $U$ as the test statistic. The two statistics are related by\n",
    "\n",
    "$$\n",
    "\\begin{align*}\n",
    "U^{\\prime}=U- mn\n",
    "\\end{align*}\n",
    "$$\n",
    "\n",
    "The possible values of $U$ and $U^{\\prime}$ are $0,1, \\ldots$, $m n$. Furthermore, when $H_0$ is true, the mean and variance of $U$ and $U^{\\prime}$ are, respectively,\n",
    "\n",
    "$$\n",
    "\\begin{align*}\n",
    "E_0(U) & =E_0\\left(U^{\\prime}\\right)=\\frac{mn}{2} \\\\\n",
    "\\operatorname{Var}_0(U) & =\\operatorname{Var}_0\\left(U^{\\prime}\\right)=\\frac{m n(m+n+1)}{12}\n",
    "\\end{align*}\n",
    "$$\n",
    "\n",
    "\n",
    "The null distributions of $U$ and $U^{\\prime}$ are symmetric about the mean $\\frac{mn}{2}$."
   ]
  },
  {
   "cell_type": "markdown",
   "metadata": {},
   "source": [
    "### Alternative Hypotheses\n",
    "\n",
    "Let $F(t)$ and $G(t)$ be the cumulative distribution functions (CDFs) of the distributions underlying $X$ and $Y$, respectively. The alternative hypotheses for the Mann-Whitney U test are defined as follows:\n",
    "\n",
    "#### 1. **Two-Sided Alternative (Two-Sided)**:\n",
    "\n",
    "   - $F_{X}(t) \\neq G_{Y}(t)$ for at least one $t$.  \n",
    "\n",
    "   - **Interpretation**: The distributions underlying $X$ and $Y$ are not equal.\n",
    "\n",
    "#### 2. **Lower Tail Alternative (Less)**:\n",
    "\n",
    "   - $F_{X}(t) > G_{Y}(t)$ for all $t$.  \n",
    "\n",
    "   - **Interpretation**: The distribution underlying $X$ is stochastically **less than** that of $Y$. In other words, $X$ tends to take on smaller values compared to $Y$. This is because the probability that $X$ is less than or equal to any given $t$ is greater than the probability that $Y$ is less than or equal to $t$.\n",
    "\n",
    "#### 3. **Upper Tail Alternative (Greater)**:\n",
    "\n",
    "   - $F_{X}(t) < G_{Y}(t)$ for all $t$.  \n",
    "   \n",
    "   - **Interpretation**: The distribution underlying $X$ is stochastically greater than that of $Y$. This implies that $X$ tends to take on larger values compared to $Y$, as the probability of $X$ being less than or equal to any given $t$ is smaller than the probability of $Y$ being less than or equal to $t$.\n",
    "\n",
    "These hypotheses describe the relationship between the CDFs. Even though the direction of the inequalities might seem counterintuitive, they correctly indicate that if $F(t) > G(t)$, samples drawn from $X$ tends to be less than those drawn from $Y$. Similarly, if $F(t) < G(t)$, samples drawn from $X$ tends to be greater than those drawn from $Y$.\n"
   ]
  },
  {
   "cell_type": "markdown",
   "metadata": {},
   "source": [
    "## Examples\n",
    "\n",
    "The following examples illustrate the Mann-Whitney U test under two stress scenarios:\n",
    "\n",
    "* Two-Sided Alternative: The distributions underlying $X$ and $Y$ are equal but the sample sizes are small.\n",
    "\n",
    "* Lower Tail Alternative: The distribution underlying $X$ is stochastically less than that of $Y$."
   ]
  },
  {
   "cell_type": "code",
   "execution_count": 1,
   "metadata": {},
   "outputs": [],
   "source": [
    "import random\n",
    "\n",
    "import numpy as np\n",
    "from scipy.stats import PermutationMethod, mannwhitneyu, norm"
   ]
  },
  {
   "cell_type": "markdown",
   "metadata": {},
   "source": [
    "\n",
    "\n",
    "### No Ties & Either Sample Size is Small (< 8)\n",
    "\n",
    "The `exact` method computes the exact p-value by comparing the observed $U$ statistic to the exact distribution of the $U$ statistic under the null hypothesis; no correction is made for ties."
   ]
  },
  {
   "cell_type": "code",
   "execution_count": 24,
   "metadata": {},
   "outputs": [
    {
     "name": "stdout",
     "output_type": "stream",
     "text": [
      "The size of the control group is 4\n",
      "The size of the treatment group is 11\n"
     ]
    }
   ],
   "source": [
    "# Generate random n and m\n",
    "n_control_example_1 = random.randint(3, 8)\n",
    "n_treatment_example_1 = random.randint(8, 12)\n",
    "\n",
    "# Define the mean and standard deviation for the normal distribution\n",
    "mean_example_1 = 10\n",
    "std_dev_example_1 = 3\n",
    "\n",
    "# Generate data for control and treatment groups from the same normal distribution\n",
    "control_group_example_1 = norm.rvs(\n",
    "    loc=mean_example_1, scale=std_dev_example_1, size=n_control_example_1\n",
    ")\n",
    "treatment_group_example_1 = norm.rvs(\n",
    "    loc=mean_example_1, scale=std_dev_example_1, size=n_treatment_example_1\n",
    ")\n",
    "\n",
    "print(f\"The size of the control group is {n_control_example_1}\")\n",
    "print(f\"The size of the treatment group is {n_treatment_example_1}\")"
   ]
  },
  {
   "cell_type": "code",
   "execution_count": 25,
   "metadata": {},
   "outputs": [
    {
     "data": {
      "text/plain": [
       "MannwhitneyuResult(statistic=np.float64(28.0), pvalue=np.float64(0.48937728937728936))"
      ]
     },
     "execution_count": 25,
     "metadata": {},
     "output_type": "execute_result"
    }
   ],
   "source": [
    "mannwhitneyu(\n",
    "    control_group_example_1,\n",
    "    treatment_group_example_1,\n",
    "    alternative=\"two-sided\",\n",
    "    method=\"exact\",\n",
    ")"
   ]
  },
  {
   "cell_type": "markdown",
   "metadata": {},
   "source": [
    "### Ties Present & Either Sample Size is Small (< 8)\n",
    "\n",
    "The `permutation` method conducts the permutation version of the test:\n",
    "\n",
    "**Note**: The variance of the samples are still assumed to be equal."
   ]
  },
  {
   "cell_type": "code",
   "execution_count": 32,
   "metadata": {},
   "outputs": [
    {
     "name": "stdout",
     "output_type": "stream",
     "text": [
      "The size of the control group is 5\n",
      "The size of the treatment group is 10\n"
     ]
    }
   ],
   "source": [
    "n_control_example_2 = random.randint(5, 7)\n",
    "n_treatment_example_2 = random.randint(9, 12)\n",
    "\n",
    "# Treatment effect for the location-shift model\n",
    "delta_example_2 = 5\n",
    "\n",
    "# Generate data for control and treatment groups from normal distributions with different means\n",
    "mean_example_2 = 17\n",
    "std_dev_example_2 = 3\n",
    "\n",
    "control_group_example_2 = norm.rvs(\n",
    "    loc=mean_example_2, scale=std_dev_example_2, size=n_control_example_2\n",
    ")\n",
    "treatment_group_example_2 = norm.rvs(\n",
    "    loc=mean_example_2 + delta_example_2,\n",
    "    scale=std_dev_example_2,\n",
    "    size=n_treatment_example_2,\n",
    ")\n",
    "\n",
    "print(f\"The size of the control group is {n_control_example_2}\")\n",
    "print(f\"The size of the treatment group is {n_treatment_example_2}\")"
   ]
  },
  {
   "cell_type": "code",
   "execution_count": 34,
   "metadata": {},
   "outputs": [
    {
     "data": {
      "text/plain": [
       "MannwhitneyuResult(statistic=np.float64(2.0), pvalue=np.float64(0.001332001332001332))"
      ]
     },
     "execution_count": 34,
     "metadata": {},
     "output_type": "execute_result"
    }
   ],
   "source": [
    "rs = np.random.RandomState(12345)\n",
    "res_wrt_x = mannwhitneyu(\n",
    "    control_group_example_2,\n",
    "    treatment_group_example_2,\n",
    "    alternative=\"less\",\n",
    "    method=PermutationMethod(n_resamples=9999, random_state=rs),\n",
    ")\n",
    "res_wrt_x"
   ]
  },
  {
   "cell_type": "markdown",
   "metadata": {},
   "source": [
    "The test statistic in the output is the Mann-Whitney U statistic with respect to the first sample $X$ with the following hypothesese:\n",
    "\n",
    "- $H_0$: Samples drawn from the distribution of $X$ (control) is the same as or stochastically greater than those drawn from the distribution of $Y$ (treatment).\n",
    "\n",
    "- $H_1$: Samples drawn from the distribution of $X$ (control) is stochastically less than those drawn from the distribution of $Y$ (treatment).\n",
    "\n",
    "To obtain the test statistic with respect to the second sample $Y$:\n",
    "\n",
    "$$\n",
    "\\begin{align*}\n",
    "U_{Y} = m \\times n - U_{X}\n",
    "\\end{align*}\n",
    "$$\n",
    "\n",
    "where $U_{X}$ is the Mann-Whitney U statistic with respect to the first sample $X$."
   ]
  },
  {
   "cell_type": "code",
   "execution_count": 35,
   "metadata": {},
   "outputs": [
    {
     "data": {
      "text/plain": [
       "np.float64(48.0)"
      ]
     },
     "execution_count": 35,
     "metadata": {},
     "output_type": "execute_result"
    }
   ],
   "source": [
    "(\n",
    "    control_group_example_2.shape[0] * treatment_group_example_2.shape[0]\n",
    "    - res_wrt_x.statistic\n",
    ")"
   ]
  },
  {
   "cell_type": "code",
   "execution_count": 36,
   "metadata": {},
   "outputs": [
    {
     "data": {
      "text/plain": [
       "MannwhitneyuResult(statistic=np.float64(48.0), pvalue=np.float64(0.001332001332001332))"
      ]
     },
     "execution_count": 36,
     "metadata": {},
     "output_type": "execute_result"
    }
   ],
   "source": [
    "mannwhitneyu(\n",
    "    treatment_group_example_2,\n",
    "    control_group_example_2,\n",
    "    alternative=\"greater\",\n",
    "    method=PermutationMethod(n_resamples=9999, random_state=rs),\n",
    ")"
   ]
  }
 ],
 "metadata": {
  "kernelspec": {
   "display_name": "python_for_machine_learning",
   "language": "python",
   "name": "python3"
  },
  "language_info": {
   "codemirror_mode": {
    "name": "ipython",
    "version": 3
   },
   "file_extension": ".py",
   "mimetype": "text/x-python",
   "name": "python",
   "nbconvert_exporter": "python",
   "pygments_lexer": "ipython3",
   "version": "3.11.9"
  }
 },
 "nbformat": 4,
 "nbformat_minor": 2
}

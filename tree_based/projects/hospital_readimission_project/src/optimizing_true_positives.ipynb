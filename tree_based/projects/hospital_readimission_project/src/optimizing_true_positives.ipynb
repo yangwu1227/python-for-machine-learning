{
 "cells": [
  {
   "cell_type": "code",
   "execution_count": 167,
   "metadata": {},
   "outputs": [
    {
     "name": "stdout",
     "output_type": "stream",
     "text": [
      "XGB Version 1.7.2\n",
      "Optuna Version 3.0.5\n"
     ]
    }
   ],
   "source": [
    "from IPython.core.interactiveshell import InteractiveShell\n",
    "\n",
    "InteractiveShell.ast_node_interactivity = \"all\"\n",
    "\n",
    "# Standard library\n",
    "from itertools import combinations, cycle\n",
    "from typing import Tuple\n",
    "\n",
    "# Custom modules and other\n",
    "import joblib\n",
    "\n",
    "# Visualization\n",
    "import matplotlib.pyplot as plt\n",
    "import numpy as np\n",
    "\n",
    "# Hyperparameter tuning\n",
    "import optuna\n",
    "\n",
    "# Data\n",
    "import pandas as pd\n",
    "\n",
    "# XGBoost\n",
    "import xgboost as xgb\n",
    "from imblearn.metrics import classification_report_imbalanced\n",
    "from sklearn.exceptions import NotFittedError\n",
    "\n",
    "# Machine learning\n",
    "from sklearn.feature_selection import RFE\n",
    "from sklearn.metrics import (\n",
    "    ConfusionMatrixDisplay,\n",
    "    RocCurveDisplay,\n",
    "    auc,\n",
    "    confusion_matrix,\n",
    "    recall_score,\n",
    "    roc_auc_score,\n",
    "    roc_curve,\n",
    ")\n",
    "from sklearn.model_selection import StratifiedKFold\n",
    "from sklearn.preprocessing import LabelBinarizer\n",
    "from sklearn.tree import DecisionTreeClassifier\n",
    "from sklearn.utils.class_weight import compute_sample_weight\n",
    "\n",
    "print(\"XGB Version\", xgb.__version__)\n",
    "print(\"Optuna Version\", optuna.__version__)"
   ]
  },
  {
   "attachments": {},
   "cell_type": "markdown",
   "metadata": {},
   "source": [
    "## Global Settings"
   ]
  },
  {
   "cell_type": "code",
   "execution_count": 132,
   "metadata": {},
   "outputs": [],
   "source": [
    "seed = 27\n",
    "rs = np.random.RandomState(seed)\n",
    "\n",
    "# Folds\n",
    "folds = 5\n",
    "\n",
    "# Paths\n",
    "data_path = \"../data/train_test/\"\n",
    "model_path = \"../outputs/models/\"\n",
    "pipe_path = \"../outputs/pipeline/\"\n",
    "plot_path = \"../outputs/plots/\"\n",
    "\n",
    "top_num_features = 25\n",
    "\n",
    "plt.rcParams[\"figure.figsize\"] = (15, 12)"
   ]
  },
  {
   "attachments": {},
   "cell_type": "markdown",
   "metadata": {},
   "source": [
    "## Data"
   ]
  },
  {
   "cell_type": "code",
   "execution_count": 81,
   "metadata": {},
   "outputs": [],
   "source": [
    "train_X, train_y = (\n",
    "    pd.read_parquet(data_path + \"train_X.parquet\"),\n",
    "    pd.read_parquet(data_path + \"train_y.parquet\")\n",
    "    .to_numpy()\n",
    "    .reshape(\n",
    "        -1,\n",
    "    ),\n",
    ")"
   ]
  },
  {
   "cell_type": "code",
   "execution_count": 16,
   "metadata": {},
   "outputs": [
    {
     "data": {
      "text/plain": [
       "((81412, 49), (81412,))"
      ]
     },
     "execution_count": 16,
     "metadata": {},
     "output_type": "execute_result"
    }
   ],
   "source": [
    "train_X.shape, train_y.shape"
   ]
  },
  {
   "cell_type": "code",
   "execution_count": 145,
   "metadata": {},
   "outputs": [
    {
     "data": {
      "text/plain": [
       "array([1, 1, 2, ..., 1, 2, 2])"
      ]
     },
     "execution_count": 145,
     "metadata": {},
     "output_type": "execute_result"
    }
   ],
   "source": [
    "label_encoder = joblib.load(\"../outputs/pipeline/label_encoder.joblib\")\n",
    "train_y = label_encoder.fit_transform(train_y)\n",
    "train_y"
   ]
  },
  {
   "attachments": {},
   "cell_type": "markdown",
   "metadata": {},
   "source": [
    "## Custom Metric Function\n",
    "\n",
    "To monitor model performance during training for early stopping, we create a custom metric function that computes the average recall score for the two minority classes (i.e., excluding the majority class). "
   ]
  },
  {
   "cell_type": "code",
   "execution_count": 119,
   "metadata": {},
   "outputs": [],
   "source": [
    "def custom_recall_score(predt: np.ndarray, data: xgb.DMatrix) -> Tuple[str, float]:\n",
    "    y = data.get_label()\n",
    "    pred_classes = np.argmax(predt, axis=1)\n",
    "    weighted_avg_recall = recall_score(\n",
    "        y_true=y, y_pred=pred_classes, labels=[0, 1], average=\"weighted\"\n",
    "    )\n",
    "    return \"avgRecall\", weighted_avg_recall"
   ]
  },
  {
   "attachments": {},
   "cell_type": "markdown",
   "metadata": {},
   "source": [
    "## Hyperparameter Tuning Via Optuna"
   ]
  },
  {
   "cell_type": "code",
   "execution_count": 123,
   "metadata": {},
   "outputs": [],
   "source": [
    "def objective(trial):\n",
    "    # Create copies since we passed mutable objects\n",
    "    train_X, train_y = (\n",
    "        pd.read_parquet(\"../data/train_test/train_X.parquet\"),\n",
    "        pd.read_parquet(\"../data/train_test/train_y.parquet\")\n",
    "        .to_numpy()\n",
    "        .reshape(\n",
    "            -1,\n",
    "        ),\n",
    "    )\n",
    "    folds = 3\n",
    "    seed = 1227\n",
    "\n",
    "    # Parameters\n",
    "    search_space = {\n",
    "        # Booster parameters\n",
    "        \"booster_params\": {\n",
    "            \"booster\": \"gbtree\",\n",
    "            \"objective\": \"multi:softprob\",\n",
    "            \"num_class\": 3,\n",
    "            \"learning_rate\": trial.suggest_float(\n",
    "                name=\"learning_rate\", low=0.001, high=0.3\n",
    "            ),  # Range: [0, 1], larger eta shrinks the feature weights more to make the boosting process more conservative, i.e., fewer trees (regularizer)\n",
    "            \"gamma\": trial.suggest_int(\n",
    "                \"gamma\", 0, 9\n",
    "            ),  # Range: [0, inf], the larger the more conservative the algorithm (regularizer)\n",
    "            \"max_delta_step\": trial.suggest_int(\n",
    "                \"max_delta_step\", 1, 10\n",
    "            ),  # Range: [0, inf], values from 1-10 might help control the update for imbalanced data (regularizer)\n",
    "            \"lambda\": trial.suggest_categorical(\n",
    "                \"lambda\", [1, 10, 100]\n",
    "            ),  # Range: [0, inf], L2 regularization term on weights, the larger the more conservative the algorithm (regularizer)\n",
    "            \"alpha\": trial.suggest_categorical(\n",
    "                \"alpha\", [1, 10, 100]\n",
    "            ),  # Range: [0, inf], L1 regularization term on weights, the larger the more conservative the algorithm (regularizer)\n",
    "            \"colsample_bylevel\": trial.suggest_categorical(\n",
    "                \"colsample_bylevel\", np.linspace(0.5, 1, 6).tolist()\n",
    "            ),\n",
    "            \"colsample_bynode\": trial.suggest_categorical(\n",
    "                \"colsample_bynode\", np.linspace(0.5, 1, 6).tolist()\n",
    "            ),\n",
    "            \"colsample_bytree\": trial.suggest_categorical(\n",
    "                \"colsample_bytree\", np.linspace(0.5, 1, 6).tolist()\n",
    "            ),  # Range: (0, 1], subsample ratio of columns when constructing each tree, the smaller the more conservative the algorithm (regularizer)\n",
    "            \"subsample\": trial.suggest_categorical(\n",
    "                \"subsample\", np.linspace(0.5, 1, 6).tolist()\n",
    "            ),  # Range: (0, 1], subsample ratio of the training instances every boosting iteration, the smaller the more conservative the algorithm (regularizer)\n",
    "            \"max_depth\": trial.suggest_categorical(\n",
    "                \"max_depth\", np.arange(3, 12, dtype=np.int16).tolist()\n",
    "            ),  # Range: [0, inf], deep trees boost predictive power but are more likely to overfit (bias reducer)\n",
    "            \"tree_method\": \"hist\",\n",
    "            \"predictor\": \"cpu_predictor\",\n",
    "            \"disable_default_eval_metric\": 1,  # Disable default evaluation metric to use custom evaluation metric\n",
    "        },\n",
    "        # Non-booster parameters\n",
    "        \"num_feat\": trial.suggest_categorical(\"num_feat\", [50, 60, 70, 80]),\n",
    "        \"step\": trial.suggest_categorical(\"step\", [0.1, 0.2, 0.3]),\n",
    "        \"num_boost_round\": trial.suggest_int(\n",
    "            \"num_boost_round\", low=500, high=2000, step=100\n",
    "        ),  # Range: [0, inf], number of boosting iterations, the larger the more likely to overfit (bias reducer)\n",
    "    }\n",
    "\n",
    "    # Stratified K-fold cross-validation\n",
    "    skf = StratifiedKFold(n_splits=folds, shuffle=True, random_state=seed)\n",
    "\n",
    "    recall_scores = np.empty(folds)\n",
    "    for fold, (train_idx, val_idx) in enumerate(skf.split(train_X, train_y)):\n",
    "        # Train and validation sets\n",
    "        fold_train_X, fold_train_y = train_X.iloc[train_idx], train_y[train_idx]\n",
    "        fold_val_X, fold_val_y = train_X.iloc[val_idx], train_y[val_idx]\n",
    "\n",
    "        # Processing using fresh copies for every fold\n",
    "        print(f\"Start processing fold {fold + 1}...\")\n",
    "        preprocessor = joblib.load(pipe_path + \"preprocessor.joblib\")\n",
    "        label_encoder = joblib.load(pipe_path + \"label_encoder.joblib\")\n",
    "        # Fit and transform on training data\n",
    "        fold_train_X = preprocessor.fit_transform(fold_train_X)\n",
    "        fold_train_y = label_encoder.fit_transform(fold_train_y)\n",
    "        # Transform validation data\n",
    "        fold_val_X = preprocessor.transform(fold_val_X)\n",
    "        fold_val_y = label_encoder.transform(fold_val_y)\n",
    "\n",
    "        # Feature selection (tuning number of features and step size)\n",
    "        selector = RFE(\n",
    "            estimator=DecisionTreeClassifier(random_state=seed),\n",
    "            n_features_to_select=search_space[\"num_feat\"],\n",
    "            step=search_space[\"step\"],\n",
    "        )\n",
    "        fold_train_X = selector.fit_transform(fold_train_X, fold_train_y)\n",
    "        fold_val_X = selector.transform(fold_val_X)\n",
    "\n",
    "        # Computing sample instance weights\n",
    "        print(\"Class distribution:\", np.unique(fold_train_y, return_counts=True))\n",
    "        instance_weights = compute_sample_weight(\"balanced\", fold_train_y)\n",
    "        print(\n",
    "            \"Class instance weights:\", np.unique(instance_weights, return_counts=True)\n",
    "        )\n",
    "\n",
    "        # Model (tuning hyperparameters)\n",
    "        print(f\"Start training model for fold {fold + 1}...\")\n",
    "        feature_names = selector.get_feature_names_out().tolist()\n",
    "        # Apply weights to training and not validation data\n",
    "        dtrain = xgb.DMatrix(\n",
    "            data=fold_train_X,\n",
    "            label=fold_train_y,\n",
    "            feature_names=feature_names,\n",
    "            weight=instance_weights,\n",
    "        )\n",
    "        dvalid = xgb.DMatrix(\n",
    "            data=fold_val_X, label=fold_val_y, feature_names=feature_names\n",
    "        )\n",
    "        model = xgb.train(\n",
    "            params=search_space[\"booster_params\"],\n",
    "            dtrain=dtrain,\n",
    "            num_boost_round=search_space[\"num_boost_round\"],\n",
    "            early_stopping_rounds=100,  # Stop if 100 consecutive rounds without improvement in area under the PR curve\n",
    "            evals=[(dtrain, \"train\"), (dvalid, \"validate\")],\n",
    "            custom_metric=custom_recall_score,  # Custom evaluation metric\n",
    "            maximize=True,  # Maximize custom evaluation metric (average recall score for class 0 and 1)\n",
    "            verbose_eval=200,  # At most 10 lines per fold\n",
    "        )\n",
    "\n",
    "        # Out-of-fold prediction for the current fold\n",
    "        print(f\"Predicting for fold {fold + 1}...\")\n",
    "        # Out-of-fold prediction, matrix of probabilities with shape (n_samples, n_classes)\n",
    "        oof_pred = model.predict(dvalid)\n",
    "        pred_classes = np.argmax(oof_pred, axis=1)\n",
    "        recall_scores[fold] = recall_score(\n",
    "            y_true=fold_val_y, y_pred=pred_classes, labels=[0, 1], average=\"weighted\"\n",
    "        )  # Weighted average of recall scores for each class (excluding 'No' (2) class)\n",
    "\n",
    "    mean_recall = np.mean(recall_scores)\n",
    "\n",
    "    print(\n",
    "        f\"Weighted average recall scores for class 0 and 1 averaged across all folds: {mean_recall}\"\n",
    "    )\n",
    "\n",
    "    return mean_recall"
   ]
  },
  {
   "cell_type": "code",
   "execution_count": 124,
   "metadata": {},
   "outputs": [
    {
     "name": "stderr",
     "output_type": "stream",
     "text": [
      "\u001b[32m[I 2023-01-03 19:37:26,287]\u001b[0m A new study created in memory with name: maximizing_avg_recall\u001b[0m\n"
     ]
    },
    {
     "name": "stdout",
     "output_type": "stream",
     "text": [
      "Start processing fold 1...\n",
      "Class distribution: (array([0, 1, 2]), array([ 6056, 18957, 29261]))\n",
      "Class instance weights: (array([0.61827461, 0.95433525, 2.98734038]), array([29261, 18957,  6056]))\n",
      "Start training model for fold 1...\n",
      "[0]\ttrain-avgRecall:0.25439\tvalidate-avgRecall:0.20187\n",
      "[101]\ttrain-avgRecall:0.32631\tvalidate-avgRecall:0.24776\n",
      "Predicting for fold 1...\n",
      "Start processing fold 2...\n",
      "Class distribution: (array([0, 1, 2]), array([ 6057, 18957, 29261]))\n",
      "Class instance weights: (array([0.618286  , 0.95435283, 2.98690221]), array([29261, 18957,  6057]))\n",
      "Start training model for fold 2...\n",
      "[0]\ttrain-avgRecall:0.21060\tvalidate-avgRecall:0.14352\n",
      "[200]\ttrain-avgRecall:0.34013\tvalidate-avgRecall:0.24970\n",
      "[400]\ttrain-avgRecall:0.36208\tvalidate-avgRecall:0.26785\n",
      "[499]\ttrain-avgRecall:0.36420\tvalidate-avgRecall:0.26905\n",
      "Predicting for fold 2...\n",
      "Start processing fold 3...\n",
      "Class distribution: (array([0, 1, 2]), array([ 6057, 18958, 29260]))\n",
      "Class instance weights: (array([0.61830713, 0.95430249, 2.98690221]), array([29260, 18958,  6057]))\n",
      "Start training model for fold 3...\n",
      "[0]\ttrain-avgRecall:0.31877\tvalidate-avgRecall:0.25252\n",
      "[115]\ttrain-avgRecall:0.34295\tvalidate-avgRecall:0.25955\n"
     ]
    },
    {
     "name": "stderr",
     "output_type": "stream",
     "text": [
      "\u001b[32m[I 2023-01-03 19:38:38,151]\u001b[0m Trial 0 finished with value: 0.25884202963656366 and parameters: {'learning_rate': 0.040826678617617594, 'gamma': 0, 'max_delta_step': 1, 'lambda': 1, 'alpha': 100, 'colsample_bylevel': 0.5, 'colsample_bynode': 0.8, 'colsample_bytree': 0.7, 'subsample': 1.0, 'max_depth': 3, 'num_feat': 50, 'step': 0.3, 'num_boost_round': 500}. Best is trial 0 with value: 0.25884202963656366.\u001b[0m\n"
     ]
    },
    {
     "name": "stdout",
     "output_type": "stream",
     "text": [
      "Predicting for fold 3...\n",
      "Weighted average recall scores for class 0 and 1 averaged across all folds: 0.25884202963656366\n",
      "Start processing fold 1...\n",
      "Class distribution: (array([0, 1, 2]), array([ 6056, 18957, 29261]))\n",
      "Class instance weights: (array([0.61827461, 0.95433525, 2.98734038]), array([29261, 18957,  6056]))\n",
      "Start training model for fold 1...\n",
      "[0]\ttrain-avgRecall:0.34222\tvalidate-avgRecall:0.27534\n",
      "[200]\ttrain-avgRecall:0.46132\tvalidate-avgRecall:0.30964\n",
      "[400]\ttrain-avgRecall:0.51609\tvalidate-avgRecall:0.32051\n",
      "[600]\ttrain-avgRecall:0.56115\tvalidate-avgRecall:0.32915\n",
      "[799]\ttrain-avgRecall:0.60017\tvalidate-avgRecall:0.33355\n",
      "Predicting for fold 1...\n",
      "Start processing fold 2...\n",
      "Class distribution: (array([0, 1, 2]), array([ 6057, 18957, 29261]))\n",
      "Class instance weights: (array([0.618286  , 0.95435283, 2.98690221]), array([29261, 18957,  6057]))\n",
      "Start training model for fold 2...\n",
      "[0]\ttrain-avgRecall:0.31934\tvalidate-avgRecall:0.23131\n",
      "[200]\ttrain-avgRecall:0.45786\tvalidate-avgRecall:0.27417\n",
      "[400]\ttrain-avgRecall:0.51803\tvalidate-avgRecall:0.28424\n",
      "[600]\ttrain-avgRecall:0.56293\tvalidate-avgRecall:0.28808\n",
      "[799]\ttrain-avgRecall:0.59914\tvalidate-avgRecall:0.29008\n",
      "Predicting for fold 2...\n",
      "Start processing fold 3...\n",
      "Class distribution: (array([0, 1, 2]), array([ 6057, 18958, 29260]))\n",
      "Class instance weights: (array([0.61830713, 0.95430249, 2.98690221]), array([29260, 18958,  6057]))\n",
      "Start training model for fold 3...\n",
      "[0]\ttrain-avgRecall:0.31121\tvalidate-avgRecall:0.24244\n",
      "[200]\ttrain-avgRecall:0.47168\tvalidate-avgRecall:0.31145\n",
      "[400]\ttrain-avgRecall:0.52652\tvalidate-avgRecall:0.32784\n",
      "[600]\ttrain-avgRecall:0.57062\tvalidate-avgRecall:0.33504\n",
      "[799]\ttrain-avgRecall:0.60652\tvalidate-avgRecall:0.34120\n",
      "Predicting for fold 3...\n"
     ]
    },
    {
     "name": "stderr",
     "output_type": "stream",
     "text": [
      "\u001b[32m[I 2023-01-03 19:41:53,532]\u001b[0m Trial 1 finished with value: 0.3216067708668637 and parameters: {'learning_rate': 0.09571563649036562, 'gamma': 0, 'max_delta_step': 1, 'lambda': 10, 'alpha': 10, 'colsample_bylevel': 0.8, 'colsample_bynode': 0.9, 'colsample_bytree': 0.7, 'subsample': 0.7, 'max_depth': 5, 'num_feat': 50, 'step': 0.2, 'num_boost_round': 800}. Best is trial 1 with value: 0.3216067708668637.\u001b[0m\n"
     ]
    },
    {
     "name": "stdout",
     "output_type": "stream",
     "text": [
      "Weighted average recall scores for class 0 and 1 averaged across all folds: 0.3216067708668637\n",
      "Start processing fold 1...\n",
      "Class distribution: (array([0, 1, 2]), array([ 6056, 18957, 29261]))\n",
      "Class instance weights: (array([0.61827461, 0.95433525, 2.98734038]), array([29261, 18957,  6056]))\n",
      "Start training model for fold 1...\n",
      "[0]\ttrain-avgRecall:0.35462\tvalidate-avgRecall:0.27542\n",
      "[200]\ttrain-avgRecall:0.39008\tvalidate-avgRecall:0.29349\n",
      "[400]\ttrain-avgRecall:0.39156\tvalidate-avgRecall:0.29429\n",
      "[450]\ttrain-avgRecall:0.39284\tvalidate-avgRecall:0.29461\n",
      "Predicting for fold 1...\n",
      "Start processing fold 2...\n",
      "Class distribution: (array([0, 1, 2]), array([ 6057, 18957, 29261]))\n",
      "Class instance weights: (array([0.618286  , 0.95435283, 2.98690221]), array([29261, 18957,  6057]))\n",
      "Start training model for fold 2...\n",
      "[0]\ttrain-avgRecall:0.30647\tvalidate-avgRecall:0.23251\n",
      "[200]\ttrain-avgRecall:0.37939\tvalidate-avgRecall:0.26161\n",
      "[207]\ttrain-avgRecall:0.37963\tvalidate-avgRecall:0.26169\n",
      "Predicting for fold 2...\n",
      "Start processing fold 3...\n",
      "Class distribution: (array([0, 1, 2]), array([ 6057, 18958, 29260]))\n",
      "Class instance weights: (array([0.61830713, 0.95430249, 2.98690221]), array([29260, 18958,  6057]))\n",
      "Start training model for fold 3...\n",
      "[0]\ttrain-avgRecall:0.38945\tvalidate-avgRecall:0.34024\n",
      "[99]\ttrain-avgRecall:0.39868\tvalidate-avgRecall:0.29890\n"
     ]
    },
    {
     "name": "stderr",
     "output_type": "stream",
     "text": [
      "\u001b[32m[I 2023-01-03 19:43:18,337]\u001b[0m Trial 2 finished with value: 0.284907211574595 and parameters: {'learning_rate': 0.1119019418108934, 'gamma': 8, 'max_delta_step': 1, 'lambda': 10, 'alpha': 1, 'colsample_bylevel': 1.0, 'colsample_bynode': 0.5, 'colsample_bytree': 1.0, 'subsample': 0.8, 'max_depth': 7, 'num_feat': 50, 'step': 0.2, 'num_boost_round': 1700}. Best is trial 1 with value: 0.3216067708668637.\u001b[0m\n"
     ]
    },
    {
     "name": "stdout",
     "output_type": "stream",
     "text": [
      "Predicting for fold 3...\n",
      "Weighted average recall scores for class 0 and 1 averaged across all folds: 0.284907211574595\n",
      "Start processing fold 1...\n",
      "Class distribution: (array([0, 1, 2]), array([ 6056, 18957, 29261]))\n",
      "Class instance weights: (array([0.61827461, 0.95433525, 2.98734038]), array([29261, 18957,  6056]))\n",
      "Start training model for fold 1...\n",
      "[0]\ttrain-avgRecall:0.30920\tvalidate-avgRecall:0.24073\n",
      "[140]\ttrain-avgRecall:0.34782\tvalidate-avgRecall:0.26095\n",
      "Predicting for fold 1...\n",
      "Start processing fold 2...\n",
      "Class distribution: (array([0, 1, 2]), array([ 6057, 18957, 29261]))\n",
      "Class instance weights: (array([0.618286  , 0.95435283, 2.98690221]), array([29261, 18957,  6057]))\n",
      "Start training model for fold 2...\n",
      "[0]\ttrain-avgRecall:0.31095\tvalidate-avgRecall:0.24306\n",
      "[170]\ttrain-avgRecall:0.34721\tvalidate-avgRecall:0.25802\n",
      "Predicting for fold 2...\n",
      "Start processing fold 3...\n",
      "Class distribution: (array([0, 1, 2]), array([ 6057, 18958, 29260]))\n",
      "Class instance weights: (array([0.61830713, 0.95430249, 2.98690221]), array([29260, 18958,  6057]))\n",
      "Start training model for fold 3...\n",
      "[0]\ttrain-avgRecall:0.30782\tvalidate-avgRecall:0.23677\n",
      "[148]\ttrain-avgRecall:0.36622\tvalidate-avgRecall:0.28530\n"
     ]
    },
    {
     "name": "stderr",
     "output_type": "stream",
     "text": [
      "\u001b[32m[I 2023-01-03 19:44:44,660]\u001b[0m Trial 3 finished with value: 0.268090518644611 and parameters: {'learning_rate': 0.14851651229127494, 'gamma': 8, 'max_delta_step': 7, 'lambda': 1, 'alpha': 100, 'colsample_bylevel': 1.0, 'colsample_bynode': 0.8, 'colsample_bytree': 0.6, 'subsample': 1.0, 'max_depth': 8, 'num_feat': 50, 'step': 0.1, 'num_boost_round': 1000}. Best is trial 1 with value: 0.3216067708668637.\u001b[0m\n"
     ]
    },
    {
     "name": "stdout",
     "output_type": "stream",
     "text": [
      "Predicting for fold 3...\n",
      "Weighted average recall scores for class 0 and 1 averaged across all folds: 0.268090518644611\n",
      "Start processing fold 1...\n",
      "Class distribution: (array([0, 1, 2]), array([ 6056, 18957, 29261]))\n",
      "Class instance weights: (array([0.61827461, 0.95433525, 2.98734038]), array([29261, 18957,  6056]))\n",
      "Start training model for fold 1...\n",
      "[0]\ttrain-avgRecall:0.36965\tvalidate-avgRecall:0.32395\n",
      "[99]\ttrain-avgRecall:0.36789\tvalidate-avgRecall:0.27622\n",
      "Predicting for fold 1...\n",
      "Start processing fold 2...\n",
      "Class distribution: (array([0, 1, 2]), array([ 6057, 18957, 29261]))\n",
      "Class instance weights: (array([0.618286  , 0.95435283, 2.98690221]), array([29261, 18957,  6057]))\n",
      "Start training model for fold 2...\n",
      "[0]\ttrain-avgRecall:0.25290\tvalidate-avgRecall:0.21724\n",
      "[152]\ttrain-avgRecall:0.37059\tvalidate-avgRecall:0.27113\n",
      "Predicting for fold 2...\n",
      "Start processing fold 3...\n",
      "Class distribution: (array([0, 1, 2]), array([ 6057, 18958, 29260]))\n",
      "Class instance weights: (array([0.61830713, 0.95430249, 2.98690221]), array([29260, 18958,  6057]))\n",
      "Start training model for fold 3...\n",
      "[0]\ttrain-avgRecall:0.28631\tvalidate-avgRecall:0.20894\n",
      "[200]\ttrain-avgRecall:0.38253\tvalidate-avgRecall:0.28314\n",
      "[290]\ttrain-avgRecall:0.38349\tvalidate-avgRecall:0.28530\n"
     ]
    },
    {
     "name": "stderr",
     "output_type": "stream",
     "text": [
      "\u001b[32m[I 2023-01-03 19:46:15,275]\u001b[0m Trial 4 finished with value: 0.27752481757029057 and parameters: {'learning_rate': 0.22227885028488925, 'gamma': 8, 'max_delta_step': 2, 'lambda': 1, 'alpha': 10, 'colsample_bylevel': 0.5, 'colsample_bynode': 0.9, 'colsample_bytree': 0.9, 'subsample': 0.8, 'max_depth': 3, 'num_feat': 50, 'step': 0.1, 'num_boost_round': 1100}. Best is trial 1 with value: 0.3216067708668637.\u001b[0m\n"
     ]
    },
    {
     "name": "stdout",
     "output_type": "stream",
     "text": [
      "Predicting for fold 3...\n",
      "Weighted average recall scores for class 0 and 1 averaged across all folds: 0.27752481757029057\n",
      "Start processing fold 1...\n",
      "Class distribution: (array([0, 1, 2]), array([ 6056, 18957, 29261]))\n",
      "Class instance weights: (array([0.61827461, 0.95433525, 2.98734038]), array([29261, 18957,  6056]))\n",
      "Start training model for fold 1...\n",
      "[0]\ttrain-avgRecall:0.32383\tvalidate-avgRecall:0.26495\n",
      "[165]\ttrain-avgRecall:0.38824\tvalidate-avgRecall:0.29189\n",
      "Predicting for fold 1...\n",
      "Start processing fold 2...\n",
      "Class distribution: (array([0, 1, 2]), array([ 6057, 18957, 29261]))\n",
      "Class instance weights: (array([0.618286  , 0.95435283, 2.98690221]), array([29261, 18957,  6057]))\n",
      "Start training model for fold 2...\n",
      "[0]\ttrain-avgRecall:0.33401\tvalidate-avgRecall:0.23291\n",
      "[163]\ttrain-avgRecall:0.37787\tvalidate-avgRecall:0.27249\n",
      "Predicting for fold 2...\n",
      "Start processing fold 3...\n",
      "Class distribution: (array([0, 1, 2]), array([ 6057, 18958, 29260]))\n",
      "Class instance weights: (array([0.61830713, 0.95430249, 2.98690221]), array([29260, 18958,  6057]))\n",
      "Start training model for fold 3...\n",
      "[0]\ttrain-avgRecall:0.34599\tvalidate-avgRecall:0.25260\n",
      "[173]\ttrain-avgRecall:0.38965\tvalidate-avgRecall:0.28882\n"
     ]
    },
    {
     "name": "stderr",
     "output_type": "stream",
     "text": [
      "\u001b[32m[I 2023-01-03 19:47:45,477]\u001b[0m Trial 5 finished with value: 0.28440065371864787 and parameters: {'learning_rate': 0.20244209907336744, 'gamma': 6, 'max_delta_step': 2, 'lambda': 100, 'alpha': 1, 'colsample_bylevel': 0.5, 'colsample_bynode': 0.5, 'colsample_bytree': 0.7, 'subsample': 1.0, 'max_depth': 9, 'num_feat': 60, 'step': 0.1, 'num_boost_round': 1000}. Best is trial 1 with value: 0.3216067708668637.\u001b[0m\n"
     ]
    },
    {
     "name": "stdout",
     "output_type": "stream",
     "text": [
      "Predicting for fold 3...\n",
      "Weighted average recall scores for class 0 and 1 averaged across all folds: 0.28440065371864787\n",
      "Start processing fold 1...\n",
      "Class distribution: (array([0, 1, 2]), array([ 6056, 18957, 29261]))\n",
      "Class instance weights: (array([0.61827461, 0.95433525, 2.98734038]), array([29261, 18957,  6056]))\n",
      "Start training model for fold 1...\n",
      "[0]\ttrain-avgRecall:0.34078\tvalidate-avgRecall:0.24944\n",
      "[101]\ttrain-avgRecall:0.37696\tvalidate-avgRecall:0.28294\n",
      "Predicting for fold 1...\n",
      "Start processing fold 2...\n",
      "Class distribution: (array([0, 1, 2]), array([ 6057, 18957, 29261]))\n",
      "Class instance weights: (array([0.618286  , 0.95435283, 2.98690221]), array([29261, 18957,  6057]))\n",
      "Start training model for fold 2...\n",
      "[0]\ttrain-avgRecall:0.27297\tvalidate-avgRecall:0.19317\n",
      "[200]\ttrain-avgRecall:0.38031\tvalidate-avgRecall:0.28456\n",
      "[348]\ttrain-avgRecall:0.38350\tvalidate-avgRecall:0.27824\n",
      "Predicting for fold 2...\n",
      "Start processing fold 3...\n",
      "Class distribution: (array([0, 1, 2]), array([ 6057, 18958, 29260]))\n",
      "Class instance weights: (array([0.61830713, 0.95430249, 2.98690221]), array([29260, 18958,  6057]))\n",
      "Start training model for fold 3...\n",
      "[0]\ttrain-avgRecall:0.37142\tvalidate-avgRecall:0.31761\n",
      "[100]\ttrain-avgRecall:0.38129\tvalidate-avgRecall:0.29322\n"
     ]
    },
    {
     "name": "stderr",
     "output_type": "stream",
     "text": [
      "\u001b[32m[I 2023-01-03 19:49:17,108]\u001b[0m Trial 6 finished with value: 0.28480078570229117 and parameters: {'learning_rate': 0.25014340234064647, 'gamma': 9, 'max_delta_step': 5, 'lambda': 10, 'alpha': 1, 'colsample_bylevel': 0.7, 'colsample_bynode': 0.9, 'colsample_bytree': 0.5, 'subsample': 0.5, 'max_depth': 6, 'num_feat': 60, 'step': 0.1, 'num_boost_round': 1400}. Best is trial 1 with value: 0.3216067708668637.\u001b[0m\n"
     ]
    },
    {
     "name": "stdout",
     "output_type": "stream",
     "text": [
      "Predicting for fold 3...\n",
      "Weighted average recall scores for class 0 and 1 averaged across all folds: 0.28480078570229117\n",
      "Start processing fold 1...\n",
      "Class distribution: (array([0, 1, 2]), array([ 6056, 18957, 29261]))\n",
      "Class instance weights: (array([0.61827461, 0.95433525, 2.98734038]), array([29261, 18957,  6056]))\n",
      "Start training model for fold 1...\n",
      "[0]\ttrain-avgRecall:0.34550\tvalidate-avgRecall:0.26999\n",
      "[200]\ttrain-avgRecall:0.54927\tvalidate-avgRecall:0.34034\n",
      "[395]\ttrain-avgRecall:0.57818\tvalidate-avgRecall:0.34610\n",
      "Predicting for fold 1...\n",
      "Start processing fold 2...\n",
      "Class distribution: (array([0, 1, 2]), array([ 6057, 18957, 29261]))\n",
      "Class instance weights: (array([0.618286  , 0.95435283, 2.98690221]), array([29261, 18957,  6057]))\n",
      "Start training model for fold 2...\n",
      "[0]\ttrain-avgRecall:0.33601\tvalidate-avgRecall:0.22643\n",
      "[200]\ttrain-avgRecall:0.54409\tvalidate-avgRecall:0.30847\n",
      "[400]\ttrain-avgRecall:0.57704\tvalidate-avgRecall:0.31902\n",
      "[499]\ttrain-avgRecall:0.58387\tvalidate-avgRecall:0.32158\n",
      "Predicting for fold 2...\n",
      "Start processing fold 3...\n",
      "Class distribution: (array([0, 1, 2]), array([ 6057, 18958, 29260]))\n",
      "Class instance weights: (array([0.61830713, 0.95430249, 2.98690221]), array([29260, 18958,  6057]))\n",
      "Start training model for fold 3...\n",
      "[0]\ttrain-avgRecall:0.36118\tvalidate-avgRecall:0.29106\n",
      "[200]\ttrain-avgRecall:0.54743\tvalidate-avgRecall:0.34975\n",
      "[400]\ttrain-avgRecall:0.58005\tvalidate-avgRecall:0.35527\n",
      "[499]\ttrain-avgRecall:0.58869\tvalidate-avgRecall:0.35639\n",
      "Predicting for fold 3...\n"
     ]
    },
    {
     "name": "stderr",
     "output_type": "stream",
     "text": [
      "\u001b[32m[I 2023-01-03 19:51:20,466]\u001b[0m Trial 7 finished with value: 0.341355781840472 and parameters: {'learning_rate': 0.23194283696212678, 'gamma': 2, 'max_delta_step': 2, 'lambda': 100, 'alpha': 10, 'colsample_bylevel': 0.7, 'colsample_bynode': 0.9, 'colsample_bytree': 0.7, 'subsample': 0.6, 'max_depth': 11, 'num_feat': 60, 'step': 0.3, 'num_boost_round': 500}. Best is trial 7 with value: 0.341355781840472.\u001b[0m\n"
     ]
    },
    {
     "name": "stdout",
     "output_type": "stream",
     "text": [
      "Weighted average recall scores for class 0 and 1 averaged across all folds: 0.341355781840472\n",
      "Start processing fold 1...\n",
      "Class distribution: (array([0, 1, 2]), array([ 6056, 18957, 29261]))\n",
      "Class instance weights: (array([0.61827461, 0.95433525, 2.98734038]), array([29261, 18957,  6056]))\n",
      "Start training model for fold 1...\n",
      "[0]\ttrain-avgRecall:0.35821\tvalidate-avgRecall:0.28430\n",
      "[200]\ttrain-avgRecall:0.38672\tvalidate-avgRecall:0.28950\n",
      "[247]\ttrain-avgRecall:0.38672\tvalidate-avgRecall:0.28941\n",
      "Predicting for fold 1...\n",
      "Start processing fold 2...\n",
      "Class distribution: (array([0, 1, 2]), array([ 6057, 18957, 29261]))\n",
      "Class instance weights: (array([0.618286  , 0.95435283, 2.98690221]), array([29261, 18957,  6057]))\n",
      "Start training model for fold 2...\n",
      "[0]\ttrain-avgRecall:0.32070\tvalidate-avgRecall:0.23835\n",
      "[200]\ttrain-avgRecall:0.38447\tvalidate-avgRecall:0.27353\n",
      "[263]\ttrain-avgRecall:0.38447\tvalidate-avgRecall:0.27353\n",
      "Predicting for fold 2...\n",
      "Start processing fold 3...\n",
      "Class distribution: (array([0, 1, 2]), array([ 6057, 18958, 29260]))\n",
      "Class instance weights: (array([0.61830713, 0.95430249, 2.98690221]), array([29260, 18958,  6057]))\n",
      "Start training model for fold 3...\n",
      "[0]\ttrain-avgRecall:0.35075\tvalidate-avgRecall:0.25196\n",
      "[200]\ttrain-avgRecall:0.39712\tvalidate-avgRecall:0.30785\n",
      "[284]\ttrain-avgRecall:0.39716\tvalidate-avgRecall:0.30785\n"
     ]
    },
    {
     "name": "stderr",
     "output_type": "stream",
     "text": [
      "\u001b[32m[I 2023-01-03 19:52:50,301]\u001b[0m Trial 8 finished with value: 0.290264610150486 and parameters: {'learning_rate': 0.07540537707809396, 'gamma': 7, 'max_delta_step': 5, 'lambda': 100, 'alpha': 10, 'colsample_bylevel': 0.8, 'colsample_bynode': 0.7, 'colsample_bytree': 0.8, 'subsample': 1.0, 'max_depth': 11, 'num_feat': 70, 'step': 0.2, 'num_boost_round': 600}. Best is trial 7 with value: 0.341355781840472.\u001b[0m\n"
     ]
    },
    {
     "name": "stdout",
     "output_type": "stream",
     "text": [
      "Predicting for fold 3...\n",
      "Weighted average recall scores for class 0 and 1 averaged across all folds: 0.290264610150486\n",
      "Start processing fold 1...\n",
      "Class distribution: (array([0, 1, 2]), array([ 6056, 18957, 29261]))\n",
      "Class instance weights: (array([0.61827461, 0.95433525, 2.98734038]), array([29261, 18957,  6056]))\n",
      "Start training model for fold 1...\n",
      "[0]\ttrain-avgRecall:0.29785\tvalidate-avgRecall:0.24296\n",
      "[151]\ttrain-avgRecall:0.36089\tvalidate-avgRecall:0.26943\n",
      "Predicting for fold 1...\n",
      "Start processing fold 2...\n",
      "Class distribution: (array([0, 1, 2]), array([ 6057, 18957, 29261]))\n",
      "Class instance weights: (array([0.618286  , 0.95435283, 2.98690221]), array([29261, 18957,  6057]))\n",
      "Start training model for fold 2...\n",
      "[0]\ttrain-avgRecall:0.22475\tvalidate-avgRecall:0.16343\n",
      "[200]\ttrain-avgRecall:0.36212\tvalidate-avgRecall:0.26593\n",
      "[210]\ttrain-avgRecall:0.36340\tvalidate-avgRecall:0.26665\n",
      "Predicting for fold 2...\n",
      "Start processing fold 3...\n",
      "Class distribution: (array([0, 1, 2]), array([ 6057, 18958, 29260]))\n",
      "Class instance weights: (array([0.61830713, 0.95430249, 2.98690221]), array([29260, 18958,  6057]))\n",
      "Start training model for fold 3...\n",
      "[0]\ttrain-avgRecall:0.37234\tvalidate-avgRecall:0.31265\n",
      "[100]\ttrain-avgRecall:0.37438\tvalidate-avgRecall:0.28770\n"
     ]
    },
    {
     "name": "stderr",
     "output_type": "stream",
     "text": [
      "\u001b[32m[I 2023-01-03 19:54:17,856]\u001b[0m Trial 9 finished with value: 0.27467333904441676 and parameters: {'learning_rate': 0.10725743281347185, 'gamma': 9, 'max_delta_step': 9, 'lambda': 100, 'alpha': 10, 'colsample_bylevel': 0.6, 'colsample_bynode': 1.0, 'colsample_bytree': 0.5, 'subsample': 0.8, 'max_depth': 8, 'num_feat': 50, 'step': 0.1, 'num_boost_round': 1100}. Best is trial 7 with value: 0.341355781840472.\u001b[0m\n"
     ]
    },
    {
     "name": "stdout",
     "output_type": "stream",
     "text": [
      "Predicting for fold 3...\n",
      "Weighted average recall scores for class 0 and 1 averaged across all folds: 0.27467333904441676\n",
      "Start processing fold 1...\n",
      "Class distribution: (array([0, 1, 2]), array([ 6056, 18957, 29261]))\n",
      "Class instance weights: (array([0.61827461, 0.95433525, 2.98734038]), array([29261, 18957,  6056]))\n",
      "Start training model for fold 1...\n",
      "[0]\ttrain-avgRecall:0.32627\tvalidate-avgRecall:0.23889\n",
      "[200]\ttrain-avgRecall:0.47024\tvalidate-avgRecall:0.29829\n",
      "[400]\ttrain-avgRecall:0.48443\tvalidate-avgRecall:0.30005\n",
      "[600]\ttrain-avgRecall:0.49910\tvalidate-avgRecall:0.30788\n",
      "[753]\ttrain-avgRecall:0.50398\tvalidate-avgRecall:0.31028\n",
      "Predicting for fold 1...\n",
      "Start processing fold 2...\n",
      "Class distribution: (array([0, 1, 2]), array([ 6057, 18957, 29261]))\n",
      "Class instance weights: (array([0.618286  , 0.95435283, 2.98690221]), array([29261, 18957,  6057]))\n",
      "Start training model for fold 2...\n",
      "[0]\ttrain-avgRecall:0.33086\tvalidate-avgRecall:0.21884\n",
      "[200]\ttrain-avgRecall:0.46734\tvalidate-avgRecall:0.30567\n",
      "[400]\ttrain-avgRecall:0.48097\tvalidate-avgRecall:0.30991\n",
      "[411]\ttrain-avgRecall:0.48177\tvalidate-avgRecall:0.31222\n",
      "Predicting for fold 2...\n",
      "Start processing fold 3...\n",
      "Class distribution: (array([0, 1, 2]), array([ 6057, 18958, 29260]))\n",
      "Class instance weights: (array([0.61830713, 0.95430249, 2.98690221]), array([29260, 18958,  6057]))\n",
      "Start training model for fold 3...\n",
      "[0]\ttrain-avgRecall:0.36570\tvalidate-avgRecall:0.29938\n",
      "[146]\ttrain-avgRecall:0.46976\tvalidate-avgRecall:0.32792\n"
     ]
    },
    {
     "name": "stderr",
     "output_type": "stream",
     "text": [
      "\u001b[32m[I 2023-01-03 19:56:09,309]\u001b[0m Trial 10 finished with value: 0.31699627945334935 and parameters: {'learning_rate': 0.29722156216426, 'gamma': 3, 'max_delta_step': 4, 'lambda': 100, 'alpha': 10, 'colsample_bylevel': 0.9, 'colsample_bynode': 0.6, 'colsample_bytree': 0.6, 'subsample': 0.6, 'max_depth': 11, 'num_feat': 80, 'step': 0.3, 'num_boost_round': 2000}. Best is trial 7 with value: 0.341355781840472.\u001b[0m\n"
     ]
    },
    {
     "name": "stdout",
     "output_type": "stream",
     "text": [
      "Predicting for fold 3...\n",
      "Weighted average recall scores for class 0 and 1 averaged across all folds: 0.31699627945334935\n",
      "Start processing fold 1...\n",
      "Class distribution: (array([0, 1, 2]), array([ 6056, 18957, 29261]))\n",
      "Class instance weights: (array([0.61827461, 0.95433525, 2.98734038]), array([29261, 18957,  6056]))\n",
      "Start training model for fold 1...\n",
      "[0]\ttrain-avgRecall:0.32647\tvalidate-avgRecall:0.26959\n",
      "[99]\ttrain-avgRecall:0.32103\tvalidate-avgRecall:0.24648\n",
      "Predicting for fold 1...\n",
      "Start processing fold 2...\n",
      "Class distribution: (array([0, 1, 2]), array([ 6057, 18957, 29261]))\n",
      "Class instance weights: (array([0.618286  , 0.95435283, 2.98690221]), array([29261, 18957,  6057]))\n",
      "Start training model for fold 2...\n",
      "[0]\ttrain-avgRecall:0.30551\tvalidate-avgRecall:0.22100\n",
      "[100]\ttrain-avgRecall:0.31818\tvalidate-avgRecall:0.22475\n",
      "Predicting for fold 2...\n",
      "Start processing fold 3...\n",
      "Class distribution: (array([0, 1, 2]), array([ 6057, 18958, 29260]))\n",
      "Class instance weights: (array([0.61830713, 0.95430249, 2.98690221]), array([29260, 18958,  6057]))\n",
      "Start training model for fold 3...\n",
      "[0]\ttrain-avgRecall:0.32812\tvalidate-avgRecall:0.24508\n",
      "[106]\ttrain-avgRecall:0.33544\tvalidate-avgRecall:0.25388\n"
     ]
    },
    {
     "name": "stderr",
     "output_type": "stream",
     "text": [
      "\u001b[32m[I 2023-01-03 19:57:11,055]\u001b[0m Trial 11 finished with value: 0.24165153263614073 and parameters: {'learning_rate': 0.008188186043051299, 'gamma': 0, 'max_delta_step': 3, 'lambda': 10, 'alpha': 10, 'colsample_bylevel': 0.7, 'colsample_bynode': 0.9, 'colsample_bytree': 0.7, 'subsample': 0.7, 'max_depth': 5, 'num_feat': 60, 'step': 0.2, 'num_boost_round': 700}. Best is trial 7 with value: 0.341355781840472.\u001b[0m\n"
     ]
    },
    {
     "name": "stdout",
     "output_type": "stream",
     "text": [
      "Predicting for fold 3...\n",
      "Weighted average recall scores for class 0 and 1 averaged across all folds: 0.24165153263614073\n",
      "Start processing fold 1...\n",
      "Class distribution: (array([0, 1, 2]), array([ 6056, 18957, 29261]))\n",
      "Class instance weights: (array([0.61827461, 0.95433525, 2.98734038]), array([29261, 18957,  6056]))\n",
      "Start training model for fold 1...\n",
      "[0]\ttrain-avgRecall:0.27710\tvalidate-avgRecall:0.21418\n",
      "[200]\ttrain-avgRecall:0.46992\tvalidate-avgRecall:0.31252\n",
      "[400]\ttrain-avgRecall:0.48103\tvalidate-avgRecall:0.31396\n",
      "[600]\ttrain-avgRecall:0.48823\tvalidate-avgRecall:0.31636\n",
      "[637]\ttrain-avgRecall:0.48962\tvalidate-avgRecall:0.31684\n",
      "Predicting for fold 1...\n",
      "Start processing fold 2...\n",
      "Class distribution: (array([0, 1, 2]), array([ 6057, 18957, 29261]))\n",
      "Class instance weights: (array([0.618286  , 0.95435283, 2.98690221]), array([29261, 18957,  6057]))\n",
      "Start training model for fold 2...\n",
      "[0]\ttrain-avgRecall:0.31422\tvalidate-avgRecall:0.25170\n",
      "[200]\ttrain-avgRecall:0.46410\tvalidate-avgRecall:0.30751\n",
      "[400]\ttrain-avgRecall:0.47665\tvalidate-avgRecall:0.31047\n",
      "[490]\ttrain-avgRecall:0.48073\tvalidate-avgRecall:0.31079\n",
      "Predicting for fold 2...\n",
      "Start processing fold 3...\n",
      "Class distribution: (array([0, 1, 2]), array([ 6057, 18958, 29260]))\n",
      "Class instance weights: (array([0.61830713, 0.95430249, 2.98690221]), array([29260, 18958,  6057]))\n",
      "Start training model for fold 3...\n",
      "[0]\ttrain-avgRecall:0.34499\tvalidate-avgRecall:0.30297\n",
      "[200]\ttrain-avgRecall:0.47459\tvalidate-avgRecall:0.33272\n",
      "[297]\ttrain-avgRecall:0.48255\tvalidate-avgRecall:0.33256\n"
     ]
    },
    {
     "name": "stderr",
     "output_type": "stream",
     "text": [
      "\u001b[32m[I 2023-01-03 19:59:06,304]\u001b[0m Trial 12 finished with value: 0.32006118075841244 and parameters: {'learning_rate': 0.1764685025142253, 'gamma': 2, 'max_delta_step': 7, 'lambda': 10, 'alpha': 10, 'colsample_bylevel': 0.8, 'colsample_bynode': 0.9, 'colsample_bytree': 0.7, 'subsample': 0.9, 'max_depth': 5, 'num_feat': 80, 'step': 0.3, 'num_boost_round': 800}. Best is trial 7 with value: 0.341355781840472.\u001b[0m\n"
     ]
    },
    {
     "name": "stdout",
     "output_type": "stream",
     "text": [
      "Predicting for fold 3...\n",
      "Weighted average recall scores for class 0 and 1 averaged across all folds: 0.32006118075841244\n",
      "Start processing fold 1...\n",
      "Class distribution: (array([0, 1, 2]), array([ 6056, 18957, 29261]))\n",
      "Class instance weights: (array([0.61827461, 0.95433525, 2.98734038]), array([29261, 18957,  6056]))\n",
      "Start training model for fold 1...\n",
      "[0]\ttrain-avgRecall:0.36369\tvalidate-avgRecall:0.31092\n",
      "[99]\ttrain-avgRecall:0.41870\tvalidate-avgRecall:0.30493\n",
      "Predicting for fold 1...\n",
      "Start processing fold 2...\n",
      "Class distribution: (array([0, 1, 2]), array([ 6057, 18957, 29261]))\n",
      "Class instance weights: (array([0.618286  , 0.95435283, 2.98690221]), array([29261, 18957,  6057]))\n",
      "Start training model for fold 2...\n",
      "[0]\ttrain-avgRecall:0.33093\tvalidate-avgRecall:0.28568\n",
      "[100]\ttrain-avgRecall:0.41477\tvalidate-avgRecall:0.25722\n",
      "Predicting for fold 2...\n",
      "Start processing fold 3...\n",
      "Class distribution: (array([0, 1, 2]), array([ 6057, 18958, 29260]))\n",
      "Class instance weights: (array([0.61830713, 0.95430249, 2.98690221]), array([29260, 18958,  6057]))\n",
      "Start training model for fold 3...\n",
      "[0]\ttrain-avgRecall:0.35611\tvalidate-avgRecall:0.26419\n",
      "[200]\ttrain-avgRecall:0.45337\tvalidate-avgRecall:0.32232\n",
      "[400]\ttrain-avgRecall:0.48935\tvalidate-avgRecall:0.33432\n",
      "[499]\ttrain-avgRecall:0.50346\tvalidate-avgRecall:0.33456\n"
     ]
    },
    {
     "name": "stderr",
     "output_type": "stream",
     "text": [
      "\u001b[32m[I 2023-01-03 20:00:27,473]\u001b[0m Trial 13 finished with value: 0.2990066713245397 and parameters: {'learning_rate': 0.1384522408641371, 'gamma': 2, 'max_delta_step': 3, 'lambda': 10, 'alpha': 10, 'colsample_bylevel': 0.8, 'colsample_bynode': 0.9, 'colsample_bytree': 0.7, 'subsample': 0.6, 'max_depth': 4, 'num_feat': 70, 'step': 0.2, 'num_boost_round': 500}. Best is trial 7 with value: 0.341355781840472.\u001b[0m\n"
     ]
    },
    {
     "name": "stdout",
     "output_type": "stream",
     "text": [
      "Predicting for fold 3...\n",
      "Weighted average recall scores for class 0 and 1 averaged across all folds: 0.2990066713245397\n",
      "Start processing fold 1...\n",
      "Class distribution: (array([0, 1, 2]), array([ 6056, 18957, 29261]))\n",
      "Class instance weights: (array([0.61827461, 0.95433525, 2.98734038]), array([29261, 18957,  6056]))\n",
      "Start training model for fold 1...\n",
      "[0]\ttrain-avgRecall:0.33307\tvalidate-avgRecall:0.26343\n",
      "[102]\ttrain-avgRecall:0.38384\tvalidate-avgRecall:0.28278\n",
      "Predicting for fold 1...\n",
      "Start processing fold 2...\n",
      "Class distribution: (array([0, 1, 2]), array([ 6057, 18957, 29261]))\n",
      "Class instance weights: (array([0.618286  , 0.95435283, 2.98690221]), array([29261, 18957,  6057]))\n",
      "Start training model for fold 2...\n",
      "[0]\ttrain-avgRecall:0.35640\tvalidate-avgRecall:0.26873\n",
      "[101]\ttrain-avgRecall:0.37939\tvalidate-avgRecall:0.27776\n",
      "Predicting for fold 2...\n",
      "Start processing fold 3...\n",
      "Class distribution: (array([0, 1, 2]), array([ 6057, 18958, 29260]))\n",
      "Class instance weights: (array([0.61830713, 0.95430249, 2.98690221]), array([29260, 18958,  6057]))\n",
      "Start training model for fold 3...\n",
      "[0]\ttrain-avgRecall:0.36718\tvalidate-avgRecall:0.31185\n",
      "[100]\ttrain-avgRecall:0.38541\tvalidate-avgRecall:0.30697\n"
     ]
    },
    {
     "name": "stderr",
     "output_type": "stream",
     "text": [
      "\u001b[32m[I 2023-01-03 20:01:15,942]\u001b[0m Trial 14 finished with value: 0.28917204215323955 and parameters: {'learning_rate': 0.2800658015331274, 'gamma': 4, 'max_delta_step': 1, 'lambda': 100, 'alpha': 100, 'colsample_bylevel': 0.7, 'colsample_bynode': 1.0, 'colsample_bytree': 0.9, 'subsample': 0.7, 'max_depth': 10, 'num_feat': 60, 'step': 0.3, 'num_boost_round': 800}. Best is trial 7 with value: 0.341355781840472.\u001b[0m\n"
     ]
    },
    {
     "name": "stdout",
     "output_type": "stream",
     "text": [
      "Predicting for fold 3...\n",
      "Weighted average recall scores for class 0 and 1 averaged across all folds: 0.28917204215323955\n",
      "Start processing fold 1...\n",
      "Class distribution: (array([0, 1, 2]), array([ 6056, 18957, 29261]))\n",
      "Class instance weights: (array([0.61827461, 0.95433525, 2.98734038]), array([29261, 18957,  6056]))\n",
      "Start training model for fold 1...\n",
      "[0]\ttrain-avgRecall:0.31592\tvalidate-avgRecall:0.25616\n",
      "[200]\ttrain-avgRecall:0.44877\tvalidate-avgRecall:0.31220\n",
      "[400]\ttrain-avgRecall:0.49758\tvalidate-avgRecall:0.33099\n",
      "[600]\ttrain-avgRecall:0.53256\tvalidate-avgRecall:0.34378\n",
      "[753]\ttrain-avgRecall:0.55527\tvalidate-avgRecall:0.34586\n",
      "Predicting for fold 1...\n",
      "Start processing fold 2...\n",
      "Class distribution: (array([0, 1, 2]), array([ 6057, 18957, 29261]))\n",
      "Class instance weights: (array([0.618286  , 0.95435283, 2.98690221]), array([29261, 18957,  6057]))\n",
      "Start training model for fold 2...\n",
      "[0]\ttrain-avgRecall:0.28012\tvalidate-avgRecall:0.19653\n",
      "[200]\ttrain-avgRecall:0.44335\tvalidate-avgRecall:0.28824\n",
      "[400]\ttrain-avgRecall:0.49328\tvalidate-avgRecall:0.29911\n",
      "[600]\ttrain-avgRecall:0.53114\tvalidate-avgRecall:0.30815\n",
      "[800]\ttrain-avgRecall:0.55961\tvalidate-avgRecall:0.31550\n",
      "[1000]\ttrain-avgRecall:0.58303\tvalidate-avgRecall:0.32054\n",
      "[1032]\ttrain-avgRecall:0.58779\tvalidate-avgRecall:0.32198\n",
      "Predicting for fold 2...\n",
      "Start processing fold 3...\n",
      "Class distribution: (array([0, 1, 2]), array([ 6057, 18958, 29260]))\n",
      "Class instance weights: (array([0.61830713, 0.95430249, 2.98690221]), array([29260, 18958,  6057]))\n",
      "Start training model for fold 3...\n",
      "[0]\ttrain-avgRecall:0.31081\tvalidate-avgRecall:0.22277\n",
      "[200]\ttrain-avgRecall:0.44973\tvalidate-avgRecall:0.31945\n",
      "[400]\ttrain-avgRecall:0.49930\tvalidate-avgRecall:0.32808\n",
      "[600]\ttrain-avgRecall:0.53648\tvalidate-avgRecall:0.33736\n",
      "[800]\ttrain-avgRecall:0.56362\tvalidate-avgRecall:0.33984\n",
      "[995]\ttrain-avgRecall:0.58589\tvalidate-avgRecall:0.34399\n",
      "Predicting for fold 3...\n"
     ]
    },
    {
     "name": "stderr",
     "output_type": "stream",
     "text": [
      "\u001b[32m[I 2023-01-03 21:08:31,990]\u001b[0m Trial 15 finished with value: 0.33738435692221597 and parameters: {'learning_rate': 0.0753036416376414, 'gamma': 1, 'max_delta_step': 10, 'lambda': 10, 'alpha': 10, 'colsample_bylevel': 0.6, 'colsample_bynode': 0.6, 'colsample_bytree': 1.0, 'subsample': 0.7, 'max_depth': 5, 'num_feat': 60, 'step': 0.3, 'num_boost_round': 1400}. Best is trial 7 with value: 0.341355781840472.\u001b[0m\n"
     ]
    },
    {
     "name": "stdout",
     "output_type": "stream",
     "text": [
      "Weighted average recall scores for class 0 and 1 averaged across all folds: 0.33738435692221597\n",
      "Start processing fold 1...\n",
      "Class distribution: (array([0, 1, 2]), array([ 6056, 18957, 29261]))\n",
      "Class instance weights: (array([0.61827461, 0.95433525, 2.98734038]), array([29261, 18957,  6056]))\n",
      "Start training model for fold 1...\n",
      "[0]\ttrain-avgRecall:0.37365\tvalidate-avgRecall:0.31884\n",
      "[200]\ttrain-avgRecall:0.53024\tvalidate-avgRecall:0.33347\n",
      "[400]\ttrain-avgRecall:0.55767\tvalidate-avgRecall:0.34010\n",
      "[582]\ttrain-avgRecall:0.57530\tvalidate-avgRecall:0.34138\n",
      "Predicting for fold 1...\n",
      "Start processing fold 2...\n",
      "Class distribution: (array([0, 1, 2]), array([ 6057, 18957, 29261]))\n",
      "Class instance weights: (array([0.618286  , 0.95435283, 2.98690221]), array([29261, 18957,  6057]))\n",
      "Start training model for fold 2...\n",
      "[0]\ttrain-avgRecall:0.35504\tvalidate-avgRecall:0.25650\n",
      "[200]\ttrain-avgRecall:0.52678\tvalidate-avgRecall:0.29815\n",
      "[400]\ttrain-avgRecall:0.55801\tvalidate-avgRecall:0.30679\n",
      "[540]\ttrain-avgRecall:0.57084\tvalidate-avgRecall:0.30903\n",
      "Predicting for fold 2...\n",
      "Start processing fold 3...\n",
      "Class distribution: (array([0, 1, 2]), array([ 6057, 18958, 29260]))\n",
      "Class instance weights: (array([0.61830713, 0.95430249, 2.98690221]), array([29260, 18958,  6057]))\n",
      "Start training model for fold 3...\n",
      "[0]\ttrain-avgRecall:0.34475\tvalidate-avgRecall:0.25460\n",
      "[200]\ttrain-avgRecall:0.52700\tvalidate-avgRecall:0.34168\n",
      "[400]\ttrain-avgRecall:0.55915\tvalidate-avgRecall:0.34799\n",
      "[600]\ttrain-avgRecall:0.57498\tvalidate-avgRecall:0.35223\n",
      "[689]\ttrain-avgRecall:0.57985\tvalidate-avgRecall:0.34975\n",
      "Predicting for fold 3...\n"
     ]
    },
    {
     "name": "stderr",
     "output_type": "stream",
     "text": [
      "\u001b[32m[I 2023-01-03 22:00:45,084]\u001b[0m Trial 16 finished with value: 0.3335734071842788 and parameters: {'learning_rate': 0.18626049489856036, 'gamma': 2, 'max_delta_step': 10, 'lambda': 100, 'alpha': 10, 'colsample_bylevel': 0.6, 'colsample_bynode': 0.6, 'colsample_bytree': 1.0, 'subsample': 0.6, 'max_depth': 11, 'num_feat': 60, 'step': 0.3, 'num_boost_round': 1400}. Best is trial 7 with value: 0.341355781840472.\u001b[0m\n"
     ]
    },
    {
     "name": "stdout",
     "output_type": "stream",
     "text": [
      "Weighted average recall scores for class 0 and 1 averaged across all folds: 0.3335734071842788\n",
      "Start processing fold 1...\n",
      "Class distribution: (array([0, 1, 2]), array([ 6056, 18957, 29261]))\n",
      "Class instance weights: (array([0.61827461, 0.95433525, 2.98734038]), array([29261, 18957,  6056]))\n",
      "Start training model for fold 1...\n",
      "[0]\ttrain-avgRecall:0.35665\tvalidate-avgRecall:0.24824\n",
      "[200]\ttrain-avgRecall:0.41598\tvalidate-avgRecall:0.29957\n",
      "[400]\ttrain-avgRecall:0.42278\tvalidate-avgRecall:0.30501\n",
      "[600]\ttrain-avgRecall:0.42866\tvalidate-avgRecall:0.30764\n",
      "[800]\ttrain-avgRecall:0.43257\tvalidate-avgRecall:0.30900\n",
      "[863]\ttrain-avgRecall:0.43301\tvalidate-avgRecall:0.30780\n",
      "Predicting for fold 1...\n",
      "Start processing fold 2...\n",
      "Class distribution: (array([0, 1, 2]), array([ 6057, 18957, 29261]))\n",
      "Class instance weights: (array([0.618286  , 0.95435283, 2.98690221]), array([29261, 18957,  6057]))\n",
      "Start training model for fold 2...\n",
      "[0]\ttrain-avgRecall:0.33689\tvalidate-avgRecall:0.26577\n",
      "[200]\ttrain-avgRecall:0.40909\tvalidate-avgRecall:0.28088\n",
      "[354]\ttrain-avgRecall:0.41673\tvalidate-avgRecall:0.27992\n",
      "Predicting for fold 2...\n",
      "Start processing fold 3...\n",
      "Class distribution: (array([0, 1, 2]), array([ 6057, 18958, 29260]))\n",
      "Class instance weights: (array([0.61830713, 0.95430249, 2.98690221]), array([29260, 18958,  6057]))\n",
      "Start training model for fold 3...\n",
      "[0]\ttrain-avgRecall:0.36958\tvalidate-avgRecall:0.30865\n",
      "[99]\ttrain-avgRecall:0.40120\tvalidate-avgRecall:0.30010\n"
     ]
    },
    {
     "name": "stderr",
     "output_type": "stream",
     "text": [
      "\u001b[32m[I 2023-01-03 22:02:35,500]\u001b[0m Trial 17 finished with value: 0.29596739033763275 and parameters: {'learning_rate': 0.05103647310122089, 'gamma': 5, 'max_delta_step': 8, 'lambda': 10, 'alpha': 10, 'colsample_bylevel': 0.6, 'colsample_bynode': 0.6, 'colsample_bytree': 1.0, 'subsample': 0.5, 'max_depth': 10, 'num_feat': 60, 'step': 0.3, 'num_boost_round': 1600}. Best is trial 7 with value: 0.341355781840472.\u001b[0m\n"
     ]
    },
    {
     "name": "stdout",
     "output_type": "stream",
     "text": [
      "Predicting for fold 3...\n",
      "Weighted average recall scores for class 0 and 1 averaged across all folds: 0.29596739033763275\n",
      "Start processing fold 1...\n",
      "Class distribution: (array([0, 1, 2]), array([ 6056, 18957, 29261]))\n",
      "Class instance weights: (array([0.61827461, 0.95433525, 2.98734038]), array([29261, 18957,  6056]))\n",
      "Start training model for fold 1...\n",
      "[0]\ttrain-avgRecall:0.31720\tvalidate-avgRecall:0.25640\n",
      "[200]\ttrain-avgRecall:0.41286\tvalidate-avgRecall:0.29781\n",
      "[393]\ttrain-avgRecall:0.41542\tvalidate-avgRecall:0.29853\n",
      "Predicting for fold 1...\n",
      "Start processing fold 2...\n",
      "Class distribution: (array([0, 1, 2]), array([ 6057, 18957, 29261]))\n",
      "Class instance weights: (array([0.618286  , 0.95435283, 2.98690221]), array([29261, 18957,  6057]))\n",
      "Start training model for fold 2...\n",
      "[0]\ttrain-avgRecall:0.33469\tvalidate-avgRecall:0.21612\n",
      "[200]\ttrain-avgRecall:0.40697\tvalidate-avgRecall:0.27537\n",
      "[391]\ttrain-avgRecall:0.41149\tvalidate-avgRecall:0.27657\n",
      "Predicting for fold 2...\n",
      "Start processing fold 3...\n",
      "Class distribution: (array([0, 1, 2]), array([ 6057, 18958, 29260]))\n",
      "Class instance weights: (array([0.61830713, 0.95430249, 2.98690221]), array([29260, 18958,  6057]))\n",
      "Start training model for fold 3...\n",
      "[0]\ttrain-avgRecall:0.36586\tvalidate-avgRecall:0.29154\n",
      "[200]\ttrain-avgRecall:0.41735\tvalidate-avgRecall:0.32193\n",
      "[291]\ttrain-avgRecall:0.41767\tvalidate-avgRecall:0.32169\n"
     ]
    },
    {
     "name": "stderr",
     "output_type": "stream",
     "text": [
      "\u001b[32m[I 2023-01-03 22:04:26,330]\u001b[0m Trial 18 finished with value: 0.2989265519748791 and parameters: {'learning_rate': 0.2550585792661835, 'gamma': 1, 'max_delta_step': 10, 'lambda': 100, 'alpha': 100, 'colsample_bylevel': 0.9, 'colsample_bynode': 0.7, 'colsample_bytree': 0.8, 'subsample': 0.9, 'max_depth': 7, 'num_feat': 60, 'step': 0.3, 'num_boost_round': 1800}. Best is trial 7 with value: 0.341355781840472.\u001b[0m\n"
     ]
    },
    {
     "name": "stdout",
     "output_type": "stream",
     "text": [
      "Predicting for fold 3...\n",
      "Weighted average recall scores for class 0 and 1 averaged across all folds: 0.2989265519748791\n",
      "Start processing fold 1...\n",
      "Class distribution: (array([0, 1, 2]), array([ 6056, 18957, 29261]))\n",
      "Class instance weights: (array([0.61827461, 0.95433525, 2.98734038]), array([29261, 18957,  6056]))\n",
      "Start training model for fold 1...\n",
      "[0]\ttrain-avgRecall:0.40591\tvalidate-avgRecall:0.29893\n",
      "[99]\ttrain-avgRecall:0.42278\tvalidate-avgRecall:0.28934\n",
      "Predicting for fold 1...\n",
      "Start processing fold 2...\n",
      "Class distribution: (array([0, 1, 2]), array([ 6057, 18957, 29261]))\n",
      "Class instance weights: (array([0.618286  , 0.95435283, 2.98690221]), array([29261, 18957,  6057]))\n",
      "Start training model for fold 2...\n",
      "[0]\ttrain-avgRecall:0.39386\tvalidate-avgRecall:0.28408\n",
      "[99]\ttrain-avgRecall:0.40977\tvalidate-avgRecall:0.26033\n",
      "Predicting for fold 2...\n",
      "Start processing fold 3...\n",
      "Class distribution: (array([0, 1, 2]), array([ 6057, 18958, 29260]))\n",
      "Class instance weights: (array([0.61830713, 0.95430249, 2.98690221]), array([29260, 18958,  6057]))\n",
      "Start training model for fold 3...\n",
      "[0]\ttrain-avgRecall:0.42027\tvalidate-avgRecall:0.30761\n",
      "[100]\ttrain-avgRecall:0.42486\tvalidate-avgRecall:0.29234\n"
     ]
    },
    {
     "name": "stderr",
     "output_type": "stream",
     "text": [
      "\u001b[32m[I 2023-01-03 22:05:25,733]\u001b[0m Trial 19 finished with value: 0.28066958462045893 and parameters: {'learning_rate': 0.011536672424416944, 'gamma': 4, 'max_delta_step': 6, 'lambda': 1, 'alpha': 1, 'colsample_bylevel': 0.6, 'colsample_bynode': 0.6, 'colsample_bytree': 1.0, 'subsample': 0.6, 'max_depth': 9, 'num_feat': 60, 'step': 0.3, 'num_boost_round': 1400}. Best is trial 7 with value: 0.341355781840472.\u001b[0m\n"
     ]
    },
    {
     "name": "stdout",
     "output_type": "stream",
     "text": [
      "Predicting for fold 3...\n",
      "Weighted average recall scores for class 0 and 1 averaged across all folds: 0.28066958462045893\n",
      "Start processing fold 1...\n",
      "Class distribution: (array([0, 1, 2]), array([ 6056, 18957, 29261]))\n",
      "Class instance weights: (array([0.61827461, 0.95433525, 2.98734038]), array([29261, 18957,  6056]))\n",
      "Start training model for fold 1...\n",
      "[0]\ttrain-avgRecall:0.32803\tvalidate-avgRecall:0.27990\n",
      "[200]\ttrain-avgRecall:0.48551\tvalidate-avgRecall:0.32539\n",
      "[400]\ttrain-avgRecall:0.50062\tvalidate-avgRecall:0.33035\n",
      "[600]\ttrain-avgRecall:0.51277\tvalidate-avgRecall:0.33570\n",
      "[667]\ttrain-avgRecall:0.51437\tvalidate-avgRecall:0.33451\n",
      "Predicting for fold 1...\n",
      "Start processing fold 2...\n",
      "Class distribution: (array([0, 1, 2]), array([ 6057, 18957, 29261]))\n",
      "Class instance weights: (array([0.618286  , 0.95435283, 2.98690221]), array([29261, 18957,  6057]))\n",
      "Start training model for fold 2...\n",
      "[0]\ttrain-avgRecall:0.33133\tvalidate-avgRecall:0.24666\n",
      "[200]\ttrain-avgRecall:0.47569\tvalidate-avgRecall:0.30271\n",
      "[240]\ttrain-avgRecall:0.48321\tvalidate-avgRecall:0.30535\n",
      "Predicting for fold 2...\n",
      "Start processing fold 3...\n",
      "Class distribution: (array([0, 1, 2]), array([ 6057, 18958, 29260]))\n",
      "Class instance weights: (array([0.61830713, 0.95430249, 2.98690221]), array([29260, 18958,  6057]))\n",
      "Start training model for fold 3...\n",
      "[0]\ttrain-avgRecall:0.35739\tvalidate-avgRecall:0.29258\n",
      "[200]\ttrain-avgRecall:0.48903\tvalidate-avgRecall:0.33552\n",
      "[400]\ttrain-avgRecall:0.50426\tvalidate-avgRecall:0.34303\n",
      "[543]\ttrain-avgRecall:0.51197\tvalidate-avgRecall:0.34336\n"
     ]
    },
    {
     "name": "stderr",
     "output_type": "stream",
     "text": [
      "\u001b[32m[I 2023-01-03 22:07:50,156]\u001b[0m Trial 20 finished with value: 0.32789660748452326 and parameters: {'learning_rate': 0.22520831803305338, 'gamma': 3, 'max_delta_step': 8, 'lambda': 10, 'alpha': 10, 'colsample_bylevel': 0.7, 'colsample_bynode': 0.6, 'colsample_bytree': 1.0, 'subsample': 0.7, 'max_depth': 6, 'num_feat': 70, 'step': 0.3, 'num_boost_round': 1300}. Best is trial 7 with value: 0.341355781840472.\u001b[0m\n"
     ]
    },
    {
     "name": "stdout",
     "output_type": "stream",
     "text": [
      "Predicting for fold 3...\n",
      "Weighted average recall scores for class 0 and 1 averaged across all folds: 0.32789660748452326\n",
      "Start processing fold 1...\n",
      "Class distribution: (array([0, 1, 2]), array([ 6056, 18957, 29261]))\n",
      "Class instance weights: (array([0.61827461, 0.95433525, 2.98734038]), array([29261, 18957,  6056]))\n",
      "Start training model for fold 1...\n",
      "[0]\ttrain-avgRecall:0.37365\tvalidate-avgRecall:0.31884\n",
      "[100]\ttrain-avgRecall:0.49134\tvalidate-avgRecall:0.31668\n",
      "Predicting for fold 1...\n",
      "Start processing fold 2...\n",
      "Class distribution: (array([0, 1, 2]), array([ 6057, 18957, 29261]))\n",
      "Class instance weights: (array([0.618286  , 0.95435283, 2.98690221]), array([29261, 18957,  6057]))\n",
      "Start training model for fold 2...\n",
      "[0]\ttrain-avgRecall:0.35504\tvalidate-avgRecall:0.25650\n",
      "[200]\ttrain-avgRecall:0.52263\tvalidate-avgRecall:0.29975\n",
      "[284]\ttrain-avgRecall:0.54222\tvalidate-avgRecall:0.30223\n",
      "Predicting for fold 2...\n",
      "Start processing fold 3...\n",
      "Class distribution: (array([0, 1, 2]), array([ 6057, 18958, 29260]))\n",
      "Class instance weights: (array([0.61830713, 0.95430249, 2.98690221]), array([29260, 18958,  6057]))\n",
      "Start training model for fold 3...\n",
      "[0]\ttrain-avgRecall:0.34475\tvalidate-avgRecall:0.25460\n",
      "[200]\ttrain-avgRecall:0.52732\tvalidate-avgRecall:0.34080\n",
      "[400]\ttrain-avgRecall:0.55707\tvalidate-avgRecall:0.34359\n",
      "[451]\ttrain-avgRecall:0.56142\tvalidate-avgRecall:0.34424\n",
      "Predicting for fold 3...\n",
      "Weighted average recall scores for class 0 and 1 averaged across all folds: 0.3210476148674289\n"
     ]
    },
    {
     "name": "stderr",
     "output_type": "stream",
     "text": [
      "\u001b[32m[I 2023-01-03 22:09:32,295]\u001b[0m Trial 21 finished with value: 0.3210476148674289 and parameters: {'learning_rate': 0.18006121041856069, 'gamma': 2, 'max_delta_step': 10, 'lambda': 100, 'alpha': 10, 'colsample_bylevel': 0.6, 'colsample_bynode': 0.6, 'colsample_bytree': 1.0, 'subsample': 0.6, 'max_depth': 11, 'num_feat': 60, 'step': 0.3, 'num_boost_round': 1500}. Best is trial 7 with value: 0.341355781840472.\u001b[0m\n"
     ]
    },
    {
     "name": "stdout",
     "output_type": "stream",
     "text": [
      "Start processing fold 1...\n",
      "Class distribution: (array([0, 1, 2]), array([ 6056, 18957, 29261]))\n",
      "Class instance weights: (array([0.61827461, 0.95433525, 2.98734038]), array([29261, 18957,  6056]))\n",
      "Start training model for fold 1...\n",
      "[0]\ttrain-avgRecall:0.36489\tvalidate-avgRecall:0.28366\n",
      "[200]\ttrain-avgRecall:0.63843\tvalidate-avgRecall:0.35793\n",
      "[400]\ttrain-avgRecall:0.69548\tvalidate-avgRecall:0.36816\n",
      "[440]\ttrain-avgRecall:0.70403\tvalidate-avgRecall:0.36960\n",
      "Predicting for fold 1...\n",
      "Start processing fold 2...\n",
      "Class distribution: (array([0, 1, 2]), array([ 6057, 18957, 29261]))\n",
      "Class instance weights: (array([0.618286  , 0.95435283, 2.98690221]), array([29261, 18957,  6057]))\n",
      "Start training model for fold 2...\n",
      "[0]\ttrain-avgRecall:0.36551\tvalidate-avgRecall:0.26249\n",
      "[200]\ttrain-avgRecall:0.63956\tvalidate-avgRecall:0.31750\n",
      "[400]\ttrain-avgRecall:0.69713\tvalidate-avgRecall:0.33437\n",
      "[600]\ttrain-avgRecall:0.72176\tvalidate-avgRecall:0.33533\n",
      "[800]\ttrain-avgRecall:0.73411\tvalidate-avgRecall:0.33781\n",
      "[834]\ttrain-avgRecall:0.73599\tvalidate-avgRecall:0.33797\n",
      "Predicting for fold 2...\n",
      "Start processing fold 3...\n",
      "Class distribution: (array([0, 1, 2]), array([ 6057, 18958, 29260]))\n",
      "Class instance weights: (array([0.61830713, 0.95430249, 2.98690221]), array([29260, 18958,  6057]))\n",
      "Start training model for fold 3...\n",
      "[0]\ttrain-avgRecall:0.37202\tvalidate-avgRecall:0.28826\n",
      "[200]\ttrain-avgRecall:0.63978\tvalidate-avgRecall:0.36143\n",
      "[400]\ttrain-avgRecall:0.69918\tvalidate-avgRecall:0.37062\n",
      "[582]\ttrain-avgRecall:0.72129\tvalidate-avgRecall:0.37302\n",
      "Predicting for fold 3...\n"
     ]
    },
    {
     "name": "stderr",
     "output_type": "stream",
     "text": [
      "\u001b[32m[I 2023-01-03 22:12:43,536]\u001b[0m Trial 22 finished with value: 0.3603849635434114 and parameters: {'learning_rate': 0.1822500389560321, 'gamma': 1, 'max_delta_step': 9, 'lambda': 100, 'alpha': 10, 'colsample_bylevel': 0.6, 'colsample_bynode': 0.6, 'colsample_bytree': 1.0, 'subsample': 0.6, 'max_depth': 11, 'num_feat': 60, 'step': 0.3, 'num_boost_round': 1200}. Best is trial 22 with value: 0.3603849635434114.\u001b[0m\n"
     ]
    },
    {
     "name": "stdout",
     "output_type": "stream",
     "text": [
      "Weighted average recall scores for class 0 and 1 averaged across all folds: 0.3603849635434114\n",
      "Start processing fold 1...\n",
      "Class distribution: (array([0, 1, 2]), array([ 6056, 18957, 29261]))\n",
      "Class instance weights: (array([0.61827461, 0.95433525, 2.98734038]), array([29261, 18957,  6056]))\n",
      "Start training model for fold 1...\n",
      "[0]\ttrain-avgRecall:0.36489\tvalidate-avgRecall:0.28366\n",
      "[200]\ttrain-avgRecall:0.61084\tvalidate-avgRecall:0.33794\n",
      "[400]\ttrain-avgRecall:0.67617\tvalidate-avgRecall:0.35433\n",
      "[546]\ttrain-avgRecall:0.69932\tvalidate-avgRecall:0.35737\n",
      "Predicting for fold 1...\n",
      "Start processing fold 2...\n",
      "Class distribution: (array([0, 1, 2]), array([ 6057, 18957, 29261]))\n",
      "Class instance weights: (array([0.618286  , 0.95435283, 2.98690221]), array([29261, 18957,  6057]))\n",
      "Start training model for fold 2...\n",
      "[0]\ttrain-avgRecall:0.36551\tvalidate-avgRecall:0.26249\n",
      "[200]\ttrain-avgRecall:0.60998\tvalidate-avgRecall:0.32502\n",
      "[400]\ttrain-avgRecall:0.67358\tvalidate-avgRecall:0.33093\n",
      "[461]\ttrain-avgRecall:0.68342\tvalidate-avgRecall:0.32766\n",
      "Predicting for fold 2...\n",
      "Start processing fold 3...\n",
      "Class distribution: (array([0, 1, 2]), array([ 6057, 18958, 29260]))\n",
      "Class instance weights: (array([0.61830713, 0.95430249, 2.98690221]), array([29260, 18958,  6057]))\n",
      "Start training model for fold 3...\n",
      "[0]\ttrain-avgRecall:0.37202\tvalidate-avgRecall:0.28826\n",
      "[200]\ttrain-avgRecall:0.60876\tvalidate-avgRecall:0.35359\n",
      "[400]\ttrain-avgRecall:0.67539\tvalidate-avgRecall:0.36558\n",
      "[600]\ttrain-avgRecall:0.70338\tvalidate-avgRecall:0.36766\n",
      "[768]\ttrain-avgRecall:0.71629\tvalidate-avgRecall:0.36974\n",
      "Predicting for fold 3...\n"
     ]
    },
    {
     "name": "stderr",
     "output_type": "stream",
     "text": [
      "\u001b[32m[I 2023-01-03 22:15:50,660]\u001b[0m Trial 23 finished with value: 0.35167006772543546 and parameters: {'learning_rate': 0.1337073664368878, 'gamma': 1, 'max_delta_step': 9, 'lambda': 100, 'alpha': 10, 'colsample_bylevel': 0.6, 'colsample_bynode': 0.6, 'colsample_bytree': 1.0, 'subsample': 0.6, 'max_depth': 11, 'num_feat': 60, 'step': 0.3, 'num_boost_round': 1200}. Best is trial 22 with value: 0.3603849635434114.\u001b[0m\n"
     ]
    },
    {
     "name": "stdout",
     "output_type": "stream",
     "text": [
      "Weighted average recall scores for class 0 and 1 averaged across all folds: 0.35167006772543546\n",
      "Start processing fold 1...\n",
      "Class distribution: (array([0, 1, 2]), array([ 6056, 18957, 29261]))\n",
      "Class instance weights: (array([0.61827461, 0.95433525, 2.98734038]), array([29261, 18957,  6056]))\n",
      "Start training model for fold 1...\n",
      "[0]\ttrain-avgRecall:0.36749\tvalidate-avgRecall:0.28214\n",
      "[200]\ttrain-avgRecall:0.62068\tvalidate-avgRecall:0.33331\n",
      "[400]\ttrain-avgRecall:0.68153\tvalidate-avgRecall:0.34554\n",
      "[535]\ttrain-avgRecall:0.70431\tvalidate-avgRecall:0.34618\n",
      "Predicting for fold 1...\n",
      "Start processing fold 2...\n",
      "Class distribution: (array([0, 1, 2]), array([ 6057, 18957, 29261]))\n",
      "Class instance weights: (array([0.618286  , 0.95435283, 2.98690221]), array([29261, 18957,  6057]))\n",
      "Start training model for fold 2...\n",
      "[0]\ttrain-avgRecall:0.37491\tvalidate-avgRecall:0.28544\n",
      "[200]\ttrain-avgRecall:0.61494\tvalidate-avgRecall:0.33453\n",
      "[400]\ttrain-avgRecall:0.67982\tvalidate-avgRecall:0.34820\n",
      "[557]\ttrain-avgRecall:0.70357\tvalidate-avgRecall:0.34996\n",
      "Predicting for fold 2...\n",
      "Start processing fold 3...\n",
      "Class distribution: (array([0, 1, 2]), array([ 6057, 18958, 29260]))\n",
      "Class instance weights: (array([0.61830713, 0.95430249, 2.98690221]), array([29260, 18958,  6057]))\n",
      "Start training model for fold 3...\n",
      "[0]\ttrain-avgRecall:0.35855\tvalidate-avgRecall:0.27659\n",
      "[200]\ttrain-avgRecall:0.61591\tvalidate-avgRecall:0.35495\n",
      "[400]\ttrain-avgRecall:0.68575\tvalidate-avgRecall:0.36822\n",
      "[600]\ttrain-avgRecall:0.71417\tvalidate-avgRecall:0.37982\n",
      "[705]\ttrain-avgRecall:0.72365\tvalidate-avgRecall:0.37894\n",
      "Predicting for fold 3...\n"
     ]
    },
    {
     "name": "stderr",
     "output_type": "stream",
     "text": [
      "\u001b[32m[I 2023-01-03 22:19:07,923]\u001b[0m Trial 24 finished with value: 0.35857338877090833 and parameters: {'learning_rate': 0.13500130616395373, 'gamma': 1, 'max_delta_step': 8, 'lambda': 100, 'alpha': 10, 'colsample_bylevel': 0.6, 'colsample_bynode': 0.6, 'colsample_bytree': 1.0, 'subsample': 0.6, 'max_depth': 11, 'num_feat': 80, 'step': 0.3, 'num_boost_round': 1100}. Best is trial 22 with value: 0.3603849635434114.\u001b[0m\n"
     ]
    },
    {
     "name": "stdout",
     "output_type": "stream",
     "text": [
      "Weighted average recall scores for class 0 and 1 averaged across all folds: 0.35857338877090833\n",
      "Start processing fold 1...\n",
      "Class distribution: (array([0, 1, 2]), array([ 6056, 18957, 29261]))\n",
      "Class instance weights: (array([0.61827461, 0.95433525, 2.98734038]), array([29261, 18957,  6056]))\n",
      "Start training model for fold 1...\n",
      "[0]\ttrain-avgRecall:0.36749\tvalidate-avgRecall:0.28214\n",
      "[200]\ttrain-avgRecall:0.61760\tvalidate-avgRecall:0.33075\n",
      "[266]\ttrain-avgRecall:0.64506\tvalidate-avgRecall:0.33027\n",
      "Predicting for fold 1...\n",
      "Start processing fold 2...\n",
      "Class distribution: (array([0, 1, 2]), array([ 6057, 18957, 29261]))\n",
      "Class instance weights: (array([0.618286  , 0.95435283, 2.98690221]), array([29261, 18957,  6057]))\n",
      "Start training model for fold 2...\n",
      "[0]\ttrain-avgRecall:0.37491\tvalidate-avgRecall:0.28544\n",
      "[200]\ttrain-avgRecall:0.61677\tvalidate-avgRecall:0.33677\n",
      "[400]\ttrain-avgRecall:0.68102\tvalidate-avgRecall:0.34845\n",
      "[600]\ttrain-avgRecall:0.71252\tvalidate-avgRecall:0.35612\n",
      "[705]\ttrain-avgRecall:0.72311\tvalidate-avgRecall:0.35460\n",
      "Predicting for fold 2...\n",
      "Start processing fold 3...\n",
      "Class distribution: (array([0, 1, 2]), array([ 6057, 18958, 29260]))\n",
      "Class instance weights: (array([0.61830713, 0.95430249, 2.98690221]), array([29260, 18958,  6057]))\n",
      "Start training model for fold 3...\n",
      "[0]\ttrain-avgRecall:0.35855\tvalidate-avgRecall:0.27659\n",
      "[200]\ttrain-avgRecall:0.61127\tvalidate-avgRecall:0.35367\n",
      "[400]\ttrain-avgRecall:0.68107\tvalidate-avgRecall:0.36574\n",
      "[600]\ttrain-avgRecall:0.70913\tvalidate-avgRecall:0.36774\n",
      "[608]\ttrain-avgRecall:0.70925\tvalidate-avgRecall:0.36726\n",
      "Predicting for fold 3...\n"
     ]
    },
    {
     "name": "stderr",
     "output_type": "stream",
     "text": [
      "\u001b[32m[I 2023-01-03 22:22:03,029]\u001b[0m Trial 25 finished with value: 0.3507379087723397 and parameters: {'learning_rate': 0.13261150834935778, 'gamma': 1, 'max_delta_step': 9, 'lambda': 100, 'alpha': 10, 'colsample_bylevel': 0.6, 'colsample_bynode': 0.6, 'colsample_bytree': 1.0, 'subsample': 0.6, 'max_depth': 11, 'num_feat': 80, 'step': 0.3, 'num_boost_round': 1200}. Best is trial 22 with value: 0.3603849635434114.\u001b[0m\n"
     ]
    },
    {
     "name": "stdout",
     "output_type": "stream",
     "text": [
      "Weighted average recall scores for class 0 and 1 averaged across all folds: 0.3507379087723397\n",
      "Start processing fold 1...\n",
      "Class distribution: (array([0, 1, 2]), array([ 6056, 18957, 29261]))\n",
      "Class instance weights: (array([0.61827461, 0.95433525, 2.98734038]), array([29261, 18957,  6056]))\n",
      "Start training model for fold 1...\n",
      "[0]\ttrain-avgRecall:0.32995\tvalidate-avgRecall:0.25704\n",
      "[102]\ttrain-avgRecall:0.44693\tvalidate-avgRecall:0.28614\n",
      "Predicting for fold 1...\n",
      "Start processing fold 2...\n",
      "Class distribution: (array([0, 1, 2]), array([ 6057, 18957, 29261]))\n",
      "Class instance weights: (array([0.618286  , 0.95435283, 2.98690221]), array([29261, 18957,  6057]))\n",
      "Start training model for fold 2...\n",
      "[0]\ttrain-avgRecall:0.34697\tvalidate-avgRecall:0.25938\n",
      "[200]\ttrain-avgRecall:0.45990\tvalidate-avgRecall:0.30871\n",
      "[400]\ttrain-avgRecall:0.47793\tvalidate-avgRecall:0.31271\n",
      "[482]\ttrain-avgRecall:0.48233\tvalidate-avgRecall:0.31199\n",
      "Predicting for fold 2...\n",
      "Start processing fold 3...\n",
      "Class distribution: (array([0, 1, 2]), array([ 6057, 18958, 29260]))\n",
      "Class instance weights: (array([0.61830713, 0.95430249, 2.98690221]), array([29260, 18958,  6057]))\n",
      "Start training model for fold 3...\n",
      "[0]\ttrain-avgRecall:0.37789\tvalidate-avgRecall:0.30425\n",
      "[200]\ttrain-avgRecall:0.46872\tvalidate-avgRecall:0.32792\n",
      "[282]\ttrain-avgRecall:0.47867\tvalidate-avgRecall:0.32968\n"
     ]
    },
    {
     "name": "stderr",
     "output_type": "stream",
     "text": [
      "\u001b[32m[I 2023-01-03 22:23:43,631]\u001b[0m Trial 26 finished with value: 0.30926797113297505 and parameters: {'learning_rate': 0.1651401644222624, 'gamma': 3, 'max_delta_step': 8, 'lambda': 100, 'alpha': 10, 'colsample_bylevel': 0.6, 'colsample_bynode': 0.6, 'colsample_bytree': 1.0, 'subsample': 0.6, 'max_depth': 11, 'num_feat': 80, 'step': 0.3, 'num_boost_round': 1200}. Best is trial 22 with value: 0.3603849635434114.\u001b[0m\n"
     ]
    },
    {
     "name": "stdout",
     "output_type": "stream",
     "text": [
      "Predicting for fold 3...\n",
      "Weighted average recall scores for class 0 and 1 averaged across all folds: 0.30926797113297505\n",
      "Start processing fold 1...\n",
      "Class distribution: (array([0, 1, 2]), array([ 6056, 18957, 29261]))\n",
      "Class instance weights: (array([0.61827461, 0.95433525, 2.98734038]), array([29261, 18957,  6056]))\n",
      "Start training model for fold 1...\n",
      "[0]\ttrain-avgRecall:0.29653\tvalidate-avgRecall:0.26415\n",
      "[200]\ttrain-avgRecall:0.43521\tvalidate-avgRecall:0.29253\n",
      "[400]\ttrain-avgRecall:0.47019\tvalidate-avgRecall:0.30788\n",
      "[600]\ttrain-avgRecall:0.49926\tvalidate-avgRecall:0.32123\n",
      "[798]\ttrain-avgRecall:0.52417\tvalidate-avgRecall:0.32707\n",
      "Predicting for fold 1...\n",
      "Start processing fold 2...\n",
      "Class distribution: (array([0, 1, 2]), array([ 6057, 18957, 29261]))\n",
      "Class instance weights: (array([0.618286  , 0.95435283, 2.98690221]), array([29261, 18957,  6057]))\n",
      "Start training model for fold 2...\n",
      "[0]\ttrain-avgRecall:0.29747\tvalidate-avgRecall:0.21108\n",
      "[200]\ttrain-avgRecall:0.43284\tvalidate-avgRecall:0.29719\n",
      "[400]\ttrain-avgRecall:0.46722\tvalidate-avgRecall:0.31422\n",
      "[600]\ttrain-avgRecall:0.49568\tvalidate-avgRecall:0.32222\n",
      "[687]\ttrain-avgRecall:0.50580\tvalidate-avgRecall:0.32230\n",
      "Predicting for fold 2...\n",
      "Start processing fold 3...\n",
      "Class distribution: (array([0, 1, 2]), array([ 6057, 18958, 29260]))\n",
      "Class instance weights: (array([0.61830713, 0.95430249, 2.98690221]), array([29260, 18958,  6057]))\n",
      "Start training model for fold 3...\n",
      "[0]\ttrain-avgRecall:0.38461\tvalidate-avgRecall:0.33360\n",
      "[99]\ttrain-avgRecall:0.40891\tvalidate-avgRecall:0.30617\n"
     ]
    },
    {
     "name": "stderr",
     "output_type": "stream",
     "text": [
      "\u001b[32m[I 2023-01-03 22:26:25,277]\u001b[0m Trial 27 finished with value: 0.3184611002488989 and parameters: {'learning_rate': 0.1219169312508776, 'gamma': 1, 'max_delta_step': 9, 'lambda': 100, 'alpha': 10, 'colsample_bylevel': 0.6, 'colsample_bynode': 0.6, 'colsample_bytree': 1.0, 'subsample': 0.6, 'max_depth': 4, 'num_feat': 80, 'step': 0.3, 'num_boost_round': 1000}. Best is trial 22 with value: 0.3603849635434114.\u001b[0m\n"
     ]
    },
    {
     "name": "stdout",
     "output_type": "stream",
     "text": [
      "Predicting for fold 3...\n",
      "Weighted average recall scores for class 0 and 1 averaged across all folds: 0.3184611002488989\n",
      "Start processing fold 1...\n",
      "Class distribution: (array([0, 1, 2]), array([ 6056, 18957, 29261]))\n",
      "Class instance weights: (array([0.61827461, 0.95433525, 2.98734038]), array([29261, 18957,  6056]))\n",
      "Start training model for fold 1...\n",
      "[0]\ttrain-avgRecall:0.39048\tvalidate-avgRecall:0.28742\n",
      "[200]\ttrain-avgRecall:0.83229\tvalidate-avgRecall:0.35321\n",
      "[310]\ttrain-avgRecall:0.90365\tvalidate-avgRecall:0.35689\n",
      "Predicting for fold 1...\n",
      "Start processing fold 2...\n",
      "Class distribution: (array([0, 1, 2]), array([ 6057, 18957, 29261]))\n",
      "Class instance weights: (array([0.618286  , 0.95435283, 2.98690221]), array([29261, 18957,  6057]))\n",
      "Start training model for fold 2...\n",
      "[0]\ttrain-avgRecall:0.38207\tvalidate-avgRecall:0.27145\n",
      "[200]\ttrain-avgRecall:0.83537\tvalidate-avgRecall:0.34333\n",
      "[347]\ttrain-avgRecall:0.92080\tvalidate-avgRecall:0.34349\n",
      "Predicting for fold 2...\n",
      "Start processing fold 3...\n",
      "Class distribution: (array([0, 1, 2]), array([ 6057, 18958, 29260]))\n",
      "Class instance weights: (array([0.61830713, 0.95430249, 2.98690221]), array([29260, 18958,  6057]))\n",
      "Start training model for fold 3...\n",
      "[0]\ttrain-avgRecall:0.37262\tvalidate-avgRecall:0.29498\n",
      "[200]\ttrain-avgRecall:0.82774\tvalidate-avgRecall:0.34799\n",
      "[285]\ttrain-avgRecall:0.88799\tvalidate-avgRecall:0.34711\n",
      "Predicting for fold 3...\n"
     ]
    },
    {
     "name": "stderr",
     "output_type": "stream",
     "text": [
      "\u001b[32m[I 2023-01-03 22:29:11,533]\u001b[0m Trial 28 finished with value: 0.3491642072918151 and parameters: {'learning_rate': 0.16388919087999881, 'gamma': 0, 'max_delta_step': 7, 'lambda': 100, 'alpha': 1, 'colsample_bylevel': 0.6, 'colsample_bynode': 0.6, 'colsample_bytree': 1.0, 'subsample': 0.6, 'max_depth': 11, 'num_feat': 80, 'step': 0.3, 'num_boost_round': 900}. Best is trial 22 with value: 0.3603849635434114.\u001b[0m\n"
     ]
    },
    {
     "name": "stdout",
     "output_type": "stream",
     "text": [
      "Weighted average recall scores for class 0 and 1 averaged across all folds: 0.3491642072918151\n",
      "Start processing fold 1...\n",
      "Class distribution: (array([0, 1, 2]), array([ 6056, 18957, 29261]))\n",
      "Class instance weights: (array([0.61827461, 0.95433525, 2.98734038]), array([29261, 18957,  6056]))\n",
      "Start training model for fold 1...\n",
      "[0]\ttrain-avgRecall:0.29401\tvalidate-avgRecall:0.21035\n",
      "[200]\ttrain-avgRecall:0.36485\tvalidate-avgRecall:0.26407\n",
      "[400]\ttrain-avgRecall:0.37616\tvalidate-avgRecall:0.26575\n",
      "[600]\ttrain-avgRecall:0.38436\tvalidate-avgRecall:0.27183\n",
      "[800]\ttrain-avgRecall:0.39080\tvalidate-avgRecall:0.27582\n",
      "[1000]\ttrain-avgRecall:0.39332\tvalidate-avgRecall:0.27550\n",
      "[1021]\ttrain-avgRecall:0.39455\tvalidate-avgRecall:0.27646\n",
      "Predicting for fold 1...\n",
      "Start processing fold 2...\n",
      "Class distribution: (array([0, 1, 2]), array([ 6057, 18957, 29261]))\n",
      "Class instance weights: (array([0.618286  , 0.95435283, 2.98690221]), array([29261, 18957,  6057]))\n",
      "Start training model for fold 2...\n",
      "[0]\ttrain-avgRecall:0.36412\tvalidate-avgRecall:0.26841\n",
      "[100]\ttrain-avgRecall:0.34541\tvalidate-avgRecall:0.25658\n",
      "Predicting for fold 2...\n",
      "Start processing fold 3...\n",
      "Class distribution: (array([0, 1, 2]), array([ 6057, 18958, 29260]))\n",
      "Class instance weights: (array([0.61830713, 0.95430249, 2.98690221]), array([29260, 18958,  6057]))\n",
      "Start training model for fold 3...\n",
      "[0]\ttrain-avgRecall:0.37689\tvalidate-avgRecall:0.27955\n",
      "[100]\ttrain-avgRecall:0.35727\tvalidate-avgRecall:0.27131\n"
     ]
    },
    {
     "name": "stderr",
     "output_type": "stream",
     "text": [
      "\u001b[32m[I 2023-01-03 22:31:35,849]\u001b[0m Trial 29 finished with value: 0.2681163840704584 and parameters: {'learning_rate': 0.08881506003071415, 'gamma': 0, 'max_delta_step': 9, 'lambda': 1, 'alpha': 100, 'colsample_bylevel': 0.6, 'colsample_bynode': 0.8, 'colsample_bytree': 0.6, 'subsample': 0.6, 'max_depth': 3, 'num_feat': 80, 'step': 0.3, 'num_boost_round': 1200}. Best is trial 22 with value: 0.3603849635434114.\u001b[0m\n"
     ]
    },
    {
     "name": "stdout",
     "output_type": "stream",
     "text": [
      "Predicting for fold 3...\n",
      "Weighted average recall scores for class 0 and 1 averaged across all folds: 0.2681163840704584\n",
      "Start processing fold 1...\n",
      "Class distribution: (array([0, 1, 2]), array([ 6056, 18957, 29261]))\n",
      "Class instance weights: (array([0.61827461, 0.95433525, 2.98734038]), array([29261, 18957,  6056]))\n",
      "Start training model for fold 1...\n",
      "[0]\ttrain-avgRecall:0.34306\tvalidate-avgRecall:0.23201\n",
      "[199]\ttrain-avgRecall:0.35825\tvalidate-avgRecall:0.27294\n",
      "Predicting for fold 1...\n",
      "Start processing fold 2...\n",
      "Class distribution: (array([0, 1, 2]), array([ 6057, 18957, 29261]))\n",
      "Class instance weights: (array([0.618286  , 0.95435283, 2.98690221]), array([29261, 18957,  6057]))\n",
      "Start training model for fold 2...\n",
      "[0]\ttrain-avgRecall:0.28696\tvalidate-avgRecall:0.22691\n",
      "[200]\ttrain-avgRecall:0.35344\tvalidate-avgRecall:0.26225\n",
      "[308]\ttrain-avgRecall:0.35188\tvalidate-avgRecall:0.25914\n",
      "Predicting for fold 2...\n",
      "Start processing fold 3...\n",
      "Class distribution: (array([0, 1, 2]), array([ 6057, 18958, 29260]))\n",
      "Class instance weights: (array([0.61830713, 0.95430249, 2.98690221]), array([29260, 18958,  6057]))\n",
      "Start training model for fold 3...\n",
      "[0]\ttrain-avgRecall:0.27340\tvalidate-avgRecall:0.21470\n",
      "[103]\ttrain-avgRecall:0.35851\tvalidate-avgRecall:0.27571\n"
     ]
    },
    {
     "name": "stderr",
     "output_type": "stream",
     "text": [
      "\u001b[32m[I 2023-01-03 22:32:59,249]\u001b[0m Trial 30 finished with value: 0.26912937613568816 and parameters: {'learning_rate': 0.20152498987779452, 'gamma': 5, 'max_delta_step': 6, 'lambda': 100, 'alpha': 100, 'colsample_bylevel': 0.9, 'colsample_bynode': 0.5, 'colsample_bytree': 0.5, 'subsample': 0.5, 'max_depth': 11, 'num_feat': 70, 'step': 0.3, 'num_boost_round': 1300}. Best is trial 22 with value: 0.3603849635434114.\u001b[0m\n"
     ]
    },
    {
     "name": "stdout",
     "output_type": "stream",
     "text": [
      "Predicting for fold 3...\n",
      "Weighted average recall scores for class 0 and 1 averaged across all folds: 0.26912937613568816\n",
      "Start processing fold 1...\n",
      "Class distribution: (array([0, 1, 2]), array([ 6056, 18957, 29261]))\n",
      "Class instance weights: (array([0.61827461, 0.95433525, 2.98734038]), array([29261, 18957,  6056]))\n",
      "Start training model for fold 1...\n",
      "[0]\ttrain-avgRecall:0.36749\tvalidate-avgRecall:0.28214\n",
      "[200]\ttrain-avgRecall:0.61452\tvalidate-avgRecall:0.32587\n",
      "[400]\ttrain-avgRecall:0.68005\tvalidate-avgRecall:0.33986\n",
      "[593]\ttrain-avgRecall:0.70819\tvalidate-avgRecall:0.34218\n",
      "Predicting for fold 1...\n",
      "Start processing fold 2...\n",
      "Class distribution: (array([0, 1, 2]), array([ 6057, 18957, 29261]))\n",
      "Class instance weights: (array([0.618286  , 0.95435283, 2.98690221]), array([29261, 18957,  6057]))\n",
      "Start training model for fold 2...\n",
      "[0]\ttrain-avgRecall:0.37491\tvalidate-avgRecall:0.28544\n",
      "[200]\ttrain-avgRecall:0.60954\tvalidate-avgRecall:0.32878\n",
      "[400]\ttrain-avgRecall:0.67878\tvalidate-avgRecall:0.34077\n",
      "[600]\ttrain-avgRecall:0.70656\tvalidate-avgRecall:0.34541\n",
      "[638]\ttrain-avgRecall:0.70976\tvalidate-avgRecall:0.34525\n",
      "Predicting for fold 2...\n",
      "Start processing fold 3...\n",
      "Class distribution: (array([0, 1, 2]), array([ 6057, 18958, 29260]))\n",
      "Class instance weights: (array([0.61830713, 0.95430249, 2.98690221]), array([29260, 18958,  6057]))\n",
      "Start training model for fold 3...\n",
      "[0]\ttrain-avgRecall:0.35855\tvalidate-avgRecall:0.27659\n",
      "[200]\ttrain-avgRecall:0.61075\tvalidate-avgRecall:0.34200\n",
      "[380]\ttrain-avgRecall:0.67811\tvalidate-avgRecall:0.34607\n",
      "Predicting for fold 3...\n"
     ]
    },
    {
     "name": "stderr",
     "output_type": "stream",
     "text": [
      "\u001b[32m[I 2023-01-03 22:36:11,352]\u001b[0m Trial 31 finished with value: 0.34434059361719216 and parameters: {'learning_rate': 0.1298890557666894, 'gamma': 1, 'max_delta_step': 9, 'lambda': 100, 'alpha': 10, 'colsample_bylevel': 0.6, 'colsample_bynode': 0.6, 'colsample_bytree': 1.0, 'subsample': 0.6, 'max_depth': 11, 'num_feat': 80, 'step': 0.3, 'num_boost_round': 1100}. Best is trial 22 with value: 0.3603849635434114.\u001b[0m\n"
     ]
    },
    {
     "name": "stdout",
     "output_type": "stream",
     "text": [
      "Weighted average recall scores for class 0 and 1 averaged across all folds: 0.34434059361719216\n",
      "Start processing fold 1...\n",
      "Class distribution: (array([0, 1, 2]), array([ 6056, 18957, 29261]))\n",
      "Class instance weights: (array([0.61827461, 0.95433525, 2.98734038]), array([29261, 18957,  6056]))\n",
      "Start training model for fold 1...\n",
      "[0]\ttrain-avgRecall:0.36749\tvalidate-avgRecall:0.28214\n",
      "[200]\ttrain-avgRecall:0.63175\tvalidate-avgRecall:0.33483\n",
      "[400]\ttrain-avgRecall:0.69456\tvalidate-avgRecall:0.34826\n",
      "[600]\ttrain-avgRecall:0.72118\tvalidate-avgRecall:0.35137\n",
      "[603]\ttrain-avgRecall:0.72135\tvalidate-avgRecall:0.35130\n",
      "Predicting for fold 1...\n",
      "Start processing fold 2...\n",
      "Class distribution: (array([0, 1, 2]), array([ 6057, 18957, 29261]))\n",
      "Class instance weights: (array([0.618286  , 0.95435283, 2.98690221]), array([29261, 18957,  6057]))\n",
      "Start training model for fold 2...\n",
      "[0]\ttrain-avgRecall:0.37491\tvalidate-avgRecall:0.28544\n",
      "[200]\ttrain-avgRecall:0.62889\tvalidate-avgRecall:0.33245\n",
      "[400]\ttrain-avgRecall:0.69141\tvalidate-avgRecall:0.34333\n",
      "[600]\ttrain-avgRecall:0.71904\tvalidate-avgRecall:0.35140\n",
      "[800]\ttrain-avgRecall:0.73367\tvalidate-avgRecall:0.35284\n",
      "[823]\ttrain-avgRecall:0.73447\tvalidate-avgRecall:0.35380\n",
      "Predicting for fold 2...\n",
      "Start processing fold 3...\n",
      "Class distribution: (array([0, 1, 2]), array([ 6057, 18958, 29260]))\n",
      "Class instance weights: (array([0.61830713, 0.95430249, 2.98690221]), array([29260, 18958,  6057]))\n",
      "Start training model for fold 3...\n",
      "[0]\ttrain-avgRecall:0.35855\tvalidate-avgRecall:0.27659\n",
      "[200]\ttrain-avgRecall:0.62662\tvalidate-avgRecall:0.35511\n",
      "[400]\ttrain-avgRecall:0.69270\tvalidate-avgRecall:0.36151\n",
      "[481]\ttrain-avgRecall:0.70546\tvalidate-avgRecall:0.36414\n",
      "Predicting for fold 3...\n"
     ]
    },
    {
     "name": "stderr",
     "output_type": "stream",
     "text": [
      "\u001b[32m[I 2023-01-03 22:39:20,290]\u001b[0m Trial 32 finished with value: 0.3563341288888678 and parameters: {'learning_rate': 0.15239568358462383, 'gamma': 1, 'max_delta_step': 8, 'lambda': 100, 'alpha': 10, 'colsample_bylevel': 0.6, 'colsample_bynode': 0.6, 'colsample_bytree': 1.0, 'subsample': 0.6, 'max_depth': 11, 'num_feat': 80, 'step': 0.3, 'num_boost_round': 1200}. Best is trial 22 with value: 0.3603849635434114.\u001b[0m\n"
     ]
    },
    {
     "name": "stdout",
     "output_type": "stream",
     "text": [
      "Weighted average recall scores for class 0 and 1 averaged across all folds: 0.3563341288888678\n",
      "Start processing fold 1...\n",
      "Class distribution: (array([0, 1, 2]), array([ 6056, 18957, 29261]))\n",
      "Class instance weights: (array([0.61827461, 0.95433525, 2.98734038]), array([29261, 18957,  6056]))\n",
      "Start training model for fold 1...\n",
      "[0]\ttrain-avgRecall:0.40051\tvalidate-avgRecall:0.32171\n",
      "[200]\ttrain-avgRecall:0.72454\tvalidate-avgRecall:0.33978\n",
      "[394]\ttrain-avgRecall:0.82813\tvalidate-avgRecall:0.34530\n",
      "Predicting for fold 1...\n",
      "Start processing fold 2...\n",
      "Class distribution: (array([0, 1, 2]), array([ 6057, 18957, 29261]))\n",
      "Class instance weights: (array([0.618286  , 0.95435283, 2.98690221]), array([29261, 18957,  6057]))\n",
      "Start training model for fold 2...\n",
      "[0]\ttrain-avgRecall:0.37123\tvalidate-avgRecall:0.26105\n",
      "[200]\ttrain-avgRecall:0.72208\tvalidate-avgRecall:0.34813\n",
      "[400]\ttrain-avgRecall:0.83233\tvalidate-avgRecall:0.36276\n",
      "[482]\ttrain-avgRecall:0.85824\tvalidate-avgRecall:0.36044\n",
      "Predicting for fold 2...\n",
      "Start processing fold 3...\n",
      "Class distribution: (array([0, 1, 2]), array([ 6057, 18958, 29260]))\n",
      "Class instance weights: (array([0.61830713, 0.95430249, 2.98690221]), array([29260, 18958,  6057]))\n",
      "Start training model for fold 3...\n",
      "[0]\ttrain-avgRecall:0.36546\tvalidate-avgRecall:0.28698\n",
      "[200]\ttrain-avgRecall:0.72505\tvalidate-avgRecall:0.34935\n",
      "[319]\ttrain-avgRecall:0.79912\tvalidate-avgRecall:0.34951\n",
      "Predicting for fold 3...\n"
     ]
    },
    {
     "name": "stderr",
     "output_type": "stream",
     "text": [
      "\u001b[32m[I 2023-01-03 22:42:23,033]\u001b[0m Trial 33 finished with value: 0.35193633362358856 and parameters: {'learning_rate': 0.1555775583127702, 'gamma': 0, 'max_delta_step': 8, 'lambda': 100, 'alpha': 10, 'colsample_bylevel': 0.6, 'colsample_bynode': 0.6, 'colsample_bytree': 1.0, 'subsample': 0.6, 'max_depth': 11, 'num_feat': 80, 'step': 0.3, 'num_boost_round': 1100}. Best is trial 22 with value: 0.3603849635434114.\u001b[0m\n"
     ]
    },
    {
     "name": "stdout",
     "output_type": "stream",
     "text": [
      "Weighted average recall scores for class 0 and 1 averaged across all folds: 0.35193633362358856\n",
      "Start processing fold 1...\n",
      "Class distribution: (array([0, 1, 2]), array([ 6056, 18957, 29261]))\n",
      "Class instance weights: (array([0.61827461, 0.95433525, 2.98734038]), array([29261, 18957,  6056]))\n",
      "Start training model for fold 1...\n",
      "[0]\ttrain-avgRecall:0.34506\tvalidate-avgRecall:0.27326\n",
      "[200]\ttrain-avgRecall:0.59525\tvalidate-avgRecall:0.34274\n",
      "[400]\ttrain-avgRecall:0.70831\tvalidate-avgRecall:0.35401\n",
      "[600]\ttrain-avgRecall:0.77819\tvalidate-avgRecall:0.36089\n",
      "[800]\ttrain-avgRecall:0.82625\tvalidate-avgRecall:0.36673\n",
      "[889]\ttrain-avgRecall:0.84388\tvalidate-avgRecall:0.36385\n",
      "Predicting for fold 1...\n",
      "Start processing fold 2...\n",
      "Class distribution: (array([0, 1, 2]), array([ 6057, 18957, 29261]))\n",
      "Class instance weights: (array([0.618286  , 0.95435283, 2.98690221]), array([29261, 18957,  6057]))\n",
      "Start training model for fold 2...\n",
      "[0]\ttrain-avgRecall:0.35968\tvalidate-avgRecall:0.27616\n",
      "[200]\ttrain-avgRecall:0.59667\tvalidate-avgRecall:0.30975\n",
      "[400]\ttrain-avgRecall:0.70768\tvalidate-avgRecall:0.31334\n",
      "[600]\ttrain-avgRecall:0.78076\tvalidate-avgRecall:0.31702\n",
      "[640]\ttrain-avgRecall:0.79419\tvalidate-avgRecall:0.31758\n",
      "Predicting for fold 2...\n",
      "Start processing fold 3...\n",
      "Class distribution: (array([0, 1, 2]), array([ 6057, 18958, 29260]))\n",
      "Class instance weights: (array([0.61830713, 0.95430249, 2.98690221]), array([29260, 18958,  6057]))\n",
      "Start training model for fold 3...\n",
      "[0]\ttrain-avgRecall:0.37621\tvalidate-avgRecall:0.29378\n",
      "[200]\ttrain-avgRecall:0.59704\tvalidate-avgRecall:0.34943\n",
      "[378]\ttrain-avgRecall:0.70106\tvalidate-avgRecall:0.35343\n",
      "Predicting for fold 3...\n"
     ]
    },
    {
     "name": "stderr",
     "output_type": "stream",
     "text": [
      "\u001b[32m[I 2023-01-03 22:46:07,378]\u001b[0m Trial 34 finished with value: 0.34484660811853624 and parameters: {'learning_rate': 0.15498659434455817, 'gamma': 0, 'max_delta_step': 8, 'lambda': 100, 'alpha': 10, 'colsample_bylevel': 1.0, 'colsample_bynode': 0.8, 'colsample_bytree': 1.0, 'subsample': 0.9, 'max_depth': 7, 'num_feat': 80, 'step': 0.2, 'num_boost_round': 900}. Best is trial 22 with value: 0.3603849635434114.\u001b[0m\n"
     ]
    },
    {
     "name": "stdout",
     "output_type": "stream",
     "text": [
      "Weighted average recall scores for class 0 and 1 averaged across all folds: 0.34484660811853624\n",
      "Start processing fold 1...\n",
      "Class distribution: (array([0, 1, 2]), array([ 6056, 18957, 29261]))\n",
      "Class instance weights: (array([0.61827461, 0.95433525, 2.98734038]), array([29261, 18957,  6056]))\n",
      "Start training model for fold 1...\n",
      "[0]\ttrain-avgRecall:0.37876\tvalidate-avgRecall:0.28270\n",
      "[200]\ttrain-avgRecall:0.79279\tvalidate-avgRecall:0.34362\n",
      "[394]\ttrain-avgRecall:0.88174\tvalidate-avgRecall:0.34586\n",
      "Predicting for fold 1...\n",
      "Start processing fold 2...\n",
      "Class distribution: (array([0, 1, 2]), array([ 6057, 18957, 29261]))\n",
      "Class instance weights: (array([0.618286  , 0.95435283, 2.98690221]), array([29261, 18957,  6057]))\n",
      "Start training model for fold 2...\n",
      "[0]\ttrain-avgRecall:0.36847\tvalidate-avgRecall:0.27577\n",
      "[200]\ttrain-avgRecall:0.78824\tvalidate-avgRecall:0.35004\n",
      "[343]\ttrain-avgRecall:0.86827\tvalidate-avgRecall:0.35228\n",
      "Predicting for fold 2...\n",
      "Start processing fold 3...\n",
      "Class distribution: (array([0, 1, 2]), array([ 6057, 18958, 29260]))\n",
      "Class instance weights: (array([0.61830713, 0.95430249, 2.98690221]), array([29260, 18958,  6057]))\n",
      "Start training model for fold 3...\n",
      "[0]\ttrain-avgRecall:0.41499\tvalidate-avgRecall:0.31057\n",
      "[200]\ttrain-avgRecall:0.78733\tvalidate-avgRecall:0.36119\n",
      "[282]\ttrain-avgRecall:0.83958\tvalidate-avgRecall:0.36159\n",
      "Predicting for fold 3...\n"
     ]
    },
    {
     "name": "stderr",
     "output_type": "stream",
     "text": [
      "\u001b[32m[I 2023-01-03 22:49:07,534]\u001b[0m Trial 35 finished with value: 0.3532426035496934 and parameters: {'learning_rate': 0.20531835898310216, 'gamma': 0, 'max_delta_step': 7, 'lambda': 100, 'alpha': 10, 'colsample_bylevel': 1.0, 'colsample_bynode': 0.7, 'colsample_bytree': 0.9, 'subsample': 0.6, 'max_depth': 11, 'num_feat': 80, 'step': 0.3, 'num_boost_round': 1000}. Best is trial 22 with value: 0.3603849635434114.\u001b[0m\n"
     ]
    },
    {
     "name": "stdout",
     "output_type": "stream",
     "text": [
      "Weighted average recall scores for class 0 and 1 averaged across all folds: 0.3532426035496934\n",
      "Start processing fold 1...\n",
      "Class distribution: (array([0, 1, 2]), array([ 6056, 18957, 29261]))\n",
      "Class instance weights: (array([0.61827461, 0.95433525, 2.98734038]), array([29261, 18957,  6056]))\n",
      "Start training model for fold 1...\n",
      "[0]\ttrain-avgRecall:0.38424\tvalidate-avgRecall:0.29541\n",
      "[200]\ttrain-avgRecall:0.77200\tvalidate-avgRecall:0.32891\n",
      "[400]\ttrain-avgRecall:0.87906\tvalidate-avgRecall:0.33802\n",
      "[508]\ttrain-avgRecall:0.90765\tvalidate-avgRecall:0.33531\n",
      "Predicting for fold 1...\n",
      "Start processing fold 2...\n",
      "Class distribution: (array([0, 1, 2]), array([ 6057, 18957, 29261]))\n",
      "Class instance weights: (array([0.618286  , 0.95435283, 2.98690221]), array([29261, 18957,  6057]))\n",
      "Start training model for fold 2...\n",
      "[0]\ttrain-avgRecall:0.39630\tvalidate-avgRecall:0.29336\n",
      "[200]\ttrain-avgRecall:0.77093\tvalidate-avgRecall:0.31438\n",
      "[325]\ttrain-avgRecall:0.85480\tvalidate-avgRecall:0.31686\n",
      "Predicting for fold 2...\n",
      "Start processing fold 3...\n",
      "Class distribution: (array([0, 1, 2]), array([ 6057, 18958, 29260]))\n",
      "Class instance weights: (array([0.61830713, 0.95430249, 2.98690221]), array([29260, 18958,  6057]))\n",
      "Start training model for fold 3...\n",
      "[0]\ttrain-avgRecall:0.40680\tvalidate-avgRecall:0.30201\n",
      "[200]\ttrain-avgRecall:0.76682\tvalidate-avgRecall:0.32416\n",
      "[334]\ttrain-avgRecall:0.85449\tvalidate-avgRecall:0.32377\n",
      "Predicting for fold 3...\n"
     ]
    },
    {
     "name": "stderr",
     "output_type": "stream",
     "text": [
      "\u001b[32m[I 2023-01-03 22:52:09,506]\u001b[0m Trial 36 finished with value: 0.325390800334265 and parameters: {'learning_rate': 0.19656313657057672, 'gamma': 0, 'max_delta_step': 7, 'lambda': 1, 'alpha': 10, 'colsample_bylevel': 1.0, 'colsample_bynode': 0.7, 'colsample_bytree': 0.9, 'subsample': 0.8, 'max_depth': 8, 'num_feat': 80, 'step': 0.1, 'num_boost_round': 900}. Best is trial 22 with value: 0.3603849635434114.\u001b[0m\n"
     ]
    },
    {
     "name": "stdout",
     "output_type": "stream",
     "text": [
      "Weighted average recall scores for class 0 and 1 averaged across all folds: 0.325390800334265\n",
      "Start processing fold 1...\n",
      "Class distribution: (array([0, 1, 2]), array([ 6056, 18957, 29261]))\n",
      "Class instance weights: (array([0.61827461, 0.95433525, 2.98734038]), array([29261, 18957,  6056]))\n",
      "Start training model for fold 1...\n",
      "[0]\ttrain-avgRecall:0.22157\tvalidate-avgRecall:0.17789\n",
      "[101]\ttrain-avgRecall:0.39248\tvalidate-avgRecall:0.28869\n",
      "Predicting for fold 1...\n",
      "Start processing fold 2...\n",
      "Class distribution: (array([0, 1, 2]), array([ 6057, 18957, 29261]))\n",
      "Class instance weights: (array([0.618286  , 0.95435283, 2.98690221]), array([29261, 18957,  6057]))\n",
      "Start training model for fold 2...\n",
      "[0]\ttrain-avgRecall:0.30767\tvalidate-avgRecall:0.23283\n",
      "[193]\ttrain-avgRecall:0.39130\tvalidate-avgRecall:0.29503\n",
      "Predicting for fold 2...\n",
      "Start processing fold 3...\n",
      "Class distribution: (array([0, 1, 2]), array([ 6057, 18958, 29260]))\n",
      "Class instance weights: (array([0.61830713, 0.95430249, 2.98690221]), array([29260, 18958,  6057]))\n",
      "Start training model for fold 3...\n",
      "[0]\ttrain-avgRecall:0.28955\tvalidate-avgRecall:0.21949\n",
      "[200]\ttrain-avgRecall:0.40060\tvalidate-avgRecall:0.30881\n",
      "[201]\ttrain-avgRecall:0.40060\tvalidate-avgRecall:0.30881\n"
     ]
    },
    {
     "name": "stderr",
     "output_type": "stream",
     "text": [
      "\u001b[32m[I 2023-01-03 22:53:34,264]\u001b[0m Trial 37 finished with value: 0.2975139286409024 and parameters: {'learning_rate': 0.21096529246083984, 'gamma': 3, 'max_delta_step': 6, 'lambda': 100, 'alpha': 1, 'colsample_bylevel': 1.0, 'colsample_bynode': 0.7, 'colsample_bytree': 0.9, 'subsample': 1.0, 'max_depth': 3, 'num_feat': 80, 'step': 0.3, 'num_boost_round': 1000}. Best is trial 22 with value: 0.3603849635434114.\u001b[0m\n"
     ]
    },
    {
     "name": "stdout",
     "output_type": "stream",
     "text": [
      "Predicting for fold 3...\n",
      "Weighted average recall scores for class 0 and 1 averaged across all folds: 0.2975139286409024\n",
      "Start processing fold 1...\n",
      "Class distribution: (array([0, 1, 2]), array([ 6056, 18957, 29261]))\n",
      "Class instance weights: (array([0.61827461, 0.95433525, 2.98734038]), array([29261, 18957,  6056]))\n",
      "Start training model for fold 1...\n",
      "[0]\ttrain-avgRecall:0.33854\tvalidate-avgRecall:0.27526\n",
      "[200]\ttrain-avgRecall:0.61448\tvalidate-avgRecall:0.34538\n",
      "[400]\ttrain-avgRecall:0.67541\tvalidate-avgRecall:0.35625\n",
      "[600]\ttrain-avgRecall:0.70299\tvalidate-avgRecall:0.36441\n",
      "[780]\ttrain-avgRecall:0.71543\tvalidate-avgRecall:0.36113\n",
      "Predicting for fold 1...\n",
      "Start processing fold 2...\n",
      "Class distribution: (array([0, 1, 2]), array([ 6057, 18957, 29261]))\n",
      "Class instance weights: (array([0.618286  , 0.95435283, 2.98690221]), array([29261, 18957,  6057]))\n",
      "Start training model for fold 2...\n",
      "[0]\ttrain-avgRecall:0.32702\tvalidate-avgRecall:0.24874\n",
      "[200]\ttrain-avgRecall:0.62057\tvalidate-avgRecall:0.31782\n",
      "[369]\ttrain-avgRecall:0.67150\tvalidate-avgRecall:0.32478\n",
      "Predicting for fold 2...\n",
      "Start processing fold 3...\n",
      "Class distribution: (array([0, 1, 2]), array([ 6057, 18958, 29260]))\n",
      "Class instance weights: (array([0.61830713, 0.95430249, 2.98690221]), array([29260, 18958,  6057]))\n",
      "Start training model for fold 3...\n",
      "[0]\ttrain-avgRecall:0.33704\tvalidate-avgRecall:0.26803\n",
      "[200]\ttrain-avgRecall:0.61999\tvalidate-avgRecall:0.31041\n",
      "[238]\ttrain-avgRecall:0.63670\tvalidate-avgRecall:0.31009\n",
      "Predicting for fold 3...\n"
     ]
    },
    {
     "name": "stderr",
     "output_type": "stream",
     "text": [
      "\u001b[32m[I 2023-01-03 22:57:04,345]\u001b[0m Trial 38 finished with value: 0.3322126255108493 and parameters: {'learning_rate': 0.2462916627888116, 'gamma': 1, 'max_delta_step': 7, 'lambda': 100, 'alpha': 10, 'colsample_bylevel': 0.5, 'colsample_bynode': 0.7, 'colsample_bytree': 0.9, 'subsample': 0.6, 'max_depth': 9, 'num_feat': 50, 'step': 0.1, 'num_boost_round': 1300}. Best is trial 22 with value: 0.3603849635434114.\u001b[0m\n"
     ]
    },
    {
     "name": "stdout",
     "output_type": "stream",
     "text": [
      "Weighted average recall scores for class 0 and 1 averaged across all folds: 0.3322126255108493\n",
      "Start processing fold 1...\n",
      "Class distribution: (array([0, 1, 2]), array([ 6056, 18957, 29261]))\n",
      "Class instance weights: (array([0.61827461, 0.95433525, 2.98734038]), array([29261, 18957,  6056]))\n",
      "Start training model for fold 1...\n",
      "[0]\ttrain-avgRecall:0.29637\tvalidate-avgRecall:0.22993\n",
      "[200]\ttrain-avgRecall:0.38708\tvalidate-avgRecall:0.28558\n",
      "[400]\ttrain-avgRecall:0.39244\tvalidate-avgRecall:0.28718\n",
      "[444]\ttrain-avgRecall:0.39387\tvalidate-avgRecall:0.28694\n",
      "Predicting for fold 1...\n",
      "Start processing fold 2...\n",
      "Class distribution: (array([0, 1, 2]), array([ 6057, 18957, 29261]))\n",
      "Class instance weights: (array([0.618286  , 0.95435283, 2.98690221]), array([29261, 18957,  6057]))\n",
      "Start training model for fold 2...\n",
      "[0]\ttrain-avgRecall:0.32062\tvalidate-avgRecall:0.23891\n",
      "[200]\ttrain-avgRecall:0.38350\tvalidate-avgRecall:0.26921\n",
      "[388]\ttrain-avgRecall:0.39078\tvalidate-avgRecall:0.26969\n",
      "Predicting for fold 2...\n",
      "Start processing fold 3...\n",
      "Class distribution: (array([0, 1, 2]), array([ 6057, 18958, 29260]))\n",
      "Class instance weights: (array([0.61830713, 0.95430249, 2.98690221]), array([29260, 18958,  6057]))\n",
      "Start training model for fold 3...\n",
      "[0]\ttrain-avgRecall:0.37054\tvalidate-avgRecall:0.31401\n",
      "[100]\ttrain-avgRecall:0.37949\tvalidate-avgRecall:0.28970\n"
     ]
    },
    {
     "name": "stderr",
     "output_type": "stream",
     "text": [
      "\u001b[32m[I 2023-01-03 22:58:56,448]\u001b[0m Trial 39 finished with value: 0.28210875948356434 and parameters: {'learning_rate': 0.1006161575860414, 'gamma': 2, 'max_delta_step': 8, 'lambda': 1, 'alpha': 100, 'colsample_bylevel': 1.0, 'colsample_bynode': 0.5, 'colsample_bytree': 0.8, 'subsample': 0.6, 'max_depth': 6, 'num_feat': 80, 'step': 0.2, 'num_boost_round': 700}. Best is trial 22 with value: 0.3603849635434114.\u001b[0m\n"
     ]
    },
    {
     "name": "stdout",
     "output_type": "stream",
     "text": [
      "Predicting for fold 3...\n",
      "Weighted average recall scores for class 0 and 1 averaged across all folds: 0.28210875948356434\n",
      "Start processing fold 1...\n",
      "Class distribution: (array([0, 1, 2]), array([ 6056, 18957, 29261]))\n",
      "Class instance weights: (array([0.61827461, 0.95433525, 2.98734038]), array([29261, 18957,  6056]))\n",
      "Start training model for fold 1...\n",
      "[0]\ttrain-avgRecall:0.36857\tvalidate-avgRecall:0.25711\n",
      "[200]\ttrain-avgRecall:0.89693\tvalidate-avgRecall:0.34746\n",
      "[284]\ttrain-avgRecall:0.94739\tvalidate-avgRecall:0.34642\n",
      "Predicting for fold 1...\n",
      "Start processing fold 2...\n",
      "Class distribution: (array([0, 1, 2]), array([ 6057, 18957, 29261]))\n",
      "Class instance weights: (array([0.618286  , 0.95435283, 2.98690221]), array([29261, 18957,  6057]))\n",
      "Start training model for fold 2...\n",
      "[0]\ttrain-avgRecall:0.38043\tvalidate-avgRecall:0.26025\n",
      "[200]\ttrain-avgRecall:0.89650\tvalidate-avgRecall:0.33165\n",
      "[316]\ttrain-avgRecall:0.95654\tvalidate-avgRecall:0.32782\n",
      "Predicting for fold 2...\n",
      "Start processing fold 3...\n",
      "Class distribution: (array([0, 1, 2]), array([ 6057, 18958, 29260]))\n",
      "Class instance weights: (array([0.61830713, 0.95430249, 2.98690221]), array([29260, 18958,  6057]))\n",
      "Start training model for fold 3...\n",
      "[0]\ttrain-avgRecall:0.38541\tvalidate-avgRecall:0.28826\n",
      "[200]\ttrain-avgRecall:0.89554\tvalidate-avgRecall:0.34895\n",
      "[282]\ttrain-avgRecall:0.94451\tvalidate-avgRecall:0.34160\n",
      "Predicting for fold 3...\n"
     ]
    },
    {
     "name": "stderr",
     "output_type": "stream",
     "text": [
      "\u001b[32m[I 2023-01-03 23:01:24,621]\u001b[0m Trial 40 finished with value: 0.3378906505054177 and parameters: {'learning_rate': 0.2146840085350903, 'gamma': 0, 'max_delta_step': 6, 'lambda': 100, 'alpha': 1, 'colsample_bylevel': 0.5, 'colsample_bynode': 1.0, 'colsample_bytree': 0.9, 'subsample': 0.8, 'max_depth': 11, 'num_feat': 50, 'step': 0.3, 'num_boost_round': 1000}. Best is trial 22 with value: 0.3603849635434114.\u001b[0m\n"
     ]
    },
    {
     "name": "stdout",
     "output_type": "stream",
     "text": [
      "Weighted average recall scores for class 0 and 1 averaged across all folds: 0.3378906505054177\n",
      "Start processing fold 1...\n",
      "Class distribution: (array([0, 1, 2]), array([ 6056, 18957, 29261]))\n",
      "Class instance weights: (array([0.61827461, 0.95433525, 2.98734038]), array([29261, 18957,  6056]))\n",
      "Start training model for fold 1...\n",
      "[0]\ttrain-avgRecall:0.37640\tvalidate-avgRecall:0.30069\n",
      "[200]\ttrain-avgRecall:0.75121\tvalidate-avgRecall:0.33762\n",
      "[373]\ttrain-avgRecall:0.84632\tvalidate-avgRecall:0.33962\n",
      "Predicting for fold 1...\n",
      "Start processing fold 2...\n",
      "Class distribution: (array([0, 1, 2]), array([ 6057, 18957, 29261]))\n",
      "Class instance weights: (array([0.618286  , 0.95435283, 2.98690221]), array([29261, 18957,  6057]))\n",
      "Start training model for fold 2...\n",
      "[0]\ttrain-avgRecall:0.37291\tvalidate-avgRecall:0.28464\n",
      "[200]\ttrain-avgRecall:0.74950\tvalidate-avgRecall:0.35188\n",
      "[400]\ttrain-avgRecall:0.85640\tvalidate-avgRecall:0.35908\n",
      "[489]\ttrain-avgRecall:0.88131\tvalidate-avgRecall:0.35164\n",
      "Predicting for fold 2...\n",
      "Start processing fold 3...\n",
      "Class distribution: (array([0, 1, 2]), array([ 6057, 18958, 29260]))\n",
      "Class instance weights: (array([0.61830713, 0.95430249, 2.98690221]), array([29260, 18958,  6057]))\n",
      "Start training model for fold 3...\n",
      "[0]\ttrain-avgRecall:0.38877\tvalidate-avgRecall:0.29378\n",
      "[200]\ttrain-avgRecall:0.75063\tvalidate-avgRecall:0.36718\n",
      "[333]\ttrain-avgRecall:0.83050\tvalidate-avgRecall:0.36910\n",
      "Predicting for fold 3...\n"
     ]
    },
    {
     "name": "stderr",
     "output_type": "stream",
     "text": [
      "\u001b[32m[I 2023-01-03 23:04:38,374]\u001b[0m Trial 41 finished with value: 0.3539625713630332 and parameters: {'learning_rate': 0.15289729202561506, 'gamma': 0, 'max_delta_step': 8, 'lambda': 100, 'alpha': 10, 'colsample_bylevel': 1.0, 'colsample_bynode': 0.7, 'colsample_bytree': 1.0, 'subsample': 0.6, 'max_depth': 11, 'num_feat': 80, 'step': 0.3, 'num_boost_round': 1100}. Best is trial 22 with value: 0.3603849635434114.\u001b[0m\n"
     ]
    },
    {
     "name": "stdout",
     "output_type": "stream",
     "text": [
      "Weighted average recall scores for class 0 and 1 averaged across all folds: 0.3539625713630332\n",
      "Start processing fold 1...\n",
      "Class distribution: (array([0, 1, 2]), array([ 6056, 18957, 29261]))\n",
      "Class instance weights: (array([0.61827461, 0.95433525, 2.98734038]), array([29261, 18957,  6056]))\n",
      "Start training model for fold 1...\n",
      "[0]\ttrain-avgRecall:0.35494\tvalidate-avgRecall:0.26599\n",
      "[200]\ttrain-avgRecall:0.60732\tvalidate-avgRecall:0.33227\n",
      "[400]\ttrain-avgRecall:0.67745\tvalidate-avgRecall:0.33874\n",
      "[600]\ttrain-avgRecall:0.71087\tvalidate-avgRecall:0.34354\n",
      "[646]\ttrain-avgRecall:0.71627\tvalidate-avgRecall:0.34442\n",
      "Predicting for fold 1...\n",
      "Start processing fold 2...\n",
      "Class distribution: (array([0, 1, 2]), array([ 6057, 18957, 29261]))\n",
      "Class instance weights: (array([0.618286  , 0.95435283, 2.98690221]), array([29261, 18957,  6057]))\n",
      "Start training model for fold 2...\n",
      "[0]\ttrain-avgRecall:0.35700\tvalidate-avgRecall:0.27353\n",
      "[200]\ttrain-avgRecall:0.60114\tvalidate-avgRecall:0.32222\n",
      "[400]\ttrain-avgRecall:0.67486\tvalidate-avgRecall:0.34157\n",
      "[525]\ttrain-avgRecall:0.69709\tvalidate-avgRecall:0.34149\n",
      "Predicting for fold 2...\n",
      "Start processing fold 3...\n",
      "Class distribution: (array([0, 1, 2]), array([ 6057, 18958, 29260]))\n",
      "Class instance weights: (array([0.61830713, 0.95430249, 2.98690221]), array([29260, 18958,  6057]))\n",
      "Start training model for fold 3...\n",
      "[0]\ttrain-avgRecall:0.37338\tvalidate-avgRecall:0.30090\n",
      "[200]\ttrain-avgRecall:0.60268\tvalidate-avgRecall:0.34951\n",
      "[400]\ttrain-avgRecall:0.67548\tvalidate-avgRecall:0.36446\n",
      "[450]\ttrain-avgRecall:0.68655\tvalidate-avgRecall:0.36311\n",
      "Predicting for fold 3...\n"
     ]
    },
    {
     "name": "stderr",
     "output_type": "stream",
     "text": [
      "\u001b[32m[I 2023-01-03 23:07:45,709]\u001b[0m Trial 42 finished with value: 0.3497513319371353 and parameters: {'learning_rate': 0.11723023226855082, 'gamma': 1, 'max_delta_step': 7, 'lambda': 100, 'alpha': 10, 'colsample_bylevel': 1.0, 'colsample_bynode': 0.7, 'colsample_bytree': 0.6, 'subsample': 0.6, 'max_depth': 11, 'num_feat': 80, 'step': 0.3, 'num_boost_round': 1100}. Best is trial 22 with value: 0.3603849635434114.\u001b[0m\n"
     ]
    },
    {
     "name": "stdout",
     "output_type": "stream",
     "text": [
      "Weighted average recall scores for class 0 and 1 averaged across all folds: 0.3497513319371353\n",
      "Start processing fold 1...\n",
      "Class distribution: (array([0, 1, 2]), array([ 6056, 18957, 29261]))\n",
      "Class instance weights: (array([0.61827461, 0.95433525, 2.98734038]), array([29261, 18957,  6056]))\n",
      "Start training model for fold 1...\n",
      "[0]\ttrain-avgRecall:0.36565\tvalidate-avgRecall:0.26159\n",
      "[200]\ttrain-avgRecall:0.61668\tvalidate-avgRecall:0.32811\n",
      "[400]\ttrain-avgRecall:0.68101\tvalidate-avgRecall:0.34002\n",
      "[600]\ttrain-avgRecall:0.71047\tvalidate-avgRecall:0.34826\n",
      "[800]\ttrain-avgRecall:0.72482\tvalidate-avgRecall:0.35066\n",
      "[869]\ttrain-avgRecall:0.73062\tvalidate-avgRecall:0.35074\n",
      "Predicting for fold 1...\n",
      "Start processing fold 2...\n",
      "Class distribution: (array([0, 1, 2]), array([ 6057, 18957, 29261]))\n",
      "Class instance weights: (array([0.618286  , 0.95435283, 2.98690221]), array([29261, 18957,  6057]))\n",
      "Start training model for fold 2...\n",
      "[0]\ttrain-avgRecall:0.33469\tvalidate-avgRecall:0.24226\n",
      "[200]\ttrain-avgRecall:0.61434\tvalidate-avgRecall:0.31542\n",
      "[400]\ttrain-avgRecall:0.67754\tvalidate-avgRecall:0.33253\n",
      "[534]\ttrain-avgRecall:0.69897\tvalidate-avgRecall:0.33509\n",
      "Predicting for fold 2...\n",
      "Start processing fold 3...\n",
      "Class distribution: (array([0, 1, 2]), array([ 6057, 18958, 29260]))\n",
      "Class instance weights: (array([0.61830713, 0.95430249, 2.98690221]), array([29260, 18958,  6057]))\n",
      "Start training model for fold 3...\n",
      "[0]\ttrain-avgRecall:0.34751\tvalidate-avgRecall:0.28266\n",
      "[200]\ttrain-avgRecall:0.61215\tvalidate-avgRecall:0.35007\n",
      "[400]\ttrain-avgRecall:0.67791\tvalidate-avgRecall:0.35591\n",
      "[440]\ttrain-avgRecall:0.68771\tvalidate-avgRecall:0.35663\n",
      "Predicting for fold 3...\n"
     ]
    },
    {
     "name": "stderr",
     "output_type": "stream",
     "text": [
      "\u001b[32m[I 2023-01-03 23:11:25,692]\u001b[0m Trial 43 finished with value: 0.34748556523783763 and parameters: {'learning_rate': 0.1455018318620981, 'gamma': 1, 'max_delta_step': 8, 'lambda': 100, 'alpha': 10, 'colsample_bylevel': 1.0, 'colsample_bynode': 0.7, 'colsample_bytree': 0.5, 'subsample': 0.6, 'max_depth': 11, 'num_feat': 80, 'step': 0.3, 'num_boost_round': 900}. Best is trial 22 with value: 0.3603849635434114.\u001b[0m\n"
     ]
    },
    {
     "name": "stdout",
     "output_type": "stream",
     "text": [
      "Weighted average recall scores for class 0 and 1 averaged across all folds: 0.34748556523783763\n",
      "Start processing fold 1...\n",
      "Class distribution: (array([0, 1, 2]), array([ 6056, 18957, 29261]))\n",
      "Class instance weights: (array([0.61827461, 0.95433525, 2.98734038]), array([29261, 18957,  6056]))\n",
      "Start training model for fold 1...\n",
      "[0]\ttrain-avgRecall:0.40531\tvalidate-avgRecall:0.30253\n",
      "[200]\ttrain-avgRecall:0.79175\tvalidate-avgRecall:0.34538\n",
      "[400]\ttrain-avgRecall:0.89749\tvalidate-avgRecall:0.34938\n",
      "[495]\ttrain-avgRecall:0.92464\tvalidate-avgRecall:0.34698\n",
      "Predicting for fold 1...\n",
      "Start processing fold 2...\n",
      "Class distribution: (array([0, 1, 2]), array([ 6057, 18957, 29261]))\n",
      "Class instance weights: (array([0.618286  , 0.95435283, 2.98690221]), array([29261, 18957,  6057]))\n",
      "Start training model for fold 2...\n",
      "[0]\ttrain-avgRecall:0.38343\tvalidate-avgRecall:0.27545\n",
      "[200]\ttrain-avgRecall:0.78516\tvalidate-avgRecall:0.35460\n",
      "[380]\ttrain-avgRecall:0.89622\tvalidate-avgRecall:0.35564\n",
      "Predicting for fold 2...\n",
      "Start processing fold 3...\n",
      "Class distribution: (array([0, 1, 2]), array([ 6057, 18958, 29260]))\n",
      "Class instance weights: (array([0.61830713, 0.95430249, 2.98690221]), array([29260, 18958,  6057]))\n",
      "Start training model for fold 3...\n",
      "[0]\ttrain-avgRecall:0.38641\tvalidate-avgRecall:0.27467\n",
      "[200]\ttrain-avgRecall:0.79236\tvalidate-avgRecall:0.35855\n",
      "[392]\ttrain-avgRecall:0.89794\tvalidate-avgRecall:0.35727\n",
      "Predicting for fold 3...\n"
     ]
    },
    {
     "name": "stderr",
     "output_type": "stream",
     "text": [
      "\u001b[32m[I 2023-01-03 23:14:49,852]\u001b[0m Trial 44 finished with value: 0.35348232431377075 and parameters: {'learning_rate': 0.1753604000286498, 'gamma': 0, 'max_delta_step': 8, 'lambda': 100, 'alpha': 10, 'colsample_bylevel': 1.0, 'colsample_bynode': 0.7, 'colsample_bytree': 0.9, 'subsample': 1.0, 'max_depth': 11, 'num_feat': 80, 'step': 0.3, 'num_boost_round': 1100}. Best is trial 22 with value: 0.3603849635434114.\u001b[0m\n"
     ]
    },
    {
     "name": "stdout",
     "output_type": "stream",
     "text": [
      "Weighted average recall scores for class 0 and 1 averaged across all folds: 0.35348232431377075\n",
      "Start processing fold 1...\n",
      "Class distribution: (array([0, 1, 2]), array([ 6056, 18957, 29261]))\n",
      "Class instance weights: (array([0.61827461, 0.95433525, 2.98734038]), array([29261, 18957,  6056]))\n",
      "Start training model for fold 1...\n",
      "[0]\ttrain-avgRecall:0.36613\tvalidate-avgRecall:0.28510\n",
      "[174]\ttrain-avgRecall:0.47551\tvalidate-avgRecall:0.29813\n",
      "Predicting for fold 1...\n",
      "Start processing fold 2...\n",
      "Class distribution: (array([0, 1, 2]), array([ 6057, 18957, 29261]))\n",
      "Class instance weights: (array([0.618286  , 0.95435283, 2.98690221]), array([29261, 18957,  6057]))\n",
      "Start training model for fold 2...\n",
      "[0]\ttrain-avgRecall:0.36891\tvalidate-avgRecall:0.28128\n",
      "[173]\ttrain-avgRecall:0.47034\tvalidate-avgRecall:0.29559\n",
      "Predicting for fold 2...\n",
      "Start processing fold 3...\n",
      "Class distribution: (array([0, 1, 2]), array([ 6057, 18958, 29260]))\n",
      "Class instance weights: (array([0.61830713, 0.95430249, 2.98690221]), array([29260, 18958,  6057]))\n",
      "Start training model for fold 3...\n",
      "[0]\ttrain-avgRecall:0.37653\tvalidate-avgRecall:0.27875\n",
      "[165]\ttrain-avgRecall:0.47152\tvalidate-avgRecall:0.31265\n"
     ]
    },
    {
     "name": "stderr",
     "output_type": "stream",
     "text": [
      "\u001b[32m[I 2023-01-03 23:16:21,277]\u001b[0m Trial 45 finished with value: 0.3021245308155625 and parameters: {'learning_rate': 0.16719778838225655, 'gamma': 2, 'max_delta_step': 9, 'lambda': 100, 'alpha': 10, 'colsample_bylevel': 1.0, 'colsample_bynode': 0.7, 'colsample_bytree': 1.0, 'subsample': 1.0, 'max_depth': 8, 'num_feat': 80, 'step': 0.1, 'num_boost_round': 1100}. Best is trial 22 with value: 0.3603849635434114.\u001b[0m\n"
     ]
    },
    {
     "name": "stdout",
     "output_type": "stream",
     "text": [
      "Predicting for fold 3...\n",
      "Weighted average recall scores for class 0 and 1 averaged across all folds: 0.3021245308155625\n",
      "Start processing fold 1...\n",
      "Class distribution: (array([0, 1, 2]), array([ 6056, 18957, 29261]))\n",
      "Class instance weights: (array([0.61827461, 0.95433525, 2.98734038]), array([29261, 18957,  6056]))\n",
      "Start training model for fold 1...\n",
      "[0]\ttrain-avgRecall:0.31416\tvalidate-avgRecall:0.24025\n",
      "[200]\ttrain-avgRecall:0.45132\tvalidate-avgRecall:0.29437\n",
      "[400]\ttrain-avgRecall:0.50150\tvalidate-avgRecall:0.31636\n",
      "[600]\ttrain-avgRecall:0.53768\tvalidate-avgRecall:0.32619\n",
      "[800]\ttrain-avgRecall:0.56842\tvalidate-avgRecall:0.33419\n",
      "[1000]\ttrain-avgRecall:0.59521\tvalidate-avgRecall:0.33650\n",
      "[1200]\ttrain-avgRecall:0.61708\tvalidate-avgRecall:0.33714\n",
      "[1223]\ttrain-avgRecall:0.61936\tvalidate-avgRecall:0.33826\n",
      "Predicting for fold 1...\n",
      "Start processing fold 2...\n",
      "Class distribution: (array([0, 1, 2]), array([ 6057, 18957, 29261]))\n",
      "Class instance weights: (array([0.618286  , 0.95435283, 2.98690221]), array([29261, 18957,  6057]))\n",
      "Start training model for fold 2...\n",
      "[0]\ttrain-avgRecall:0.35700\tvalidate-avgRecall:0.25802\n",
      "[200]\ttrain-avgRecall:0.44831\tvalidate-avgRecall:0.30815\n",
      "[400]\ttrain-avgRecall:0.49856\tvalidate-avgRecall:0.32254\n",
      "[600]\ttrain-avgRecall:0.53522\tvalidate-avgRecall:0.33045\n",
      "[800]\ttrain-avgRecall:0.56396\tvalidate-avgRecall:0.33789\n",
      "[874]\ttrain-avgRecall:0.57548\tvalidate-avgRecall:0.33797\n",
      "Predicting for fold 2...\n",
      "Start processing fold 3...\n",
      "Class distribution: (array([0, 1, 2]), array([ 6057, 18958, 29260]))\n",
      "Class instance weights: (array([0.61830713, 0.95430249, 2.98690221]), array([29260, 18958,  6057]))\n",
      "Start training model for fold 3...\n",
      "[0]\ttrain-avgRecall:0.28067\tvalidate-avgRecall:0.22525\n",
      "[200]\ttrain-avgRecall:0.45689\tvalidate-avgRecall:0.32944\n",
      "[400]\ttrain-avgRecall:0.50062\tvalidate-avgRecall:0.34287\n",
      "[600]\ttrain-avgRecall:0.53600\tvalidate-avgRecall:0.35175\n",
      "[722]\ttrain-avgRecall:0.55663\tvalidate-avgRecall:0.35119\n",
      "Predicting for fold 3...\n"
     ]
    },
    {
     "name": "stderr",
     "output_type": "stream",
     "text": [
      "\u001b[32m[I 2023-01-03 23:20:00,426]\u001b[0m Trial 46 finished with value: 0.3425818407761849 and parameters: {'learning_rate': 0.1793293168926591, 'gamma': 0, 'max_delta_step': 5, 'lambda': 100, 'alpha': 10, 'colsample_bylevel': 0.8, 'colsample_bynode': 0.8, 'colsample_bytree': 0.8, 'subsample': 1.0, 'max_depth': 4, 'num_feat': 80, 'step': 0.3, 'num_boost_round': 1500}. Best is trial 22 with value: 0.3603849635434114.\u001b[0m\n"
     ]
    },
    {
     "name": "stdout",
     "output_type": "stream",
     "text": [
      "Weighted average recall scores for class 0 and 1 averaged across all folds: 0.3425818407761849\n",
      "Start processing fold 1...\n",
      "Class distribution: (array([0, 1, 2]), array([ 6056, 18957, 29261]))\n",
      "Class instance weights: (array([0.61827461, 0.95433525, 2.98734038]), array([29261, 18957,  6056]))\n",
      "Start training model for fold 1...\n",
      "[0]\ttrain-avgRecall:0.32671\tvalidate-avgRecall:0.26071\n",
      "[163]\ttrain-avgRecall:0.38444\tvalidate-avgRecall:0.28830\n",
      "Predicting for fold 1...\n",
      "Start processing fold 2...\n",
      "Class distribution: (array([0, 1, 2]), array([ 6057, 18957, 29261]))\n",
      "Class instance weights: (array([0.618286  , 0.95435283, 2.98690221]), array([29261, 18957,  6057]))\n",
      "Start training model for fold 2...\n",
      "[0]\ttrain-avgRecall:0.34645\tvalidate-avgRecall:0.26441\n",
      "[169]\ttrain-avgRecall:0.37423\tvalidate-avgRecall:0.27169\n",
      "Predicting for fold 2...\n",
      "Start processing fold 3...\n",
      "Class distribution: (array([0, 1, 2]), array([ 6057, 18958, 29260]))\n",
      "Class instance weights: (array([0.61830713, 0.95430249, 2.98690221]), array([29260, 18958,  6057]))\n",
      "Start training model for fold 3...\n",
      "[0]\ttrain-avgRecall:0.35035\tvalidate-avgRecall:0.27323\n",
      "[158]\ttrain-avgRecall:0.39684\tvalidate-avgRecall:0.29402\n"
     ]
    },
    {
     "name": "stderr",
     "output_type": "stream",
     "text": [
      "\u001b[32m[I 2023-01-03 23:21:09,234]\u001b[0m Trial 47 finished with value: 0.2846674055430307 and parameters: {'learning_rate': 0.19212666071380424, 'gamma': 7, 'max_delta_step': 8, 'lambda': 100, 'alpha': 10, 'colsample_bylevel': 1.0, 'colsample_bynode': 1.0, 'colsample_bytree': 1.0, 'subsample': 1.0, 'max_depth': 10, 'num_feat': 50, 'step': 0.2, 'num_boost_round': 1300}. Best is trial 22 with value: 0.3603849635434114.\u001b[0m\n"
     ]
    },
    {
     "name": "stdout",
     "output_type": "stream",
     "text": [
      "Predicting for fold 3...\n",
      "Weighted average recall scores for class 0 and 1 averaged across all folds: 0.2846674055430307\n",
      "Start processing fold 1...\n",
      "Class distribution: (array([0, 1, 2]), array([ 6056, 18957, 29261]))\n",
      "Class instance weights: (array([0.61827461, 0.95433525, 2.98734038]), array([29261, 18957,  6056]))\n",
      "Start training model for fold 1...\n",
      "[0]\ttrain-avgRecall:0.34618\tvalidate-avgRecall:0.27095\n",
      "[200]\ttrain-avgRecall:0.52469\tvalidate-avgRecall:0.32491\n",
      "[338]\ttrain-avgRecall:0.52421\tvalidate-avgRecall:0.32475\n",
      "Predicting for fold 1...\n",
      "Start processing fold 2...\n",
      "Class distribution: (array([0, 1, 2]), array([ 6057, 18957, 29261]))\n",
      "Class instance weights: (array([0.618286  , 0.95435283, 2.98690221]), array([29261, 18957,  6057]))\n",
      "Start training model for fold 2...\n",
      "[0]\ttrain-avgRecall:0.35972\tvalidate-avgRecall:0.26409\n",
      "[200]\ttrain-avgRecall:0.52383\tvalidate-avgRecall:0.30255\n",
      "[259]\ttrain-avgRecall:0.52247\tvalidate-avgRecall:0.30111\n",
      "Predicting for fold 2...\n",
      "Start processing fold 3...\n",
      "Class distribution: (array([0, 1, 2]), array([ 6057, 18958, 29260]))\n",
      "Class instance weights: (array([0.61830713, 0.95430249, 2.98690221]), array([29260, 18958,  6057]))\n",
      "Start training model for fold 3...\n",
      "[0]\ttrain-avgRecall:0.37194\tvalidate-avgRecall:0.26579\n",
      "[200]\ttrain-avgRecall:0.53300\tvalidate-avgRecall:0.34392\n",
      "[336]\ttrain-avgRecall:0.53336\tvalidate-avgRecall:0.34264\n"
     ]
    },
    {
     "name": "stderr",
     "output_type": "stream",
     "text": [
      "\u001b[32m[I 2023-01-03 23:22:39,989]\u001b[0m Trial 48 finished with value: 0.3228330237300798 and parameters: {'learning_rate': 0.14809877566613874, 'gamma': 1, 'max_delta_step': 9, 'lambda': 100, 'alpha': 10, 'colsample_bylevel': 0.5, 'colsample_bynode': 0.5, 'colsample_bytree': 0.6, 'subsample': 1.0, 'max_depth': 11, 'num_feat': 70, 'step': 0.3, 'num_boost_round': 1200}. Best is trial 22 with value: 0.3603849635434114.\u001b[0m\n"
     ]
    },
    {
     "name": "stdout",
     "output_type": "stream",
     "text": [
      "Predicting for fold 3...\n",
      "Weighted average recall scores for class 0 and 1 averaged across all folds: 0.3228330237300798\n",
      "Start processing fold 1...\n",
      "Class distribution: (array([0, 1, 2]), array([ 6056, 18957, 29261]))\n",
      "Class instance weights: (array([0.61827461, 0.95433525, 2.98734038]), array([29261, 18957,  6056]))\n",
      "Start training model for fold 1...\n",
      "[0]\ttrain-avgRecall:0.37153\tvalidate-avgRecall:0.28909\n",
      "[200]\ttrain-avgRecall:0.52473\tvalidate-avgRecall:0.30708\n",
      "[400]\ttrain-avgRecall:0.56958\tvalidate-avgRecall:0.32083\n",
      "[462]\ttrain-avgRecall:0.57950\tvalidate-avgRecall:0.32131\n",
      "Predicting for fold 1...\n",
      "Start processing fold 2...\n",
      "Class distribution: (array([0, 1, 2]), array([ 6057, 18957, 29261]))\n",
      "Class instance weights: (array([0.618286  , 0.95435283, 2.98690221]), array([29261, 18957,  6057]))\n",
      "Start training model for fold 2...\n",
      "[0]\ttrain-avgRecall:0.35732\tvalidate-avgRecall:0.24834\n",
      "[200]\ttrain-avgRecall:0.52399\tvalidate-avgRecall:0.33109\n",
      "[348]\ttrain-avgRecall:0.55881\tvalidate-avgRecall:0.33421\n",
      "Predicting for fold 2...\n",
      "Start processing fold 3...\n",
      "Class distribution: (array([0, 1, 2]), array([ 6057, 18958, 29260]))\n",
      "Class instance weights: (array([0.61830713, 0.95430249, 2.98690221]), array([29260, 18958,  6057]))\n",
      "Start training model for fold 3...\n",
      "[0]\ttrain-avgRecall:0.35339\tvalidate-avgRecall:0.29122\n",
      "[200]\ttrain-avgRecall:0.52584\tvalidate-avgRecall:0.33888\n",
      "[400]\ttrain-avgRecall:0.56802\tvalidate-avgRecall:0.34440\n",
      "[600]\ttrain-avgRecall:0.59428\tvalidate-avgRecall:0.35327\n",
      "[800]\ttrain-avgRecall:0.60616\tvalidate-avgRecall:0.35623\n",
      "[1000]\ttrain-avgRecall:0.61783\tvalidate-avgRecall:0.36383\n",
      "[1099]\ttrain-avgRecall:0.62059\tvalidate-avgRecall:0.36151\n",
      "Predicting for fold 3...\n"
     ]
    },
    {
     "name": "stderr",
     "output_type": "stream",
     "text": [
      "\u001b[32m[I 2023-01-03 23:25:28,315]\u001b[0m Trial 49 finished with value: 0.3390112255035335 and parameters: {'learning_rate': 0.11881981323307275, 'gamma': 2, 'max_delta_step': 10, 'lambda': 100, 'alpha': 10, 'colsample_bylevel': 0.9, 'colsample_bynode': 0.7, 'colsample_bytree': 0.9, 'subsample': 0.5, 'max_depth': 11, 'num_feat': 80, 'step': 0.3, 'num_boost_round': 1100}. Best is trial 22 with value: 0.3603849635434114.\u001b[0m\n"
     ]
    },
    {
     "name": "stdout",
     "output_type": "stream",
     "text": [
      "Weighted average recall scores for class 0 and 1 averaged across all folds: 0.3390112255035335\n",
      "Start processing fold 1...\n",
      "Class distribution: (array([0, 1, 2]), array([ 6056, 18957, 29261]))\n",
      "Class instance weights: (array([0.61827461, 0.95433525, 2.98734038]), array([29261, 18957,  6056]))\n",
      "Start training model for fold 1...\n",
      "[0]\ttrain-avgRecall:0.38776\tvalidate-avgRecall:0.31380\n",
      "[100]\ttrain-avgRecall:0.46536\tvalidate-avgRecall:0.29877\n",
      "Predicting for fold 1...\n",
      "Start processing fold 2...\n",
      "Class distribution: (array([0, 1, 2]), array([ 6057, 18957, 29261]))\n",
      "Class instance weights: (array([0.618286  , 0.95435283, 2.98690221]), array([29261, 18957,  6057]))\n",
      "Start training model for fold 2...\n",
      "[0]\ttrain-avgRecall:0.34880\tvalidate-avgRecall:0.23779\n",
      "[200]\ttrain-avgRecall:0.46962\tvalidate-avgRecall:0.28440\n",
      "[283]\ttrain-avgRecall:0.47346\tvalidate-avgRecall:0.28400\n",
      "Predicting for fold 2...\n",
      "Start processing fold 3...\n",
      "Class distribution: (array([0, 1, 2]), array([ 6057, 18958, 29260]))\n",
      "Class instance weights: (array([0.61830713, 0.95430249, 2.98690221]), array([29260, 18958,  6057]))\n",
      "Start training model for fold 3...\n",
      "[0]\ttrain-avgRecall:0.39073\tvalidate-avgRecall:0.30329\n",
      "[200]\ttrain-avgRecall:0.47236\tvalidate-avgRecall:0.31649\n",
      "[305]\ttrain-avgRecall:0.47767\tvalidate-avgRecall:0.31697\n"
     ]
    },
    {
     "name": "stderr",
     "output_type": "stream",
     "text": [
      "\u001b[32m[I 2023-01-03 23:27:10,971]\u001b[0m Trial 50 finished with value: 0.2999125342892634 and parameters: {'learning_rate': 0.0830097766207229, 'gamma': 3, 'max_delta_step': 7, 'lambda': 1, 'alpha': 10, 'colsample_bylevel': 1.0, 'colsample_bynode': 0.7, 'colsample_bytree': 0.7, 'subsample': 0.9, 'max_depth': 7, 'num_feat': 80, 'step': 0.1, 'num_boost_round': 800}. Best is trial 22 with value: 0.3603849635434114.\u001b[0m\n"
     ]
    },
    {
     "name": "stdout",
     "output_type": "stream",
     "text": [
      "Predicting for fold 3...\n",
      "Weighted average recall scores for class 0 and 1 averaged across all folds: 0.2999125342892634\n",
      "Start processing fold 1...\n",
      "Class distribution: (array([0, 1, 2]), array([ 6056, 18957, 29261]))\n",
      "Class instance weights: (array([0.61827461, 0.95433525, 2.98734038]), array([29261, 18957,  6056]))\n",
      "Start training model for fold 1...\n",
      "[0]\ttrain-avgRecall:0.37876\tvalidate-avgRecall:0.28270\n",
      "[200]\ttrain-avgRecall:0.76408\tvalidate-avgRecall:0.33315\n",
      "[400]\ttrain-avgRecall:0.86351\tvalidate-avgRecall:0.34338\n",
      "[600]\ttrain-avgRecall:0.91061\tvalidate-avgRecall:0.35137\n",
      "[742]\ttrain-avgRecall:0.93140\tvalidate-avgRecall:0.34770\n",
      "Predicting for fold 1...\n",
      "Start processing fold 2...\n",
      "Class distribution: (array([0, 1, 2]), array([ 6057, 18957, 29261]))\n",
      "Class instance weights: (array([0.618286  , 0.95435283, 2.98690221]), array([29261, 18957,  6057]))\n",
      "Start training model for fold 2...\n",
      "[0]\ttrain-avgRecall:0.36847\tvalidate-avgRecall:0.27577\n",
      "[200]\ttrain-avgRecall:0.75526\tvalidate-avgRecall:0.34836\n",
      "[327]\ttrain-avgRecall:0.83557\tvalidate-avgRecall:0.34285\n",
      "Predicting for fold 2...\n",
      "Start processing fold 3...\n",
      "Class distribution: (array([0, 1, 2]), array([ 6057, 18958, 29260]))\n",
      "Class instance weights: (array([0.61830713, 0.95430249, 2.98690221]), array([29260, 18958,  6057]))\n",
      "Start training model for fold 3...\n",
      "[0]\ttrain-avgRecall:0.41499\tvalidate-avgRecall:0.31057\n",
      "[200]\ttrain-avgRecall:0.75966\tvalidate-avgRecall:0.36726\n",
      "[400]\ttrain-avgRecall:0.86240\tvalidate-avgRecall:0.37182\n",
      "[487]\ttrain-avgRecall:0.88835\tvalidate-avgRecall:0.37054\n",
      "Predicting for fold 3...\n"
     ]
    },
    {
     "name": "stderr",
     "output_type": "stream",
     "text": [
      "\u001b[32m[I 2023-01-03 23:30:13,832]\u001b[0m Trial 51 finished with value: 0.3536958728356429 and parameters: {'learning_rate': 0.1697964203524098, 'gamma': 0, 'max_delta_step': 7, 'lambda': 100, 'alpha': 10, 'colsample_bylevel': 1.0, 'colsample_bynode': 0.7, 'colsample_bytree': 0.9, 'subsample': 0.6, 'max_depth': 11, 'num_feat': 80, 'step': 0.3, 'num_boost_round': 1000}. Best is trial 22 with value: 0.3603849635434114.\u001b[0m\n"
     ]
    },
    {
     "name": "stdout",
     "output_type": "stream",
     "text": [
      "Weighted average recall scores for class 0 and 1 averaged across all folds: 0.3536958728356429\n",
      "Start processing fold 1...\n",
      "Class distribution: (array([0, 1, 2]), array([ 6056, 18957, 29261]))\n",
      "Class instance weights: (array([0.61827461, 0.95433525, 2.98734038]), array([29261, 18957,  6056]))\n",
      "Start training model for fold 1...\n",
      "[0]\ttrain-avgRecall:0.37876\tvalidate-avgRecall:0.28270\n",
      "[200]\ttrain-avgRecall:0.76136\tvalidate-avgRecall:0.34722\n",
      "[400]\ttrain-avgRecall:0.86063\tvalidate-avgRecall:0.35185\n",
      "[473]\ttrain-avgRecall:0.88278\tvalidate-avgRecall:0.35297\n",
      "Predicting for fold 1...\n",
      "Start processing fold 2...\n",
      "Class distribution: (array([0, 1, 2]), array([ 6057, 18957, 29261]))\n",
      "Class instance weights: (array([0.618286  , 0.95435283, 2.98690221]), array([29261, 18957,  6057]))\n",
      "Start training model for fold 2...\n",
      "[0]\ttrain-avgRecall:0.36847\tvalidate-avgRecall:0.27577\n",
      "[200]\ttrain-avgRecall:0.75574\tvalidate-avgRecall:0.34757\n",
      "[400]\ttrain-avgRecall:0.86164\tvalidate-avgRecall:0.34852\n",
      "[439]\ttrain-avgRecall:0.87495\tvalidate-avgRecall:0.34732\n",
      "Predicting for fold 2...\n",
      "Start processing fold 3...\n",
      "Class distribution: (array([0, 1, 2]), array([ 6057, 18958, 29260]))\n",
      "Class instance weights: (array([0.61830713, 0.95430249, 2.98690221]), array([29260, 18958,  6057]))\n",
      "Start training model for fold 3...\n",
      "[0]\ttrain-avgRecall:0.41499\tvalidate-avgRecall:0.31057\n",
      "[200]\ttrain-avgRecall:0.75750\tvalidate-avgRecall:0.37478\n",
      "[319]\ttrain-avgRecall:0.83026\tvalidate-avgRecall:0.37166\n",
      "Predicting for fold 3...\n"
     ]
    },
    {
     "name": "stderr",
     "output_type": "stream",
     "text": [
      "\u001b[32m[I 2023-01-03 23:32:46,630]\u001b[0m Trial 52 finished with value: 0.35732039891009976 and parameters: {'learning_rate': 0.16766594476065586, 'gamma': 0, 'max_delta_step': 8, 'lambda': 100, 'alpha': 10, 'colsample_bylevel': 1.0, 'colsample_bynode': 0.7, 'colsample_bytree': 0.9, 'subsample': 0.6, 'max_depth': 11, 'num_feat': 80, 'step': 0.3, 'num_boost_round': 1000}. Best is trial 22 with value: 0.3603849635434114.\u001b[0m\n"
     ]
    },
    {
     "name": "stdout",
     "output_type": "stream",
     "text": [
      "Weighted average recall scores for class 0 and 1 averaged across all folds: 0.35732039891009976\n",
      "Start processing fold 1...\n",
      "Class distribution: (array([0, 1, 2]), array([ 6056, 18957, 29261]))\n",
      "Class instance weights: (array([0.61827461, 0.95433525, 2.98734038]), array([29261, 18957,  6056]))\n",
      "Start training model for fold 1...\n",
      "[0]\ttrain-avgRecall:0.34694\tvalidate-avgRecall:0.26103\n",
      "[200]\ttrain-avgRecall:0.48651\tvalidate-avgRecall:0.30684\n",
      "[400]\ttrain-avgRecall:0.54472\tvalidate-avgRecall:0.32667\n",
      "[600]\ttrain-avgRecall:0.59425\tvalidate-avgRecall:0.33794\n",
      "[800]\ttrain-avgRecall:0.63383\tvalidate-avgRecall:0.34546\n",
      "[849]\ttrain-avgRecall:0.64334\tvalidate-avgRecall:0.34450\n",
      "Predicting for fold 1...\n",
      "Start processing fold 2...\n",
      "Class distribution: (array([0, 1, 2]), array([ 6057, 18957, 29261]))\n",
      "Class instance weights: (array([0.618286  , 0.95435283, 2.98690221]), array([29261, 18957,  6057]))\n",
      "Start training model for fold 2...\n",
      "[0]\ttrain-avgRecall:0.31982\tvalidate-avgRecall:0.25474\n",
      "[200]\ttrain-avgRecall:0.48517\tvalidate-avgRecall:0.31646\n",
      "[400]\ttrain-avgRecall:0.54561\tvalidate-avgRecall:0.33181\n",
      "[483]\ttrain-avgRecall:0.56444\tvalidate-avgRecall:0.33037\n",
      "Predicting for fold 2...\n",
      "Start processing fold 3...\n",
      "Class distribution: (array([0, 1, 2]), array([ 6057, 18958, 29260]))\n",
      "Class instance weights: (array([0.61830713, 0.95430249, 2.98690221]), array([29260, 18958,  6057]))\n",
      "Start training model for fold 3...\n",
      "[0]\ttrain-avgRecall:0.36354\tvalidate-avgRecall:0.27371\n",
      "[200]\ttrain-avgRecall:0.48403\tvalidate-avgRecall:0.33712\n",
      "[400]\ttrain-avgRecall:0.54635\tvalidate-avgRecall:0.34711\n",
      "[478]\ttrain-avgRecall:0.56718\tvalidate-avgRecall:0.34719\n",
      "Predicting for fold 3...\n",
      "Weighted average recall scores for class 0 and 1 averaged across all folds: 0.3406892858353159\n"
     ]
    },
    {
     "name": "stderr",
     "output_type": "stream",
     "text": [
      "\u001b[32m[I 2023-01-03 23:35:25,509]\u001b[0m Trial 53 finished with value: 0.3406892858353159 and parameters: {'learning_rate': 0.14617463912664302, 'gamma': 0, 'max_delta_step': 7, 'lambda': 100, 'alpha': 10, 'colsample_bylevel': 1.0, 'colsample_bynode': 0.7, 'colsample_bytree': 0.9, 'subsample': 0.6, 'max_depth': 5, 'num_feat': 80, 'step': 0.3, 'num_boost_round': 1000}. Best is trial 22 with value: 0.3603849635434114.\u001b[0m\n"
     ]
    },
    {
     "name": "stdout",
     "output_type": "stream",
     "text": [
      "Start processing fold 1...\n",
      "Class distribution: (array([0, 1, 2]), array([ 6056, 18957, 29261]))\n",
      "Class instance weights: (array([0.61827461, 0.95433525, 2.98734038]), array([29261, 18957,  6056]))\n",
      "Start training model for fold 1...\n",
      "[0]\ttrain-avgRecall:0.37157\tvalidate-avgRecall:0.28182\n",
      "[200]\ttrain-avgRecall:0.65826\tvalidate-avgRecall:0.33858\n",
      "[395]\ttrain-avgRecall:0.71967\tvalidate-avgRecall:0.34354\n",
      "Predicting for fold 1...\n",
      "Start processing fold 2...\n",
      "Class distribution: (array([0, 1, 2]), array([ 6057, 18957, 29261]))\n",
      "Class instance weights: (array([0.618286  , 0.95435283, 2.98690221]), array([29261, 18957,  6057]))\n",
      "Start training model for fold 2...\n",
      "[0]\ttrain-avgRecall:0.34597\tvalidate-avgRecall:0.25426\n",
      "[200]\ttrain-avgRecall:0.65343\tvalidate-avgRecall:0.35460\n",
      "[400]\ttrain-avgRecall:0.71628\tvalidate-avgRecall:0.36412\n",
      "[558]\ttrain-avgRecall:0.73815\tvalidate-avgRecall:0.36348\n",
      "Predicting for fold 2...\n",
      "Start processing fold 3...\n",
      "Class distribution: (array([0, 1, 2]), array([ 6057, 18958, 29260]))\n",
      "Class instance weights: (array([0.61830713, 0.95430249, 2.98690221]), array([29260, 18958,  6057]))\n",
      "Start training model for fold 3...\n",
      "[0]\ttrain-avgRecall:0.36142\tvalidate-avgRecall:0.28298\n",
      "[200]\ttrain-avgRecall:0.65609\tvalidate-avgRecall:0.36462\n",
      "[336]\ttrain-avgRecall:0.70530\tvalidate-avgRecall:0.36511\n",
      "Predicting for fold 3...\n"
     ]
    },
    {
     "name": "stderr",
     "output_type": "stream",
     "text": [
      "\u001b[32m[I 2023-01-03 23:37:43,309]\u001b[0m Trial 54 finished with value: 0.3569740093404201 and parameters: {'learning_rate': 0.16219145425592812, 'gamma': 1, 'max_delta_step': 8, 'lambda': 100, 'alpha': 10, 'colsample_bylevel': 0.8, 'colsample_bynode': 0.7, 'colsample_bytree': 0.9, 'subsample': 0.6, 'max_depth': 11, 'num_feat': 80, 'step': 0.3, 'num_boost_round': 700}. Best is trial 22 with value: 0.3603849635434114.\u001b[0m\n"
     ]
    },
    {
     "name": "stdout",
     "output_type": "stream",
     "text": [
      "Weighted average recall scores for class 0 and 1 averaged across all folds: 0.3569740093404201\n",
      "Start processing fold 1...\n",
      "Class distribution: (array([0, 1, 2]), array([ 6056, 18957, 29261]))\n",
      "Class instance weights: (array([0.61827461, 0.95433525, 2.98734038]), array([29261, 18957,  6056]))\n",
      "Start training model for fold 1...\n",
      "[0]\ttrain-avgRecall:0.38356\tvalidate-avgRecall:0.29301\n",
      "[200]\ttrain-avgRecall:0.62903\tvalidate-avgRecall:0.33219\n",
      "[400]\ttrain-avgRecall:0.70647\tvalidate-avgRecall:0.34218\n",
      "[599]\ttrain-avgRecall:0.74109\tvalidate-avgRecall:0.34530\n",
      "Predicting for fold 1...\n",
      "Start processing fold 2...\n",
      "Class distribution: (array([0, 1, 2]), array([ 6057, 18957, 29261]))\n",
      "Class instance weights: (array([0.618286  , 0.95435283, 2.98690221]), array([29261, 18957,  6057]))\n",
      "Start training model for fold 2...\n",
      "[0]\ttrain-avgRecall:0.35656\tvalidate-avgRecall:0.27241\n",
      "[200]\ttrain-avgRecall:0.62485\tvalidate-avgRecall:0.34629\n",
      "[400]\ttrain-avgRecall:0.70277\tvalidate-avgRecall:0.35468\n",
      "[599]\ttrain-avgRecall:0.73723\tvalidate-avgRecall:0.36635\n",
      "Predicting for fold 2...\n",
      "Start processing fold 3...\n",
      "Class distribution: (array([0, 1, 2]), array([ 6057, 18958, 29260]))\n",
      "Class instance weights: (array([0.61830713, 0.95430249, 2.98690221]), array([29260, 18958,  6057]))\n",
      "Start training model for fold 3...\n",
      "[0]\ttrain-avgRecall:0.37146\tvalidate-avgRecall:0.28834\n",
      "[200]\ttrain-avgRecall:0.62734\tvalidate-avgRecall:0.35479\n",
      "[400]\ttrain-avgRecall:0.70530\tvalidate-avgRecall:0.36430\n",
      "[599]\ttrain-avgRecall:0.73988\tvalidate-avgRecall:0.36862\n",
      "Predicting for fold 3...\n"
     ]
    },
    {
     "name": "stderr",
     "output_type": "stream",
     "text": [
      "\u001b[32m[I 2023-01-03 23:40:53,640]\u001b[0m Trial 55 finished with value: 0.3600923036180352 and parameters: {'learning_rate': 0.1079253048902414, 'gamma': 1, 'max_delta_step': 8, 'lambda': 100, 'alpha': 10, 'colsample_bylevel': 0.8, 'colsample_bynode': 0.9, 'colsample_bytree': 1.0, 'subsample': 0.6, 'max_depth': 11, 'num_feat': 80, 'step': 0.3, 'num_boost_round': 600}. Best is trial 22 with value: 0.3603849635434114.\u001b[0m\n"
     ]
    },
    {
     "name": "stdout",
     "output_type": "stream",
     "text": [
      "Weighted average recall scores for class 0 and 1 averaged across all folds: 0.3600923036180352\n",
      "Start processing fold 1...\n",
      "Class distribution: (array([0, 1, 2]), array([ 6056, 18957, 29261]))\n",
      "Class instance weights: (array([0.61827461, 0.95433525, 2.98734038]), array([29261, 18957,  6056]))\n",
      "Start training model for fold 1...\n",
      "[0]\ttrain-avgRecall:0.38460\tvalidate-avgRecall:0.30373\n",
      "[200]\ttrain-avgRecall:0.52385\tvalidate-avgRecall:0.33387\n",
      "[400]\ttrain-avgRecall:0.56675\tvalidate-avgRecall:0.34378\n",
      "[599]\ttrain-avgRecall:0.58865\tvalidate-avgRecall:0.34898\n",
      "Predicting for fold 1...\n",
      "Start processing fold 2...\n",
      "Class distribution: (array([0, 1, 2]), array([ 6057, 18957, 29261]))\n",
      "Class instance weights: (array([0.618286  , 0.95435283, 2.98690221]), array([29261, 18957,  6057]))\n",
      "Start training model for fold 2...\n",
      "[0]\ttrain-avgRecall:0.36551\tvalidate-avgRecall:0.25594\n",
      "[200]\ttrain-avgRecall:0.52083\tvalidate-avgRecall:0.29871\n",
      "[400]\ttrain-avgRecall:0.56432\tvalidate-avgRecall:0.30455\n",
      "[599]\ttrain-avgRecall:0.58503\tvalidate-avgRecall:0.30871\n",
      "Predicting for fold 2...\n",
      "Start processing fold 3...\n",
      "Class distribution: (array([0, 1, 2]), array([ 6057, 18958, 29260]))\n",
      "Class instance weights: (array([0.61830713, 0.95430249, 2.98690221]), array([29260, 18958,  6057]))\n",
      "Start training model for fold 3...\n",
      "[0]\ttrain-avgRecall:0.36490\tvalidate-avgRecall:0.26203\n",
      "[200]\ttrain-avgRecall:0.52357\tvalidate-avgRecall:0.33072\n",
      "[400]\ttrain-avgRecall:0.56910\tvalidate-avgRecall:0.34192\n",
      "[599]\ttrain-avgRecall:0.58989\tvalidate-avgRecall:0.34559\n",
      "Predicting for fold 3...\n"
     ]
    },
    {
     "name": "stderr",
     "output_type": "stream",
     "text": [
      "\u001b[32m[I 2023-01-03 23:43:54,242]\u001b[0m Trial 56 finished with value: 0.334425964592092 and parameters: {'learning_rate': 0.06641047595057636, 'gamma': 2, 'max_delta_step': 9, 'lambda': 10, 'alpha': 10, 'colsample_bylevel': 0.8, 'colsample_bynode': 0.9, 'colsample_bytree': 0.5, 'subsample': 0.6, 'max_depth': 9, 'num_feat': 60, 'step': 0.3, 'num_boost_round': 600}. Best is trial 22 with value: 0.3603849635434114.\u001b[0m\n"
     ]
    },
    {
     "name": "stdout",
     "output_type": "stream",
     "text": [
      "Weighted average recall scores for class 0 and 1 averaged across all folds: 0.334425964592092\n",
      "Start processing fold 1...\n",
      "Class distribution: (array([0, 1, 2]), array([ 6056, 18957, 29261]))\n",
      "Class instance weights: (array([0.61827461, 0.95433525, 2.98734038]), array([29261, 18957,  6056]))\n",
      "Start training model for fold 1...\n",
      "[0]\ttrain-avgRecall:0.34522\tvalidate-avgRecall:0.29445\n",
      "[200]\ttrain-avgRecall:0.51777\tvalidate-avgRecall:0.32699\n",
      "[400]\ttrain-avgRecall:0.59325\tvalidate-avgRecall:0.34194\n",
      "[599]\ttrain-avgRecall:0.64726\tvalidate-avgRecall:0.35433\n",
      "Predicting for fold 1...\n",
      "Start processing fold 2...\n",
      "Class distribution: (array([0, 1, 2]), array([ 6057, 18957, 29261]))\n",
      "Class instance weights: (array([0.618286  , 0.95435283, 2.98690221]), array([29261, 18957,  6057]))\n",
      "Start training model for fold 2...\n",
      "[0]\ttrain-avgRecall:0.32018\tvalidate-avgRecall:0.23779\n",
      "[200]\ttrain-avgRecall:0.51395\tvalidate-avgRecall:0.31327\n",
      "[400]\ttrain-avgRecall:0.59651\tvalidate-avgRecall:0.32454\n",
      "[599]\ttrain-avgRecall:0.64684\tvalidate-avgRecall:0.33365\n",
      "Predicting for fold 2...\n",
      "Start processing fold 3...\n",
      "Class distribution: (array([0, 1, 2]), array([ 6057, 18958, 29260]))\n",
      "Class instance weights: (array([0.61830713, 0.95430249, 2.98690221]), array([29260, 18958,  6057]))\n",
      "Start training model for fold 3...\n",
      "[0]\ttrain-avgRecall:0.34919\tvalidate-avgRecall:0.27955\n",
      "[200]\ttrain-avgRecall:0.51921\tvalidate-avgRecall:0.34032\n",
      "[400]\ttrain-avgRecall:0.59169\tvalidate-avgRecall:0.35647\n",
      "[599]\ttrain-avgRecall:0.64705\tvalidate-avgRecall:0.36726\n",
      "Predicting for fold 3...\n"
     ]
    },
    {
     "name": "stderr",
     "output_type": "stream",
     "text": [
      "\u001b[32m[I 2023-01-03 23:46:46,436]\u001b[0m Trial 57 finished with value: 0.35175003146202616 and parameters: {'learning_rate': 0.10135496484390123, 'gamma': 1, 'max_delta_step': 10, 'lambda': 100, 'alpha': 1, 'colsample_bylevel': 0.8, 'colsample_bynode': 0.9, 'colsample_bytree': 1.0, 'subsample': 0.7, 'max_depth': 6, 'num_feat': 70, 'step': 0.3, 'num_boost_round': 600}. Best is trial 22 with value: 0.3603849635434114.\u001b[0m\n"
     ]
    },
    {
     "name": "stdout",
     "output_type": "stream",
     "text": [
      "Weighted average recall scores for class 0 and 1 averaged across all folds: 0.35175003146202616\n",
      "Start processing fold 1...\n",
      "Class distribution: (array([0, 1, 2]), array([ 6056, 18957, 29261]))\n",
      "Class instance weights: (array([0.61827461, 0.95433525, 2.98734038]), array([29261, 18957,  6056]))\n",
      "Start training model for fold 1...\n",
      "[0]\ttrain-avgRecall:0.36433\tvalidate-avgRecall:0.30468\n",
      "[99]\ttrain-avgRecall:0.40007\tvalidate-avgRecall:0.29061\n",
      "Predicting for fold 1...\n",
      "Start processing fold 2...\n",
      "Class distribution: (array([0, 1, 2]), array([ 6057, 18957, 29261]))\n",
      "Class instance weights: (array([0.618286  , 0.95435283, 2.98690221]), array([29261, 18957,  6057]))\n",
      "Start training model for fold 2...\n",
      "[0]\ttrain-avgRecall:0.32518\tvalidate-avgRecall:0.24866\n",
      "[200]\ttrain-avgRecall:0.39818\tvalidate-avgRecall:0.26625\n",
      "[341]\ttrain-avgRecall:0.40729\tvalidate-avgRecall:0.26713\n",
      "Predicting for fold 2...\n",
      "Start processing fold 3...\n",
      "Class distribution: (array([0, 1, 2]), array([ 6057, 18958, 29260]))\n",
      "Class instance weights: (array([0.61830713, 0.95430249, 2.98690221]), array([29260, 18958,  6057]))\n",
      "Start training model for fold 3...\n",
      "[0]\ttrain-avgRecall:0.33820\tvalidate-avgRecall:0.25900\n",
      "[200]\ttrain-avgRecall:0.41111\tvalidate-avgRecall:0.31713\n",
      "[400]\ttrain-avgRecall:0.42430\tvalidate-avgRecall:0.32784\n",
      "[579]\ttrain-avgRecall:0.43034\tvalidate-avgRecall:0.33048\n",
      "Predicting for fold 3...\n"
     ]
    },
    {
     "name": "stderr",
     "output_type": "stream",
     "text": [
      "\u001b[32m[I 2023-01-03 23:48:48,395]\u001b[0m Trial 58 finished with value: 0.29540894825844344 and parameters: {'learning_rate': 0.18918785343757036, 'gamma': 2, 'max_delta_step': 9, 'lambda': 100, 'alpha': 100, 'colsample_bylevel': 0.8, 'colsample_bynode': 0.9, 'colsample_bytree': 1.0, 'subsample': 0.6, 'max_depth': 11, 'num_feat': 80, 'step': 0.2, 'num_boost_round': 700}. Best is trial 22 with value: 0.3603849635434114.\u001b[0m\n"
     ]
    },
    {
     "name": "stdout",
     "output_type": "stream",
     "text": [
      "Weighted average recall scores for class 0 and 1 averaged across all folds: 0.29540894825844344\n",
      "Start processing fold 1...\n",
      "Class distribution: (array([0, 1, 2]), array([ 6056, 18957, 29261]))\n",
      "Class instance weights: (array([0.61827461, 0.95433525, 2.98734038]), array([29261, 18957,  6056]))\n",
      "Start training model for fold 1...\n",
      "[0]\ttrain-avgRecall:0.37245\tvalidate-avgRecall:0.27662\n",
      "[200]\ttrain-avgRecall:0.60756\tvalidate-avgRecall:0.34562\n",
      "[400]\ttrain-avgRecall:0.66134\tvalidate-avgRecall:0.35649\n",
      "[499]\ttrain-avgRecall:0.67241\tvalidate-avgRecall:0.35817\n",
      "Predicting for fold 1...\n",
      "Start processing fold 2...\n",
      "Class distribution: (array([0, 1, 2]), array([ 6057, 18957, 29261]))\n",
      "Class instance weights: (array([0.618286  , 0.95435283, 2.98690221]), array([29261, 18957,  6057]))\n",
      "Start training model for fold 2...\n",
      "[0]\ttrain-avgRecall:0.35748\tvalidate-avgRecall:0.26353\n",
      "[200]\ttrain-avgRecall:0.59639\tvalidate-avgRecall:0.31550\n",
      "[400]\ttrain-avgRecall:0.65172\tvalidate-avgRecall:0.32374\n",
      "[499]\ttrain-avgRecall:0.66535\tvalidate-avgRecall:0.32989\n",
      "Predicting for fold 2...\n",
      "Start processing fold 3...\n",
      "Class distribution: (array([0, 1, 2]), array([ 6057, 18958, 29260]))\n",
      "Class instance weights: (array([0.61830713, 0.95430249, 2.98690221]), array([29260, 18958,  6057]))\n",
      "Start training model for fold 3...\n",
      "[0]\ttrain-avgRecall:0.36274\tvalidate-avgRecall:0.26555\n",
      "[200]\ttrain-avgRecall:0.60252\tvalidate-avgRecall:0.34711\n",
      "[400]\ttrain-avgRecall:0.65885\tvalidate-avgRecall:0.35719\n",
      "[499]\ttrain-avgRecall:0.67200\tvalidate-avgRecall:0.35919\n",
      "Predicting for fold 3...\n"
     ]
    },
    {
     "name": "stderr",
     "output_type": "stream",
     "text": [
      "\u001b[32m[I 2023-01-03 23:51:40,115]\u001b[0m Trial 59 finished with value: 0.34908453977290715 and parameters: {'learning_rate': 0.11028557666891553, 'gamma': 1, 'max_delta_step': 8, 'lambda': 100, 'alpha': 10, 'colsample_bylevel': 0.8, 'colsample_bynode': 0.9, 'colsample_bytree': 0.7, 'subsample': 0.8, 'max_depth': 10, 'num_feat': 60, 'step': 0.3, 'num_boost_round': 500}. Best is trial 22 with value: 0.3603849635434114.\u001b[0m\n"
     ]
    },
    {
     "name": "stdout",
     "output_type": "stream",
     "text": [
      "Weighted average recall scores for class 0 and 1 averaged across all folds: 0.34908453977290715\n",
      "Start processing fold 1...\n",
      "Class distribution: (array([0, 1, 2]), array([ 6056, 18957, 29261]))\n",
      "Class instance weights: (array([0.61827461, 0.95433525, 2.98734038]), array([29261, 18957,  6056]))\n",
      "Start training model for fold 1...\n",
      "[0]\ttrain-avgRecall:0.37496\tvalidate-avgRecall:0.28989\n",
      "[200]\ttrain-avgRecall:0.43577\tvalidate-avgRecall:0.29037\n",
      "[400]\ttrain-avgRecall:0.44757\tvalidate-avgRecall:0.29333\n",
      "[523]\ttrain-avgRecall:0.45237\tvalidate-avgRecall:0.29453\n",
      "Predicting for fold 1...\n",
      "Start processing fold 2...\n",
      "Class distribution: (array([0, 1, 2]), array([ 6057, 18957, 29261]))\n",
      "Class instance weights: (array([0.618286  , 0.95435283, 2.98690221]), array([29261, 18957,  6057]))\n",
      "Start training model for fold 2...\n",
      "[0]\ttrain-avgRecall:0.35036\tvalidate-avgRecall:0.25970\n",
      "[161]\ttrain-avgRecall:0.43688\tvalidate-avgRecall:0.28840\n",
      "Predicting for fold 2...\n",
      "Start processing fold 3...\n",
      "Class distribution: (array([0, 1, 2]), array([ 6057, 18958, 29260]))\n",
      "Class instance weights: (array([0.61830713, 0.95430249, 2.98690221]), array([29260, 18958,  6057]))\n",
      "Start training model for fold 3...\n",
      "[0]\ttrain-avgRecall:0.36850\tvalidate-avgRecall:0.30417\n",
      "[200]\ttrain-avgRecall:0.45397\tvalidate-avgRecall:0.31833\n",
      "[336]\ttrain-avgRecall:0.46092\tvalidate-avgRecall:0.32001\n"
     ]
    },
    {
     "name": "stderr",
     "output_type": "stream",
     "text": [
      "\u001b[32m[I 2023-01-03 23:53:11,042]\u001b[0m Trial 60 finished with value: 0.3010321056160637 and parameters: {'learning_rate': 0.12278315805589352, 'gamma': 4, 'max_delta_step': 4, 'lambda': 10, 'alpha': 10, 'colsample_bylevel': 0.8, 'colsample_bynode': 0.6, 'colsample_bytree': 0.8, 'subsample': 0.6, 'max_depth': 11, 'num_feat': 50, 'step': 0.3, 'num_boost_round': 600}. Best is trial 22 with value: 0.3603849635434114.\u001b[0m\n"
     ]
    },
    {
     "name": "stdout",
     "output_type": "stream",
     "text": [
      "Predicting for fold 3...\n",
      "Weighted average recall scores for class 0 and 1 averaged across all folds: 0.3010321056160637\n",
      "Start processing fold 1...\n",
      "Class distribution: (array([0, 1, 2]), array([ 6056, 18957, 29261]))\n",
      "Class instance weights: (array([0.61827461, 0.95433525, 2.98734038]), array([29261, 18957,  6056]))\n",
      "Start training model for fold 1...\n",
      "[0]\ttrain-avgRecall:0.36489\tvalidate-avgRecall:0.28718\n",
      "[200]\ttrain-avgRecall:0.63499\tvalidate-avgRecall:0.34146\n",
      "[400]\ttrain-avgRecall:0.70395\tvalidate-avgRecall:0.34842\n",
      "[589]\ttrain-avgRecall:0.73254\tvalidate-avgRecall:0.35034\n",
      "Predicting for fold 1...\n",
      "Start processing fold 2...\n",
      "Class distribution: (array([0, 1, 2]), array([ 6057, 18957, 29261]))\n",
      "Class instance weights: (array([0.618286  , 0.95435283, 2.98690221]), array([29261, 18957,  6057]))\n",
      "Start training model for fold 2...\n",
      "[0]\ttrain-avgRecall:0.36032\tvalidate-avgRecall:0.27393\n",
      "[200]\ttrain-avgRecall:0.63604\tvalidate-avgRecall:0.33181\n",
      "[400]\ttrain-avgRecall:0.70345\tvalidate-avgRecall:0.34053\n",
      "[600]\ttrain-avgRecall:0.73143\tvalidate-avgRecall:0.35068\n",
      "[799]\ttrain-avgRecall:0.74630\tvalidate-avgRecall:0.35036\n",
      "Predicting for fold 2...\n",
      "Start processing fold 3...\n",
      "Class distribution: (array([0, 1, 2]), array([ 6057, 18958, 29260]))\n",
      "Class instance weights: (array([0.61830713, 0.95430249, 2.98690221]), array([29260, 18958,  6057]))\n",
      "Start training model for fold 3...\n",
      "[0]\ttrain-avgRecall:0.37242\tvalidate-avgRecall:0.29898\n",
      "[200]\ttrain-avgRecall:0.63598\tvalidate-avgRecall:0.35815\n",
      "[400]\ttrain-avgRecall:0.70446\tvalidate-avgRecall:0.37222\n",
      "[477]\ttrain-avgRecall:0.71937\tvalidate-avgRecall:0.37302\n",
      "Predicting for fold 3...\n"
     ]
    },
    {
     "name": "stderr",
     "output_type": "stream",
     "text": [
      "\u001b[32m[I 2023-01-03 23:56:48,942]\u001b[0m Trial 61 finished with value: 0.3577469461063896 and parameters: {'learning_rate': 0.13756919519859, 'gamma': 1, 'max_delta_step': 8, 'lambda': 100, 'alpha': 10, 'colsample_bylevel': 0.8, 'colsample_bynode': 0.6, 'colsample_bytree': 1.0, 'subsample': 0.6, 'max_depth': 11, 'num_feat': 80, 'step': 0.3, 'num_boost_round': 800}. Best is trial 22 with value: 0.3603849635434114.\u001b[0m\n"
     ]
    },
    {
     "name": "stdout",
     "output_type": "stream",
     "text": [
      "Weighted average recall scores for class 0 and 1 averaged across all folds: 0.3577469461063896\n",
      "Start processing fold 1...\n",
      "Class distribution: (array([0, 1, 2]), array([ 6056, 18957, 29261]))\n",
      "Class instance weights: (array([0.61827461, 0.95433525, 2.98734038]), array([29261, 18957,  6056]))\n",
      "Start training model for fold 1...\n",
      "[0]\ttrain-avgRecall:0.36489\tvalidate-avgRecall:0.28718\n",
      "[200]\ttrain-avgRecall:0.63747\tvalidate-avgRecall:0.33003\n",
      "[400]\ttrain-avgRecall:0.70367\tvalidate-avgRecall:0.33730\n",
      "[433]\ttrain-avgRecall:0.71251\tvalidate-avgRecall:0.33882\n",
      "Predicting for fold 1...\n",
      "Start processing fold 2...\n",
      "Class distribution: (array([0, 1, 2]), array([ 6057, 18957, 29261]))\n",
      "Class instance weights: (array([0.618286  , 0.95435283, 2.98690221]), array([29261, 18957,  6057]))\n",
      "Start training model for fold 2...\n",
      "[0]\ttrain-avgRecall:0.36032\tvalidate-avgRecall:0.27393\n",
      "[200]\ttrain-avgRecall:0.63576\tvalidate-avgRecall:0.33341\n",
      "[400]\ttrain-avgRecall:0.70505\tvalidate-avgRecall:0.34565\n",
      "[600]\ttrain-avgRecall:0.73103\tvalidate-avgRecall:0.34964\n",
      "[650]\ttrain-avgRecall:0.73639\tvalidate-avgRecall:0.34932\n",
      "Predicting for fold 2...\n",
      "Start processing fold 3...\n",
      "Class distribution: (array([0, 1, 2]), array([ 6057, 18958, 29260]))\n",
      "Class instance weights: (array([0.61830713, 0.95430249, 2.98690221]), array([29260, 18958,  6057]))\n",
      "Start training model for fold 3...\n",
      "[0]\ttrain-avgRecall:0.37242\tvalidate-avgRecall:0.29898\n",
      "[200]\ttrain-avgRecall:0.63270\tvalidate-avgRecall:0.35239\n",
      "[400]\ttrain-avgRecall:0.70362\tvalidate-avgRecall:0.36590\n",
      "[486]\ttrain-avgRecall:0.72157\tvalidate-avgRecall:0.36622\n",
      "Predicting for fold 3...\n"
     ]
    },
    {
     "name": "stderr",
     "output_type": "stream",
     "text": [
      "\u001b[32m[I 2023-01-03 23:59:48,978]\u001b[0m Trial 62 finished with value: 0.3515372181115896 and parameters: {'learning_rate': 0.13703156174598502, 'gamma': 1, 'max_delta_step': 8, 'lambda': 100, 'alpha': 10, 'colsample_bylevel': 0.8, 'colsample_bynode': 0.6, 'colsample_bytree': 1.0, 'subsample': 0.6, 'max_depth': 11, 'num_feat': 80, 'step': 0.3, 'num_boost_round': 700}. Best is trial 22 with value: 0.3603849635434114.\u001b[0m\n"
     ]
    },
    {
     "name": "stdout",
     "output_type": "stream",
     "text": [
      "Weighted average recall scores for class 0 and 1 averaged across all folds: 0.3515372181115896\n",
      "Start processing fold 1...\n",
      "Class distribution: (array([0, 1, 2]), array([ 6056, 18957, 29261]))\n",
      "Class instance weights: (array([0.61827461, 0.95433525, 2.98734038]), array([29261, 18957,  6056]))\n",
      "Start training model for fold 1...\n",
      "[0]\ttrain-avgRecall:0.33610\tvalidate-avgRecall:0.25863\n",
      "[200]\ttrain-avgRecall:0.54704\tvalidate-avgRecall:0.32443\n",
      "[396]\ttrain-avgRecall:0.57898\tvalidate-avgRecall:0.32835\n",
      "Predicting for fold 1...\n",
      "Start processing fold 2...\n",
      "Class distribution: (array([0, 1, 2]), array([ 6057, 18957, 29261]))\n",
      "Class instance weights: (array([0.618286  , 0.95435283, 2.98690221]), array([29261, 18957,  6057]))\n",
      "Start training model for fold 2...\n",
      "[0]\ttrain-avgRecall:0.34689\tvalidate-avgRecall:0.25977\n",
      "[200]\ttrain-avgRecall:0.54158\tvalidate-avgRecall:0.32094\n",
      "[400]\ttrain-avgRecall:0.57796\tvalidate-avgRecall:0.32622\n",
      "[600]\ttrain-avgRecall:0.59703\tvalidate-avgRecall:0.33197\n",
      "[799]\ttrain-avgRecall:0.60506\tvalidate-avgRecall:0.33493\n",
      "Predicting for fold 2...\n",
      "Start processing fold 3...\n",
      "Class distribution: (array([0, 1, 2]), array([ 6057, 18958, 29260]))\n",
      "Class instance weights: (array([0.61830713, 0.95430249, 2.98690221]), array([29260, 18958,  6057]))\n",
      "Start training model for fold 3...\n",
      "[0]\ttrain-avgRecall:0.36434\tvalidate-avgRecall:0.30449\n",
      "[200]\ttrain-avgRecall:0.54491\tvalidate-avgRecall:0.35079\n",
      "[339]\ttrain-avgRecall:0.57098\tvalidate-avgRecall:0.35175\n",
      "Predicting for fold 3...\n"
     ]
    },
    {
     "name": "stderr",
     "output_type": "stream",
     "text": [
      "\u001b[32m[I 2023-01-04 00:02:35,942]\u001b[0m Trial 63 finished with value: 0.33834448445679355 and parameters: {'learning_rate': 0.1585334897954177, 'gamma': 2, 'max_delta_step': 8, 'lambda': 100, 'alpha': 10, 'colsample_bylevel': 0.8, 'colsample_bynode': 0.6, 'colsample_bytree': 1.0, 'subsample': 0.6, 'max_depth': 11, 'num_feat': 80, 'step': 0.3, 'num_boost_round': 800}. Best is trial 22 with value: 0.3603849635434114.\u001b[0m\n"
     ]
    },
    {
     "name": "stdout",
     "output_type": "stream",
     "text": [
      "Weighted average recall scores for class 0 and 1 averaged across all folds: 0.33834448445679355\n",
      "Start processing fold 1...\n",
      "Class distribution: (array([0, 1, 2]), array([ 6056, 18957, 29261]))\n",
      "Class instance weights: (array([0.61827461, 0.95433525, 2.98734038]), array([29261, 18957,  6056]))\n",
      "Start training model for fold 1...\n",
      "[0]\ttrain-avgRecall:0.31975\tvalidate-avgRecall:0.21762\n",
      "[200]\ttrain-avgRecall:0.41430\tvalidate-avgRecall:0.29701\n",
      "[400]\ttrain-avgRecall:0.43957\tvalidate-avgRecall:0.30652\n",
      "[600]\ttrain-avgRecall:0.46244\tvalidate-avgRecall:0.31260\n",
      "[699]\ttrain-avgRecall:0.47019\tvalidate-avgRecall:0.32092\n",
      "Predicting for fold 1...\n",
      "Start processing fold 2...\n",
      "Class distribution: (array([0, 1, 2]), array([ 6057, 18957, 29261]))\n",
      "Class instance weights: (array([0.618286  , 0.95435283, 2.98690221]), array([29261, 18957,  6057]))\n",
      "Start training model for fold 2...\n",
      "[0]\ttrain-avgRecall:0.30423\tvalidate-avgRecall:0.22603\n",
      "[200]\ttrain-avgRecall:0.41465\tvalidate-avgRecall:0.29112\n",
      "[400]\ttrain-avgRecall:0.43955\tvalidate-avgRecall:0.30143\n",
      "[600]\ttrain-avgRecall:0.45902\tvalidate-avgRecall:0.30607\n",
      "[655]\ttrain-avgRecall:0.46346\tvalidate-avgRecall:0.30935\n",
      "Predicting for fold 2...\n",
      "Start processing fold 3...\n",
      "Class distribution: (array([0, 1, 2]), array([ 6057, 18958, 29260]))\n",
      "Class instance weights: (array([0.61830713, 0.95430249, 2.98690221]), array([29260, 18958,  6057]))\n",
      "Start training model for fold 3...\n",
      "[0]\ttrain-avgRecall:0.31193\tvalidate-avgRecall:0.25652\n",
      "[200]\ttrain-avgRecall:0.41671\tvalidate-avgRecall:0.31505\n",
      "[400]\ttrain-avgRecall:0.44617\tvalidate-avgRecall:0.33056\n",
      "[476]\ttrain-avgRecall:0.45401\tvalidate-avgRecall:0.33048\n",
      "Predicting for fold 3...\n",
      "Weighted average recall scores for class 0 and 1 averaged across all folds: 0.3202475831335598\n"
     ]
    },
    {
     "name": "stderr",
     "output_type": "stream",
     "text": [
      "\u001b[32m[I 2023-01-04 00:05:35,959]\u001b[0m Trial 64 finished with value: 0.3202475831335598 and parameters: {'learning_rate': 0.14039617466758164, 'gamma': 1, 'max_delta_step': 9, 'lambda': 100, 'alpha': 10, 'colsample_bylevel': 0.8, 'colsample_bynode': 0.6, 'colsample_bytree': 1.0, 'subsample': 0.6, 'max_depth': 3, 'num_feat': 80, 'step': 0.3, 'num_boost_round': 700}. Best is trial 22 with value: 0.3603849635434114.\u001b[0m\n"
     ]
    },
    {
     "name": "stdout",
     "output_type": "stream",
     "text": [
      "Start processing fold 1...\n",
      "Class distribution: (array([0, 1, 2]), array([ 6056, 18957, 29261]))\n",
      "Class instance weights: (array([0.61827461, 0.95433525, 2.98734038]), array([29261, 18957,  6056]))\n",
      "Start training model for fold 1...\n",
      "[0]\ttrain-avgRecall:0.37708\tvalidate-avgRecall:0.28958\n",
      "[200]\ttrain-avgRecall:0.61900\tvalidate-avgRecall:0.32643\n",
      "[400]\ttrain-avgRecall:0.68944\tvalidate-avgRecall:0.33323\n",
      "[600]\ttrain-avgRecall:0.72198\tvalidate-avgRecall:0.33714\n",
      "[799]\ttrain-avgRecall:0.73810\tvalidate-avgRecall:0.34162\n",
      "Predicting for fold 1...\n",
      "Start processing fold 2...\n",
      "Class distribution: (array([0, 1, 2]), array([ 6057, 18957, 29261]))\n",
      "Class instance weights: (array([0.618286  , 0.95435283, 2.98690221]), array([29261, 18957,  6057]))\n",
      "Start training model for fold 2...\n",
      "[0]\ttrain-avgRecall:0.35044\tvalidate-avgRecall:0.26465\n",
      "[200]\ttrain-avgRecall:0.61446\tvalidate-avgRecall:0.32526\n",
      "[400]\ttrain-avgRecall:0.68474\tvalidate-avgRecall:0.33805\n",
      "[468]\ttrain-avgRecall:0.69773\tvalidate-avgRecall:0.33901\n",
      "Predicting for fold 2...\n",
      "Start processing fold 3...\n",
      "Class distribution: (array([0, 1, 2]), array([ 6057, 18958, 29260]))\n",
      "Class instance weights: (array([0.61830713, 0.95430249, 2.98690221]), array([29260, 18958,  6057]))\n",
      "Start training model for fold 3...\n",
      "[0]\ttrain-avgRecall:0.37705\tvalidate-avgRecall:0.28147\n",
      "[200]\ttrain-avgRecall:0.61791\tvalidate-avgRecall:0.35663\n",
      "[400]\ttrain-avgRecall:0.68759\tvalidate-avgRecall:0.36558\n",
      "[467]\ttrain-avgRecall:0.70038\tvalidate-avgRecall:0.36910\n",
      "Predicting for fold 3...\n"
     ]
    },
    {
     "name": "stderr",
     "output_type": "stream",
     "text": [
      "\u001b[32m[I 2023-01-04 00:08:54,588]\u001b[0m Trial 65 finished with value: 0.3498581413487134 and parameters: {'learning_rate': 0.12440737540839505, 'gamma': 1, 'max_delta_step': 10, 'lambda': 100, 'alpha': 10, 'colsample_bylevel': 0.7, 'colsample_bynode': 0.6, 'colsample_bytree': 1.0, 'subsample': 0.6, 'max_depth': 11, 'num_feat': 80, 'step': 0.3, 'num_boost_round': 800}. Best is trial 22 with value: 0.3603849635434114.\u001b[0m\n"
     ]
    },
    {
     "name": "stdout",
     "output_type": "stream",
     "text": [
      "Weighted average recall scores for class 0 and 1 averaged across all folds: 0.3498581413487134\n",
      "Start processing fold 1...\n",
      "Class distribution: (array([0, 1, 2]), array([ 6056, 18957, 29261]))\n",
      "Class instance weights: (array([0.61827461, 0.95433525, 2.98734038]), array([29261, 18957,  6056]))\n",
      "Start training model for fold 1...\n",
      "[0]\ttrain-avgRecall:0.36001\tvalidate-avgRecall:0.27854\n",
      "[200]\ttrain-avgRecall:0.52277\tvalidate-avgRecall:0.32419\n",
      "[400]\ttrain-avgRecall:0.55979\tvalidate-avgRecall:0.33115\n",
      "[599]\ttrain-avgRecall:0.57814\tvalidate-avgRecall:0.34098\n",
      "Predicting for fold 1...\n",
      "Start processing fold 2...\n",
      "Class distribution: (array([0, 1, 2]), array([ 6057, 18957, 29261]))\n",
      "Class instance weights: (array([0.618286  , 0.95435283, 2.98690221]), array([29261, 18957,  6057]))\n",
      "Start training model for fold 2...\n",
      "[0]\ttrain-avgRecall:0.30755\tvalidate-avgRecall:0.23419\n",
      "[200]\ttrain-avgRecall:0.51851\tvalidate-avgRecall:0.30831\n",
      "[400]\ttrain-avgRecall:0.55569\tvalidate-avgRecall:0.31742\n",
      "[599]\ttrain-avgRecall:0.57488\tvalidate-avgRecall:0.32470\n",
      "Predicting for fold 2...\n",
      "Start processing fold 3...\n",
      "Class distribution: (array([0, 1, 2]), array([ 6057, 18958, 29260]))\n",
      "Class instance weights: (array([0.61830713, 0.95430249, 2.98690221]), array([29260, 18958,  6057]))\n",
      "Start training model for fold 3...\n",
      "[0]\ttrain-avgRecall:0.33880\tvalidate-avgRecall:0.26251\n",
      "[200]\ttrain-avgRecall:0.52265\tvalidate-avgRecall:0.33888\n",
      "[292]\ttrain-avgRecall:0.54160\tvalidate-avgRecall:0.33920\n",
      "Predicting for fold 3...\n",
      "Weighted average recall scores for class 0 and 1 averaged across all folds: 0.33490573426855486\n"
     ]
    },
    {
     "name": "stderr",
     "output_type": "stream",
     "text": [
      "\u001b[32m[I 2023-01-04 00:11:15,787]\u001b[0m Trial 66 finished with value: 0.33490573426855486 and parameters: {'learning_rate': 0.1832593346856563, 'gamma': 2, 'max_delta_step': 9, 'lambda': 100, 'alpha': 10, 'colsample_bylevel': 0.6, 'colsample_bynode': 0.6, 'colsample_bytree': 1.0, 'subsample': 0.5, 'max_depth': 11, 'num_feat': 60, 'step': 0.3, 'num_boost_round': 600}. Best is trial 22 with value: 0.3603849635434114.\u001b[0m\n"
     ]
    },
    {
     "name": "stdout",
     "output_type": "stream",
     "text": [
      "Start processing fold 1...\n",
      "Class distribution: (array([0, 1, 2]), array([ 6056, 18957, 29261]))\n",
      "Class instance weights: (array([0.61827461, 0.95433525, 2.98734038]), array([29261, 18957,  6056]))\n",
      "Start training model for fold 1...\n",
      "[0]\ttrain-avgRecall:0.35302\tvalidate-avgRecall:0.26583\n",
      "[101]\ttrain-avgRecall:0.38860\tvalidate-avgRecall:0.28086\n",
      "Predicting for fold 1...\n",
      "Start processing fold 2...\n",
      "Class distribution: (array([0, 1, 2]), array([ 6057, 18957, 29261]))\n",
      "Class instance weights: (array([0.618286  , 0.95435283, 2.98690221]), array([29261, 18957,  6057]))\n",
      "Start training model for fold 2...\n",
      "[0]\ttrain-avgRecall:0.30255\tvalidate-avgRecall:0.24498\n",
      "[200]\ttrain-avgRecall:0.39046\tvalidate-avgRecall:0.28464\n",
      "[400]\ttrain-avgRecall:0.39634\tvalidate-avgRecall:0.28912\n",
      "[600]\ttrain-avgRecall:0.39818\tvalidate-avgRecall:0.29064\n",
      "[656]\ttrain-avgRecall:0.39814\tvalidate-avgRecall:0.29008\n",
      "Predicting for fold 2...\n",
      "Start processing fold 3...\n",
      "Class distribution: (array([0, 1, 2]), array([ 6057, 18958, 29260]))\n",
      "Class instance weights: (array([0.61830713, 0.95430249, 2.98690221]), array([29260, 18958,  6057]))\n",
      "Start training model for fold 3...\n",
      "[0]\ttrain-avgRecall:0.31353\tvalidate-avgRecall:0.25684\n",
      "[200]\ttrain-avgRecall:0.39572\tvalidate-avgRecall:0.30817\n",
      "[400]\ttrain-avgRecall:0.40280\tvalidate-avgRecall:0.31185\n",
      "[449]\ttrain-avgRecall:0.40336\tvalidate-avgRecall:0.31233\n"
     ]
    },
    {
     "name": "stderr",
     "output_type": "stream",
     "text": [
      "\u001b[32m[I 2023-01-04 00:13:01,908]\u001b[0m Trial 67 finished with value: 0.2944226291898435 and parameters: {'learning_rate': 0.11139711022577642, 'gamma': 6, 'max_delta_step': 8, 'lambda': 100, 'alpha': 10, 'colsample_bylevel': 0.6, 'colsample_bynode': 0.9, 'colsample_bytree': 0.9, 'subsample': 0.6, 'max_depth': 5, 'num_feat': 80, 'step': 0.3, 'num_boost_round': 1900}. Best is trial 22 with value: 0.3603849635434114.\u001b[0m\n"
     ]
    },
    {
     "name": "stdout",
     "output_type": "stream",
     "text": [
      "Predicting for fold 3...\n",
      "Weighted average recall scores for class 0 and 1 averaged across all folds: 0.2944226291898435\n",
      "Start processing fold 1...\n",
      "Class distribution: (array([0, 1, 2]), array([ 6056, 18957, 29261]))\n",
      "Class instance weights: (array([0.61827461, 0.95433525, 2.98734038]), array([29261, 18957,  6056]))\n",
      "Start training model for fold 1...\n",
      "[0]\ttrain-avgRecall:0.30588\tvalidate-avgRecall:0.24328\n",
      "[200]\ttrain-avgRecall:0.46452\tvalidate-avgRecall:0.31564\n",
      "[397]\ttrain-avgRecall:0.51665\tvalidate-avgRecall:0.33227\n",
      "Predicting for fold 1...\n",
      "Start processing fold 2...\n",
      "Class distribution: (array([0, 1, 2]), array([ 6057, 18957, 29261]))\n",
      "Class instance weights: (array([0.618286  , 0.95435283, 2.98690221]), array([29261, 18957,  6057]))\n",
      "Start training model for fold 2...\n",
      "[0]\ttrain-avgRecall:0.29391\tvalidate-avgRecall:0.22555\n",
      "[200]\ttrain-avgRecall:0.46322\tvalidate-avgRecall:0.30911\n",
      "[400]\ttrain-avgRecall:0.51307\tvalidate-avgRecall:0.32342\n",
      "[597]\ttrain-avgRecall:0.55381\tvalidate-avgRecall:0.32734\n",
      "Predicting for fold 2...\n",
      "Start processing fold 3...\n",
      "Class distribution: (array([0, 1, 2]), array([ 6057, 18958, 29260]))\n",
      "Class instance weights: (array([0.61830713, 0.95430249, 2.98690221]), array([29260, 18958,  6057]))\n",
      "Start training model for fold 3...\n",
      "[0]\ttrain-avgRecall:0.30258\tvalidate-avgRecall:0.23597\n",
      "[200]\ttrain-avgRecall:0.46436\tvalidate-avgRecall:0.32153\n",
      "[400]\ttrain-avgRecall:0.51529\tvalidate-avgRecall:0.33320\n",
      "[600]\ttrain-avgRecall:0.55495\tvalidate-avgRecall:0.34567\n",
      "[768]\ttrain-avgRecall:0.57873\tvalidate-avgRecall:0.34775\n",
      "Predicting for fold 3...\n"
     ]
    },
    {
     "name": "stderr",
     "output_type": "stream",
     "text": [
      "\u001b[32m[I 2023-01-04 00:15:32,273]\u001b[0m Trial 68 finished with value: 0.33575905241779286 and parameters: {'learning_rate': 0.16334903624337738, 'gamma': 1, 'max_delta_step': 7, 'lambda': 1, 'alpha': 10, 'colsample_bylevel': 0.8, 'colsample_bynode': 0.6, 'colsample_bytree': 1.0, 'subsample': 0.6, 'max_depth': 4, 'num_feat': 80, 'step': 0.3, 'num_boost_round': 900}. Best is trial 22 with value: 0.3603849635434114.\u001b[0m\n"
     ]
    },
    {
     "name": "stdout",
     "output_type": "stream",
     "text": [
      "Weighted average recall scores for class 0 and 1 averaged across all folds: 0.33575905241779286\n",
      "Start processing fold 1...\n",
      "Class distribution: (array([0, 1, 2]), array([ 6056, 18957, 29261]))\n",
      "Class instance weights: (array([0.61827461, 0.95433525, 2.98734038]), array([29261, 18957,  6056]))\n",
      "Start training model for fold 1...\n",
      "[0]\ttrain-avgRecall:0.35829\tvalidate-avgRecall:0.29589\n",
      "[100]\ttrain-avgRecall:0.39979\tvalidate-avgRecall:0.27670\n",
      "Predicting for fold 1...\n",
      "Start processing fold 2...\n",
      "Class distribution: (array([0, 1, 2]), array([ 6057, 18957, 29261]))\n",
      "Class instance weights: (array([0.618286  , 0.95435283, 2.98690221]), array([29261, 18957,  6057]))\n",
      "Start training model for fold 2...\n",
      "[0]\ttrain-avgRecall:0.37259\tvalidate-avgRecall:0.28704\n",
      "[100]\ttrain-avgRecall:0.39130\tvalidate-avgRecall:0.27720\n",
      "Predicting for fold 2...\n",
      "Start processing fold 3...\n",
      "Class distribution: (array([0, 1, 2]), array([ 6057, 18958, 29260]))\n",
      "Class instance weights: (array([0.61830713, 0.95430249, 2.98690221]), array([29260, 18958,  6057]))\n",
      "Start training model for fold 3...\n",
      "[0]\ttrain-avgRecall:0.37582\tvalidate-avgRecall:0.30601\n",
      "[99]\ttrain-avgRecall:0.40028\tvalidate-avgRecall:0.29778\n"
     ]
    },
    {
     "name": "stderr",
     "output_type": "stream",
     "text": [
      "\u001b[32m[I 2023-01-04 00:16:25,969]\u001b[0m Trial 69 finished with value: 0.2837616447948823 and parameters: {'learning_rate': 0.09305386243834944, 'gamma': 2, 'max_delta_step': 6, 'lambda': 100, 'alpha': 100, 'colsample_bylevel': 0.6, 'colsample_bynode': 1.0, 'colsample_bytree': 1.0, 'subsample': 0.9, 'max_depth': 11, 'num_feat': 80, 'step': 0.3, 'num_boost_round': 500}. Best is trial 22 with value: 0.3603849635434114.\u001b[0m\n"
     ]
    },
    {
     "name": "stdout",
     "output_type": "stream",
     "text": [
      "Predicting for fold 3...\n",
      "Weighted average recall scores for class 0 and 1 averaged across all folds: 0.2837616447948823\n",
      "Start processing fold 1...\n",
      "Class distribution: (array([0, 1, 2]), array([ 6056, 18957, 29261]))\n",
      "Class instance weights: (array([0.61827461, 0.95433525, 2.98734038]), array([29261, 18957,  6056]))\n",
      "Start training model for fold 1...\n",
      "[0]\ttrain-avgRecall:0.34978\tvalidate-avgRecall:0.26887\n",
      "[200]\ttrain-avgRecall:0.60205\tvalidate-avgRecall:0.35369\n",
      "[400]\ttrain-avgRecall:0.67773\tvalidate-avgRecall:0.36209\n",
      "[600]\ttrain-avgRecall:0.71303\tvalidate-avgRecall:0.37200\n",
      "[800]\ttrain-avgRecall:0.73254\tvalidate-avgRecall:0.37272\n",
      "[1000]\ttrain-avgRecall:0.74321\tvalidate-avgRecall:0.37800\n",
      "[1098]\ttrain-avgRecall:0.74721\tvalidate-avgRecall:0.37688\n",
      "Predicting for fold 1...\n",
      "Start processing fold 2...\n",
      "Class distribution: (array([0, 1, 2]), array([ 6057, 18957, 29261]))\n",
      "Class instance weights: (array([0.618286  , 0.95435283, 2.98690221]), array([29261, 18957,  6057]))\n",
      "Start training model for fold 2...\n",
      "[0]\ttrain-avgRecall:0.33909\tvalidate-avgRecall:0.23547\n",
      "[200]\ttrain-avgRecall:0.60110\tvalidate-avgRecall:0.31271\n",
      "[400]\ttrain-avgRecall:0.67334\tvalidate-avgRecall:0.32366\n",
      "[483]\ttrain-avgRecall:0.68961\tvalidate-avgRecall:0.32238\n",
      "Predicting for fold 2...\n",
      "Start processing fold 3...\n",
      "Class distribution: (array([0, 1, 2]), array([ 6057, 18958, 29260]))\n",
      "Class instance weights: (array([0.61830713, 0.95430249, 2.98690221]), array([29260, 18958,  6057]))\n",
      "Start training model for fold 3...\n",
      "[0]\ttrain-avgRecall:0.38413\tvalidate-avgRecall:0.27307\n",
      "[200]\ttrain-avgRecall:0.60352\tvalidate-avgRecall:0.31617\n",
      "[400]\ttrain-avgRecall:0.67743\tvalidate-avgRecall:0.33352\n",
      "[581]\ttrain-avgRecall:0.71145\tvalidate-avgRecall:0.33160\n",
      "Predicting for fold 3...\n"
     ]
    },
    {
     "name": "stderr",
     "output_type": "stream",
     "text": [
      "\u001b[32m[I 2023-01-04 00:20:22,203]\u001b[0m Trial 70 finished with value: 0.3435397436644554 and parameters: {'learning_rate': 0.13081327954303587, 'gamma': 1, 'max_delta_step': 9, 'lambda': 100, 'alpha': 1, 'colsample_bylevel': 0.8, 'colsample_bynode': 0.8, 'colsample_bytree': 0.6, 'subsample': 0.7, 'max_depth': 8, 'num_feat': 60, 'step': 0.1, 'num_boost_round': 1400}. Best is trial 22 with value: 0.3603849635434114.\u001b[0m\n"
     ]
    },
    {
     "name": "stdout",
     "output_type": "stream",
     "text": [
      "Weighted average recall scores for class 0 and 1 averaged across all folds: 0.3435397436644554\n",
      "Start processing fold 1...\n",
      "Class distribution: (array([0, 1, 2]), array([ 6056, 18957, 29261]))\n",
      "Class instance weights: (array([0.61827461, 0.95433525, 2.98734038]), array([29261, 18957,  6056]))\n",
      "Start training model for fold 1...\n",
      "[0]\ttrain-avgRecall:0.40051\tvalidate-avgRecall:0.32171\n",
      "[200]\ttrain-avgRecall:0.72670\tvalidate-avgRecall:0.33347\n",
      "[400]\ttrain-avgRecall:0.82993\tvalidate-avgRecall:0.33778\n",
      "[402]\ttrain-avgRecall:0.83149\tvalidate-avgRecall:0.33890\n",
      "Predicting for fold 1...\n",
      "Start processing fold 2...\n",
      "Class distribution: (array([0, 1, 2]), array([ 6057, 18957, 29261]))\n",
      "Class instance weights: (array([0.618286  , 0.95435283, 2.98690221]), array([29261, 18957,  6057]))\n",
      "Start training model for fold 2...\n",
      "[0]\ttrain-avgRecall:0.37123\tvalidate-avgRecall:0.26105\n",
      "[200]\ttrain-avgRecall:0.72188\tvalidate-avgRecall:0.33845\n",
      "[400]\ttrain-avgRecall:0.83049\tvalidate-avgRecall:0.34093\n",
      "[480]\ttrain-avgRecall:0.85700\tvalidate-avgRecall:0.34077\n",
      "Predicting for fold 2...\n",
      "Start processing fold 3...\n",
      "Class distribution: (array([0, 1, 2]), array([ 6057, 18958, 29260]))\n",
      "Class instance weights: (array([0.61830713, 0.95430249, 2.98690221]), array([29260, 18958,  6057]))\n",
      "Start training model for fold 3...\n",
      "[0]\ttrain-avgRecall:0.36546\tvalidate-avgRecall:0.28698\n",
      "[200]\ttrain-avgRecall:0.72065\tvalidate-avgRecall:0.35511\n",
      "[360]\ttrain-avgRecall:0.81527\tvalidate-avgRecall:0.35471\n",
      "Predicting for fold 3...\n"
     ]
    },
    {
     "name": "stderr",
     "output_type": "stream",
     "text": [
      "\u001b[32m[I 2023-01-04 00:23:03,760]\u001b[0m Trial 71 finished with value: 0.3447940035350154 and parameters: {'learning_rate': 0.15281915358957854, 'gamma': 0, 'max_delta_step': 8, 'lambda': 100, 'alpha': 10, 'colsample_bylevel': 0.6, 'colsample_bynode': 0.6, 'colsample_bytree': 1.0, 'subsample': 0.6, 'max_depth': 11, 'num_feat': 80, 'step': 0.3, 'num_boost_round': 1200}. Best is trial 22 with value: 0.3603849635434114.\u001b[0m\n"
     ]
    },
    {
     "name": "stdout",
     "output_type": "stream",
     "text": [
      "Weighted average recall scores for class 0 and 1 averaged across all folds: 0.3447940035350154\n",
      "Start processing fold 1...\n",
      "Class distribution: (array([0, 1, 2]), array([ 6056, 18957, 29261]))\n",
      "Class instance weights: (array([0.61827461, 0.95433525, 2.98734038]), array([29261, 18957,  6056]))\n",
      "Start training model for fold 1...\n",
      "[0]\ttrain-avgRecall:0.39603\tvalidate-avgRecall:0.30924\n",
      "[200]\ttrain-avgRecall:0.76768\tvalidate-avgRecall:0.33619\n",
      "[400]\ttrain-avgRecall:0.86339\tvalidate-avgRecall:0.34386\n",
      "[433]\ttrain-avgRecall:0.87458\tvalidate-avgRecall:0.34594\n",
      "Predicting for fold 1...\n",
      "Start processing fold 2...\n",
      "Class distribution: (array([0, 1, 2]), array([ 6057, 18957, 29261]))\n",
      "Class instance weights: (array([0.618286  , 0.95435283, 2.98690221]), array([29261, 18957,  6057]))\n",
      "Start training model for fold 2...\n",
      "[0]\ttrain-avgRecall:0.37939\tvalidate-avgRecall:0.29479\n",
      "[200]\ttrain-avgRecall:0.76293\tvalidate-avgRecall:0.34325\n",
      "[400]\ttrain-avgRecall:0.86655\tvalidate-avgRecall:0.34804\n",
      "[475]\ttrain-avgRecall:0.88774\tvalidate-avgRecall:0.34573\n",
      "Predicting for fold 2...\n",
      "Start processing fold 3...\n",
      "Class distribution: (array([0, 1, 2]), array([ 6057, 18958, 29260]))\n",
      "Class instance weights: (array([0.61830713, 0.95430249, 2.98690221]), array([29260, 18958,  6057]))\n",
      "Start training model for fold 3...\n",
      "[0]\ttrain-avgRecall:0.38229\tvalidate-avgRecall:0.30034\n",
      "[200]\ttrain-avgRecall:0.76118\tvalidate-avgRecall:0.36678\n",
      "[400]\ttrain-avgRecall:0.86436\tvalidate-avgRecall:0.37038\n",
      "[478]\ttrain-avgRecall:0.88679\tvalidate-avgRecall:0.36838\n",
      "Predicting for fold 3...\n"
     ]
    },
    {
     "name": "stderr",
     "output_type": "stream",
     "text": [
      "\u001b[32m[I 2023-01-04 00:26:09,307]\u001b[0m Trial 72 finished with value: 0.353349389530577 and parameters: {'learning_rate': 0.1723283703128475, 'gamma': 0, 'max_delta_step': 8, 'lambda': 100, 'alpha': 10, 'colsample_bylevel': 0.9, 'colsample_bynode': 0.7, 'colsample_bytree': 1.0, 'subsample': 0.6, 'max_depth': 11, 'num_feat': 80, 'step': 0.3, 'num_boost_round': 1200}. Best is trial 22 with value: 0.3603849635434114.\u001b[0m\n"
     ]
    },
    {
     "name": "stdout",
     "output_type": "stream",
     "text": [
      "Weighted average recall scores for class 0 and 1 averaged across all folds: 0.353349389530577\n",
      "Start processing fold 1...\n",
      "Class distribution: (array([0, 1, 2]), array([ 6056, 18957, 29261]))\n",
      "Class instance weights: (array([0.61827461, 0.95433525, 2.98734038]), array([29261, 18957,  6056]))\n",
      "Start training model for fold 1...\n",
      "[0]\ttrain-avgRecall:0.37788\tvalidate-avgRecall:0.30724\n",
      "[200]\ttrain-avgRecall:0.62140\tvalidate-avgRecall:0.33075\n",
      "[400]\ttrain-avgRecall:0.68656\tvalidate-avgRecall:0.34490\n",
      "[523]\ttrain-avgRecall:0.70799\tvalidate-avgRecall:0.34426\n",
      "Predicting for fold 1...\n",
      "Start processing fold 2...\n",
      "Class distribution: (array([0, 1, 2]), array([ 6057, 18957, 29261]))\n",
      "Class instance weights: (array([0.618286  , 0.95435283, 2.98690221]), array([29261, 18957,  6057]))\n",
      "Start training model for fold 2...\n",
      "[0]\ttrain-avgRecall:0.34201\tvalidate-avgRecall:0.24714\n",
      "[200]\ttrain-avgRecall:0.62017\tvalidate-avgRecall:0.33997\n",
      "[400]\ttrain-avgRecall:0.68614\tvalidate-avgRecall:0.34852\n",
      "[600]\ttrain-avgRecall:0.71488\tvalidate-avgRecall:0.35412\n",
      "[657]\ttrain-avgRecall:0.72028\tvalidate-avgRecall:0.35284\n",
      "Predicting for fold 2...\n",
      "Start processing fold 3...\n",
      "Class distribution: (array([0, 1, 2]), array([ 6057, 18958, 29260]))\n",
      "Class instance weights: (array([0.61830713, 0.95430249, 2.98690221]), array([29260, 18958,  6057]))\n",
      "Start training model for fold 3...\n",
      "[0]\ttrain-avgRecall:0.37226\tvalidate-avgRecall:0.28226\n",
      "[200]\ttrain-avgRecall:0.62115\tvalidate-avgRecall:0.35519\n",
      "[400]\ttrain-avgRecall:0.68519\tvalidate-avgRecall:0.36614\n",
      "[450]\ttrain-avgRecall:0.69614\tvalidate-avgRecall:0.36335\n",
      "Predicting for fold 3...\n"
     ]
    },
    {
     "name": "stderr",
     "output_type": "stream",
     "text": [
      "\u001b[32m[I 2023-01-04 00:29:05,344]\u001b[0m Trial 73 finished with value: 0.35350920833590455 and parameters: {'learning_rate': 0.13949945314566042, 'gamma': 1, 'max_delta_step': 8, 'lambda': 100, 'alpha': 10, 'colsample_bylevel': 0.7, 'colsample_bynode': 0.5, 'colsample_bytree': 1.0, 'subsample': 0.6, 'max_depth': 11, 'num_feat': 80, 'step': 0.3, 'num_boost_round': 1300}. Best is trial 22 with value: 0.3603849635434114.\u001b[0m\n"
     ]
    },
    {
     "name": "stdout",
     "output_type": "stream",
     "text": [
      "Weighted average recall scores for class 0 and 1 averaged across all folds: 0.35350920833590455\n",
      "Start processing fold 1...\n",
      "Class distribution: (array([0, 1, 2]), array([ 6056, 18957, 29261]))\n",
      "Class instance weights: (array([0.61827461, 0.95433525, 2.98734038]), array([29261, 18957,  6056]))\n",
      "Start training model for fold 1...\n",
      "[0]\ttrain-avgRecall:0.40051\tvalidate-avgRecall:0.32171\n",
      "[200]\ttrain-avgRecall:0.73354\tvalidate-avgRecall:0.33674\n",
      "[397]\ttrain-avgRecall:0.83564\tvalidate-avgRecall:0.34234\n",
      "Predicting for fold 1...\n",
      "Start processing fold 2...\n",
      "Class distribution: (array([0, 1, 2]), array([ 6057, 18957, 29261]))\n",
      "Class instance weights: (array([0.618286  , 0.95435283, 2.98690221]), array([29261, 18957,  6057]))\n",
      "Start training model for fold 2...\n",
      "[0]\ttrain-avgRecall:0.37123\tvalidate-avgRecall:0.26105\n",
      "[200]\ttrain-avgRecall:0.73219\tvalidate-avgRecall:0.34269\n",
      "[400]\ttrain-avgRecall:0.83913\tvalidate-avgRecall:0.35028\n",
      "[443]\ttrain-avgRecall:0.85268\tvalidate-avgRecall:0.34892\n",
      "Predicting for fold 2...\n",
      "Start processing fold 3...\n",
      "Class distribution: (array([0, 1, 2]), array([ 6057, 18958, 29260]))\n",
      "Class instance weights: (array([0.61830713, 0.95430249, 2.98690221]), array([29260, 18958,  6057]))\n",
      "Start training model for fold 3...\n",
      "[0]\ttrain-avgRecall:0.36546\tvalidate-avgRecall:0.28698\n",
      "[200]\ttrain-avgRecall:0.72860\tvalidate-avgRecall:0.36215\n",
      "[282]\ttrain-avgRecall:0.78737\tvalidate-avgRecall:0.36311\n",
      "Predicting for fold 3...\n"
     ]
    },
    {
     "name": "stderr",
     "output_type": "stream",
     "text": [
      "\u001b[32m[I 2023-01-04 00:31:49,853]\u001b[0m Trial 74 finished with value: 0.35145707110171465 and parameters: {'learning_rate': 0.16154384892287094, 'gamma': 0, 'max_delta_step': 7, 'lambda': 100, 'alpha': 10, 'colsample_bylevel': 0.6, 'colsample_bynode': 0.6, 'colsample_bytree': 1.0, 'subsample': 0.6, 'max_depth': 11, 'num_feat': 80, 'step': 0.3, 'num_boost_round': 1100}. Best is trial 22 with value: 0.3603849635434114.\u001b[0m\n"
     ]
    },
    {
     "name": "stdout",
     "output_type": "stream",
     "text": [
      "Weighted average recall scores for class 0 and 1 averaged across all folds: 0.35145707110171465\n",
      "Start processing fold 1...\n",
      "Class distribution: (array([0, 1, 2]), array([ 6056, 18957, 29261]))\n",
      "Class instance weights: (array([0.61827461, 0.95433525, 2.98734038]), array([29261, 18957,  6056]))\n",
      "Start training model for fold 1...\n",
      "[0]\ttrain-avgRecall:0.36681\tvalidate-avgRecall:0.27910\n",
      "[200]\ttrain-avgRecall:0.55371\tvalidate-avgRecall:0.34474\n",
      "[400]\ttrain-avgRecall:0.63359\tvalidate-avgRecall:0.36313\n",
      "[600]\ttrain-avgRecall:0.68121\tvalidate-avgRecall:0.37376\n",
      "[800]\ttrain-avgRecall:0.71207\tvalidate-avgRecall:0.37816\n",
      "[847]\ttrain-avgRecall:0.71743\tvalidate-avgRecall:0.37672\n",
      "Predicting for fold 1...\n",
      "Start processing fold 2...\n",
      "Class distribution: (array([0, 1, 2]), array([ 6057, 18957, 29261]))\n",
      "Class instance weights: (array([0.618286  , 0.95435283, 2.98690221]), array([29261, 18957,  6057]))\n",
      "Start training model for fold 2...\n",
      "[0]\ttrain-avgRecall:0.33989\tvalidate-avgRecall:0.26025\n",
      "[200]\ttrain-avgRecall:0.55489\tvalidate-avgRecall:0.31614\n",
      "[400]\ttrain-avgRecall:0.62949\tvalidate-avgRecall:0.33805\n",
      "[557]\ttrain-avgRecall:0.66671\tvalidate-avgRecall:0.34053\n",
      "Predicting for fold 2...\n",
      "Start processing fold 3...\n",
      "Class distribution: (array([0, 1, 2]), array([ 6057, 18958, 29260]))\n",
      "Class instance weights: (array([0.61830713, 0.95430249, 2.98690221]), array([29260, 18958,  6057]))\n",
      "Start training model for fold 3...\n",
      "[0]\ttrain-avgRecall:0.37745\tvalidate-avgRecall:0.29530\n",
      "[200]\ttrain-avgRecall:0.55595\tvalidate-avgRecall:0.35367\n",
      "[400]\ttrain-avgRecall:0.63310\tvalidate-avgRecall:0.36622\n",
      "[448]\ttrain-avgRecall:0.64725\tvalidate-avgRecall:0.36718\n",
      "Predicting for fold 3...\n"
     ]
    },
    {
     "name": "stderr",
     "output_type": "stream",
     "text": [
      "\u001b[32m[I 2023-01-04 00:35:03,050]\u001b[0m Trial 75 finished with value: 0.3614773184310625 and parameters: {'learning_rate': 0.15172330358622138, 'gamma': 1, 'max_delta_step': 9, 'lambda': 100, 'alpha': 10, 'colsample_bylevel': 0.8, 'colsample_bynode': 0.7, 'colsample_bytree': 0.9, 'subsample': 0.6, 'max_depth': 7, 'num_feat': 70, 'step': 0.3, 'num_boost_round': 900}. Best is trial 75 with value: 0.3614773184310625.\u001b[0m\n"
     ]
    },
    {
     "name": "stdout",
     "output_type": "stream",
     "text": [
      "Weighted average recall scores for class 0 and 1 averaged across all folds: 0.3614773184310625\n",
      "Start processing fold 1...\n",
      "Class distribution: (array([0, 1, 2]), array([ 6056, 18957, 29261]))\n",
      "Class instance weights: (array([0.61827461, 0.95433525, 2.98734038]), array([29261, 18957,  6056]))\n",
      "Start training model for fold 1...\n",
      "[0]\ttrain-avgRecall:0.35194\tvalidate-avgRecall:0.25216\n",
      "[200]\ttrain-avgRecall:0.56115\tvalidate-avgRecall:0.32835\n",
      "[400]\ttrain-avgRecall:0.65110\tvalidate-avgRecall:0.34706\n",
      "[600]\ttrain-avgRecall:0.70343\tvalidate-avgRecall:0.35385\n",
      "[800]\ttrain-avgRecall:0.73418\tvalidate-avgRecall:0.35449\n",
      "[861]\ttrain-avgRecall:0.74225\tvalidate-avgRecall:0.35505\n",
      "Predicting for fold 1...\n",
      "Start processing fold 2...\n",
      "Class distribution: (array([0, 1, 2]), array([ 6057, 18957, 29261]))\n",
      "Class instance weights: (array([0.618286  , 0.95435283, 2.98690221]), array([29261, 18957,  6057]))\n",
      "Start training model for fold 2...\n",
      "[0]\ttrain-avgRecall:0.34773\tvalidate-avgRecall:0.24138\n",
      "[200]\ttrain-avgRecall:0.55921\tvalidate-avgRecall:0.32014\n",
      "[400]\ttrain-avgRecall:0.64884\tvalidate-avgRecall:0.33549\n",
      "[600]\ttrain-avgRecall:0.70049\tvalidate-avgRecall:0.34293\n",
      "[800]\ttrain-avgRecall:0.72931\tvalidate-avgRecall:0.34964\n",
      "[899]\ttrain-avgRecall:0.74314\tvalidate-avgRecall:0.35156\n",
      "Predicting for fold 2...\n",
      "Start processing fold 3...\n",
      "Class distribution: (array([0, 1, 2]), array([ 6057, 18958, 29260]))\n",
      "Class instance weights: (array([0.61830713, 0.95430249, 2.98690221]), array([29260, 18958,  6057]))\n",
      "Start training model for fold 3...\n",
      "[0]\ttrain-avgRecall:0.37482\tvalidate-avgRecall:0.28322\n",
      "[200]\ttrain-avgRecall:0.56082\tvalidate-avgRecall:0.34895\n",
      "[400]\ttrain-avgRecall:0.64929\tvalidate-avgRecall:0.36495\n",
      "[579]\ttrain-avgRecall:0.69666\tvalidate-avgRecall:0.37198\n",
      "Predicting for fold 3...\n"
     ]
    },
    {
     "name": "stderr",
     "output_type": "stream",
     "text": [
      "\u001b[32m[I 2023-01-04 00:38:58,181]\u001b[0m Trial 76 finished with value: 0.35953242102342603 and parameters: {'learning_rate': 0.10519317014193467, 'gamma': 1, 'max_delta_step': 9, 'lambda': 10, 'alpha': 10, 'colsample_bylevel': 0.8, 'colsample_bynode': 0.6, 'colsample_bytree': 0.9, 'subsample': 0.6, 'max_depth': 7, 'num_feat': 70, 'step': 0.3, 'num_boost_round': 900}. Best is trial 75 with value: 0.3614773184310625.\u001b[0m\n"
     ]
    },
    {
     "name": "stdout",
     "output_type": "stream",
     "text": [
      "Weighted average recall scores for class 0 and 1 averaged across all folds: 0.35953242102342603\n",
      "Start processing fold 1...\n",
      "Class distribution: (array([0, 1, 2]), array([ 6056, 18957, 29261]))\n",
      "Class instance weights: (array([0.61827461, 0.95433525, 2.98734038]), array([29261, 18957,  6056]))\n",
      "Start training model for fold 1...\n",
      "[0]\ttrain-avgRecall:0.37097\tvalidate-avgRecall:0.24784\n",
      "[200]\ttrain-avgRecall:0.50690\tvalidate-avgRecall:0.32044\n",
      "[400]\ttrain-avgRecall:0.55911\tvalidate-avgRecall:0.33730\n",
      "[600]\ttrain-avgRecall:0.59201\tvalidate-avgRecall:0.34418\n",
      "[800]\ttrain-avgRecall:0.61072\tvalidate-avgRecall:0.34738\n",
      "[899]\ttrain-avgRecall:0.61880\tvalidate-avgRecall:0.34818\n",
      "Predicting for fold 1...\n",
      "Start processing fold 2...\n",
      "Class distribution: (array([0, 1, 2]), array([ 6057, 18957, 29261]))\n",
      "Class instance weights: (array([0.618286  , 0.95435283, 2.98690221]), array([29261, 18957,  6057]))\n",
      "Start training model for fold 2...\n",
      "[0]\ttrain-avgRecall:0.37091\tvalidate-avgRecall:0.27153\n",
      "[200]\ttrain-avgRecall:0.49976\tvalidate-avgRecall:0.30823\n",
      "[400]\ttrain-avgRecall:0.55453\tvalidate-avgRecall:0.32030\n",
      "[600]\ttrain-avgRecall:0.58843\tvalidate-avgRecall:0.32886\n",
      "[800]\ttrain-avgRecall:0.60662\tvalidate-avgRecall:0.33397\n",
      "[899]\ttrain-avgRecall:0.61346\tvalidate-avgRecall:0.33709\n",
      "Predicting for fold 2...\n",
      "Start processing fold 3...\n",
      "Class distribution: (array([0, 1, 2]), array([ 6057, 18958, 29260]))\n",
      "Class instance weights: (array([0.61830713, 0.95430249, 2.98690221]), array([29260, 18958,  6057]))\n",
      "Start training model for fold 3...\n",
      "[0]\ttrain-avgRecall:0.38569\tvalidate-avgRecall:0.29050\n",
      "[200]\ttrain-avgRecall:0.50806\tvalidate-avgRecall:0.34216\n",
      "[362]\ttrain-avgRecall:0.55303\tvalidate-avgRecall:0.34303\n",
      "Predicting for fold 3...\n"
     ]
    },
    {
     "name": "stderr",
     "output_type": "stream",
     "text": [
      "\u001b[32m[I 2023-01-04 00:42:30,850]\u001b[0m Trial 77 finished with value: 0.3428478744719297 and parameters: {'learning_rate': 0.06512434593834576, 'gamma': 2, 'max_delta_step': 10, 'lambda': 10, 'alpha': 10, 'colsample_bylevel': 0.8, 'colsample_bynode': 0.9, 'colsample_bytree': 0.9, 'subsample': 0.6, 'max_depth': 7, 'num_feat': 70, 'step': 0.3, 'num_boost_round': 900}. Best is trial 75 with value: 0.3614773184310625.\u001b[0m\n"
     ]
    },
    {
     "name": "stdout",
     "output_type": "stream",
     "text": [
      "Weighted average recall scores for class 0 and 1 averaged across all folds: 0.3428478744719297\n",
      "Start processing fold 1...\n",
      "Class distribution: (array([0, 1, 2]), array([ 6056, 18957, 29261]))\n",
      "Class instance weights: (array([0.61827461, 0.95433525, 2.98734038]), array([29261, 18957,  6056]))\n",
      "Start training model for fold 1...\n",
      "[0]\ttrain-avgRecall:0.34306\tvalidate-avgRecall:0.28470\n",
      "[200]\ttrain-avgRecall:0.48231\tvalidate-avgRecall:0.32707\n",
      "[400]\ttrain-avgRecall:0.50426\tvalidate-avgRecall:0.33075\n",
      "[600]\ttrain-avgRecall:0.52033\tvalidate-avgRecall:0.33746\n",
      "[671]\ttrain-avgRecall:0.52305\tvalidate-avgRecall:0.33778\n",
      "Predicting for fold 1...\n",
      "Start processing fold 2...\n",
      "Class distribution: (array([0, 1, 2]), array([ 6057, 18957, 29261]))\n",
      "Class instance weights: (array([0.618286  , 0.95435283, 2.98690221]), array([29261, 18957,  6057]))\n",
      "Start training model for fold 2...\n",
      "[0]\ttrain-avgRecall:0.35072\tvalidate-avgRecall:0.24986\n",
      "[200]\ttrain-avgRecall:0.48329\tvalidate-avgRecall:0.27832\n",
      "[400]\ttrain-avgRecall:0.50656\tvalidate-avgRecall:0.28256\n",
      "[538]\ttrain-avgRecall:0.51455\tvalidate-avgRecall:0.28368\n",
      "Predicting for fold 2...\n",
      "Start processing fold 3...\n",
      "Class distribution: (array([0, 1, 2]), array([ 6057, 18958, 29260]))\n",
      "Class instance weights: (array([0.61830713, 0.95430249, 2.98690221]), array([29260, 18958,  6057]))\n",
      "Start training model for fold 3...\n",
      "[0]\ttrain-avgRecall:0.38849\tvalidate-avgRecall:0.32616\n",
      "[200]\ttrain-avgRecall:0.49015\tvalidate-avgRecall:0.33384\n",
      "[400]\ttrain-avgRecall:0.51445\tvalidate-avgRecall:0.34088\n",
      "[478]\ttrain-avgRecall:0.52113\tvalidate-avgRecall:0.34144\n",
      "Predicting for fold 3...\n",
      "Weighted average recall scores for class 0 and 1 averaged across all folds: 0.32096702252851234\n"
     ]
    },
    {
     "name": "stderr",
     "output_type": "stream",
     "text": [
      "\u001b[32m[I 2023-01-04 00:45:30,978]\u001b[0m Trial 78 finished with value: 0.32096702252851234 and parameters: {'learning_rate': 0.10254342812954712, 'gamma': 3, 'max_delta_step': 9, 'lambda': 10, 'alpha': 10, 'colsample_bylevel': 0.8, 'colsample_bynode': 0.6, 'colsample_bytree': 0.9, 'subsample': 0.6, 'max_depth': 7, 'num_feat': 70, 'step': 0.2, 'num_boost_round': 800}. Best is trial 75 with value: 0.3614773184310625.\u001b[0m\n"
     ]
    },
    {
     "name": "stdout",
     "output_type": "stream",
     "text": [
      "Start processing fold 1...\n",
      "Class distribution: (array([0, 1, 2]), array([ 6056, 18957, 29261]))\n",
      "Class instance weights: (array([0.61827461, 0.95433525, 2.98734038]), array([29261, 18957,  6056]))\n",
      "Start training model for fold 1...\n",
      "[0]\ttrain-avgRecall:0.39439\tvalidate-avgRecall:0.30261\n",
      "[200]\ttrain-avgRecall:0.55583\tvalidate-avgRecall:0.32707\n",
      "[400]\ttrain-avgRecall:0.62895\tvalidate-avgRecall:0.33890\n",
      "[600]\ttrain-avgRecall:0.66765\tvalidate-avgRecall:0.34178\n",
      "[786]\ttrain-avgRecall:0.68744\tvalidate-avgRecall:0.34490\n",
      "Predicting for fold 1...\n",
      "Start processing fold 2...\n",
      "Class distribution: (array([0, 1, 2]), array([ 6057, 18957, 29261]))\n",
      "Class instance weights: (array([0.618286  , 0.95435283, 2.98690221]), array([29261, 18957,  6057]))\n",
      "Start training model for fold 2...\n",
      "[0]\ttrain-avgRecall:0.35360\tvalidate-avgRecall:0.26761\n",
      "[200]\ttrain-avgRecall:0.55057\tvalidate-avgRecall:0.31454\n",
      "[400]\ttrain-avgRecall:0.62409\tvalidate-avgRecall:0.32526\n",
      "[600]\ttrain-avgRecall:0.66311\tvalidate-avgRecall:0.33213\n",
      "[714]\ttrain-avgRecall:0.67450\tvalidate-avgRecall:0.33181\n",
      "Predicting for fold 2...\n",
      "Start processing fold 3...\n",
      "Class distribution: (array([0, 1, 2]), array([ 6057, 18958, 29260]))\n",
      "Class instance weights: (array([0.61830713, 0.95430249, 2.98690221]), array([29260, 18958,  6057]))\n",
      "Start training model for fold 3...\n",
      "[0]\ttrain-avgRecall:0.39316\tvalidate-avgRecall:0.29738\n",
      "[200]\ttrain-avgRecall:0.55047\tvalidate-avgRecall:0.34208\n",
      "[400]\ttrain-avgRecall:0.62499\tvalidate-avgRecall:0.35975\n",
      "[600]\ttrain-avgRecall:0.66288\tvalidate-avgRecall:0.36383\n",
      "[800]\ttrain-avgRecall:0.68415\tvalidate-avgRecall:0.36758\n",
      "[899]\ttrain-avgRecall:0.69071\tvalidate-avgRecall:0.36598\n",
      "Predicting for fold 3...\n"
     ]
    },
    {
     "name": "stderr",
     "output_type": "stream",
     "text": [
      "\u001b[32m[I 2023-01-04 00:49:49,670]\u001b[0m Trial 79 finished with value: 0.3478057718483931 and parameters: {'learning_rate': 0.08856703724125159, 'gamma': 1, 'max_delta_step': 9, 'lambda': 10, 'alpha': 10, 'colsample_bylevel': 0.8, 'colsample_bynode': 0.7, 'colsample_bytree': 0.9, 'subsample': 0.8, 'max_depth': 7, 'num_feat': 70, 'step': 0.3, 'num_boost_round': 900}. Best is trial 75 with value: 0.3614773184310625.\u001b[0m\n"
     ]
    },
    {
     "name": "stdout",
     "output_type": "stream",
     "text": [
      "Weighted average recall scores for class 0 and 1 averaged across all folds: 0.3478057718483931\n",
      "Start processing fold 1...\n",
      "Class distribution: (array([0, 1, 2]), array([ 6056, 18957, 29261]))\n",
      "Class instance weights: (array([0.61827461, 0.95433525, 2.98734038]), array([29261, 18957,  6056]))\n",
      "Start training model for fold 1...\n",
      "[0]\ttrain-avgRecall:0.35194\tvalidate-avgRecall:0.25216\n",
      "[200]\ttrain-avgRecall:0.58398\tvalidate-avgRecall:0.33475\n",
      "[400]\ttrain-avgRecall:0.67721\tvalidate-avgRecall:0.34714\n",
      "[482]\ttrain-avgRecall:0.69916\tvalidate-avgRecall:0.34874\n",
      "Predicting for fold 1...\n",
      "Start processing fold 2...\n",
      "Class distribution: (array([0, 1, 2]), array([ 6057, 18957, 29261]))\n",
      "Class instance weights: (array([0.618286  , 0.95435283, 2.98690221]), array([29261, 18957,  6057]))\n",
      "Start training model for fold 2...\n",
      "[0]\ttrain-avgRecall:0.34773\tvalidate-avgRecall:0.24138\n",
      "[200]\ttrain-avgRecall:0.58291\tvalidate-avgRecall:0.32270\n",
      "[400]\ttrain-avgRecall:0.67526\tvalidate-avgRecall:0.33629\n",
      "[600]\ttrain-avgRecall:0.72259\tvalidate-avgRecall:0.34309\n",
      "[639]\ttrain-avgRecall:0.72895\tvalidate-avgRecall:0.34109\n",
      "Predicting for fold 2...\n",
      "Start processing fold 3...\n",
      "Class distribution: (array([0, 1, 2]), array([ 6057, 18958, 29260]))\n",
      "Class instance weights: (array([0.61830713, 0.95430249, 2.98690221]), array([29260, 18958,  6057]))\n",
      "Start training model for fold 3...\n",
      "[0]\ttrain-avgRecall:0.37482\tvalidate-avgRecall:0.28322\n",
      "[200]\ttrain-avgRecall:0.58217\tvalidate-avgRecall:0.34631\n",
      "[400]\ttrain-avgRecall:0.67144\tvalidate-avgRecall:0.35703\n",
      "[600]\ttrain-avgRecall:0.72013\tvalidate-avgRecall:0.36455\n",
      "[699]\ttrain-avgRecall:0.73636\tvalidate-avgRecall:0.36726\n",
      "Predicting for fold 3...\n"
     ]
    },
    {
     "name": "stderr",
     "output_type": "stream",
     "text": [
      "\u001b[32m[I 2023-01-04 00:53:20,126]\u001b[0m Trial 80 finished with value: 0.3525230811253692 and parameters: {'learning_rate': 0.12724527565989346, 'gamma': 1, 'max_delta_step': 9, 'lambda': 10, 'alpha': 10, 'colsample_bylevel': 0.8, 'colsample_bynode': 0.6, 'colsample_bytree': 0.9, 'subsample': 0.6, 'max_depth': 7, 'num_feat': 70, 'step': 0.3, 'num_boost_round': 700}. Best is trial 75 with value: 0.3614773184310625.\u001b[0m\n"
     ]
    },
    {
     "name": "stdout",
     "output_type": "stream",
     "text": [
      "Weighted average recall scores for class 0 and 1 averaged across all folds: 0.3525230811253692\n",
      "Start processing fold 1...\n",
      "Class distribution: (array([0, 1, 2]), array([ 6056, 18957, 29261]))\n",
      "Class instance weights: (array([0.61827461, 0.95433525, 2.98734038]), array([29261, 18957,  6056]))\n",
      "Start training model for fold 1...\n",
      "[0]\ttrain-avgRecall:0.35194\tvalidate-avgRecall:0.25216\n",
      "[200]\ttrain-avgRecall:0.59853\tvalidate-avgRecall:0.33914\n",
      "[400]\ttrain-avgRecall:0.68932\tvalidate-avgRecall:0.35513\n",
      "[600]\ttrain-avgRecall:0.73562\tvalidate-avgRecall:0.36593\n",
      "[757]\ttrain-avgRecall:0.75765\tvalidate-avgRecall:0.36241\n",
      "Predicting for fold 1...\n",
      "Start processing fold 2...\n",
      "Class distribution: (array([0, 1, 2]), array([ 6057, 18957, 29261]))\n",
      "Class instance weights: (array([0.618286  , 0.95435283, 2.98690221]), array([29261, 18957,  6057]))\n",
      "Start training model for fold 2...\n",
      "[0]\ttrain-avgRecall:0.34773\tvalidate-avgRecall:0.24138\n",
      "[200]\ttrain-avgRecall:0.59699\tvalidate-avgRecall:0.32846\n",
      "[400]\ttrain-avgRecall:0.68921\tvalidate-avgRecall:0.33949\n",
      "[600]\ttrain-avgRecall:0.73671\tvalidate-avgRecall:0.34685\n",
      "[621]\ttrain-avgRecall:0.73887\tvalidate-avgRecall:0.34693\n",
      "Predicting for fold 2...\n",
      "Start processing fold 3...\n",
      "Class distribution: (array([0, 1, 2]), array([ 6057, 18958, 29260]))\n",
      "Class instance weights: (array([0.61830713, 0.95430249, 2.98690221]), array([29260, 18958,  6057]))\n",
      "Start training model for fold 3...\n",
      "[0]\ttrain-avgRecall:0.37482\tvalidate-avgRecall:0.28322\n",
      "[200]\ttrain-avgRecall:0.59756\tvalidate-avgRecall:0.35063\n",
      "[400]\ttrain-avgRecall:0.68819\tvalidate-avgRecall:0.37006\n",
      "[546]\ttrain-avgRecall:0.72748\tvalidate-avgRecall:0.37046\n",
      "Predicting for fold 3...\n"
     ]
    },
    {
     "name": "stderr",
     "output_type": "stream",
     "text": [
      "\u001b[32m[I 2023-01-04 00:56:54,664]\u001b[0m Trial 81 finished with value: 0.3597453963012253 and parameters: {'learning_rate': 0.14426526554354677, 'gamma': 1, 'max_delta_step': 8, 'lambda': 10, 'alpha': 10, 'colsample_bylevel': 0.8, 'colsample_bynode': 0.6, 'colsample_bytree': 0.9, 'subsample': 0.6, 'max_depth': 7, 'num_feat': 70, 'step': 0.3, 'num_boost_round': 800}. Best is trial 75 with value: 0.3614773184310625.\u001b[0m\n"
     ]
    },
    {
     "name": "stdout",
     "output_type": "stream",
     "text": [
      "Weighted average recall scores for class 0 and 1 averaged across all folds: 0.3597453963012253\n",
      "Start processing fold 1...\n",
      "Class distribution: (array([0, 1, 2]), array([ 6056, 18957, 29261]))\n",
      "Class instance weights: (array([0.61827461, 0.95433525, 2.98734038]), array([29261, 18957,  6056]))\n",
      "Start training model for fold 1...\n",
      "[0]\ttrain-avgRecall:0.35194\tvalidate-avgRecall:0.25216\n",
      "[200]\ttrain-avgRecall:0.60225\tvalidate-avgRecall:0.35010\n",
      "[400]\ttrain-avgRecall:0.69060\tvalidate-avgRecall:0.36329\n",
      "[600]\ttrain-avgRecall:0.73634\tvalidate-avgRecall:0.36992\n",
      "[634]\ttrain-avgRecall:0.74161\tvalidate-avgRecall:0.37032\n",
      "Predicting for fold 1...\n",
      "Start processing fold 2...\n",
      "Class distribution: (array([0, 1, 2]), array([ 6057, 18957, 29261]))\n",
      "Class instance weights: (array([0.618286  , 0.95435283, 2.98690221]), array([29261, 18957,  6057]))\n",
      "Start training model for fold 2...\n",
      "[0]\ttrain-avgRecall:0.34773\tvalidate-avgRecall:0.24138\n",
      "[200]\ttrain-avgRecall:0.59818\tvalidate-avgRecall:0.33213\n",
      "[400]\ttrain-avgRecall:0.68793\tvalidate-avgRecall:0.34773\n",
      "[513]\ttrain-avgRecall:0.71816\tvalidate-avgRecall:0.34725\n",
      "Predicting for fold 2...\n",
      "Start processing fold 3...\n",
      "Class distribution: (array([0, 1, 2]), array([ 6057, 18958, 29260]))\n",
      "Class instance weights: (array([0.61830713, 0.95430249, 2.98690221]), array([29260, 18958,  6057]))\n",
      "Start training model for fold 3...\n",
      "[0]\ttrain-avgRecall:0.37482\tvalidate-avgRecall:0.28322\n",
      "[200]\ttrain-avgRecall:0.59644\tvalidate-avgRecall:0.34615\n",
      "[400]\ttrain-avgRecall:0.68847\tvalidate-avgRecall:0.35831\n",
      "[527]\ttrain-avgRecall:0.72001\tvalidate-avgRecall:0.35855\n",
      "Predicting for fold 3...\n"
     ]
    },
    {
     "name": "stderr",
     "output_type": "stream",
     "text": [
      "\u001b[32m[I 2023-01-04 01:00:20,223]\u001b[0m Trial 82 finished with value: 0.3588120760403079 and parameters: {'learning_rate': 0.14276749478545586, 'gamma': 1, 'max_delta_step': 9, 'lambda': 10, 'alpha': 10, 'colsample_bylevel': 0.8, 'colsample_bynode': 0.6, 'colsample_bytree': 0.9, 'subsample': 0.6, 'max_depth': 7, 'num_feat': 70, 'step': 0.3, 'num_boost_round': 800}. Best is trial 75 with value: 0.3614773184310625.\u001b[0m\n"
     ]
    },
    {
     "name": "stdout",
     "output_type": "stream",
     "text": [
      "Weighted average recall scores for class 0 and 1 averaged across all folds: 0.3588120760403079\n",
      "Start processing fold 1...\n",
      "Class distribution: (array([0, 1, 2]), array([ 6056, 18957, 29261]))\n",
      "Class instance weights: (array([0.61827461, 0.95433525, 2.98734038]), array([29261, 18957,  6056]))\n",
      "Start training model for fold 1...\n",
      "[0]\ttrain-avgRecall:0.35618\tvalidate-avgRecall:0.27518\n",
      "[200]\ttrain-avgRecall:0.53424\tvalidate-avgRecall:0.32739\n",
      "[400]\ttrain-avgRecall:0.57830\tvalidate-avgRecall:0.33579\n",
      "[600]\ttrain-avgRecall:0.60441\tvalidate-avgRecall:0.34210\n",
      "[774]\ttrain-avgRecall:0.61576\tvalidate-avgRecall:0.34386\n",
      "Predicting for fold 1...\n",
      "Start processing fold 2...\n",
      "Class distribution: (array([0, 1, 2]), array([ 6057, 18957, 29261]))\n",
      "Class instance weights: (array([0.618286  , 0.95435283, 2.98690221]), array([29261, 18957,  6057]))\n",
      "Start training model for fold 2...\n",
      "[0]\ttrain-avgRecall:0.35752\tvalidate-avgRecall:0.26617\n",
      "[200]\ttrain-avgRecall:0.53126\tvalidate-avgRecall:0.30983\n",
      "[400]\ttrain-avgRecall:0.58027\tvalidate-avgRecall:0.32102\n",
      "[600]\ttrain-avgRecall:0.60022\tvalidate-avgRecall:0.32670\n",
      "[687]\ttrain-avgRecall:0.60782\tvalidate-avgRecall:0.32438\n",
      "Predicting for fold 2...\n",
      "Start processing fold 3...\n",
      "Class distribution: (array([0, 1, 2]), array([ 6057, 18958, 29260]))\n",
      "Class instance weights: (array([0.61830713, 0.95430249, 2.98690221]), array([29260, 18958,  6057]))\n",
      "Start training model for fold 3...\n",
      "[0]\ttrain-avgRecall:0.36270\tvalidate-avgRecall:0.26939\n",
      "[200]\ttrain-avgRecall:0.52876\tvalidate-avgRecall:0.34591\n",
      "[400]\ttrain-avgRecall:0.57793\tvalidate-avgRecall:0.35927\n",
      "[600]\ttrain-avgRecall:0.60164\tvalidate-avgRecall:0.36215\n",
      "[799]\ttrain-avgRecall:0.61747\tvalidate-avgRecall:0.36455\n",
      "Predicting for fold 3...\n"
     ]
    },
    {
     "name": "stderr",
     "output_type": "stream",
     "text": [
      "\u001b[32m[I 2023-01-04 01:04:13,715]\u001b[0m Trial 83 finished with value: 0.34444766091225576 and parameters: {'learning_rate': 0.1139366811399053, 'gamma': 2, 'max_delta_step': 10, 'lambda': 10, 'alpha': 10, 'colsample_bylevel': 0.8, 'colsample_bynode': 0.6, 'colsample_bytree': 0.9, 'subsample': 0.6, 'max_depth': 7, 'num_feat': 70, 'step': 0.3, 'num_boost_round': 800}. Best is trial 75 with value: 0.3614773184310625.\u001b[0m\n"
     ]
    },
    {
     "name": "stdout",
     "output_type": "stream",
     "text": [
      "Weighted average recall scores for class 0 and 1 averaged across all folds: 0.34444766091225576\n",
      "Start processing fold 1...\n",
      "Class distribution: (array([0, 1, 2]), array([ 6056, 18957, 29261]))\n",
      "Class instance weights: (array([0.61827461, 0.95433525, 2.98734038]), array([29261, 18957,  6056]))\n",
      "Start training model for fold 1...\n",
      "[0]\ttrain-avgRecall:0.35194\tvalidate-avgRecall:0.25216\n",
      "[200]\ttrain-avgRecall:0.60149\tvalidate-avgRecall:0.34218\n",
      "[400]\ttrain-avgRecall:0.69280\tvalidate-avgRecall:0.34986\n",
      "[600]\ttrain-avgRecall:0.73894\tvalidate-avgRecall:0.35857\n",
      "[731]\ttrain-avgRecall:0.75513\tvalidate-avgRecall:0.35897\n",
      "Predicting for fold 1...\n",
      "Start processing fold 2...\n",
      "Class distribution: (array([0, 1, 2]), array([ 6057, 18957, 29261]))\n",
      "Class instance weights: (array([0.618286  , 0.95435283, 2.98690221]), array([29261, 18957,  6057]))\n",
      "Start training model for fold 2...\n",
      "[0]\ttrain-avgRecall:0.34773\tvalidate-avgRecall:0.24138\n",
      "[200]\ttrain-avgRecall:0.59754\tvalidate-avgRecall:0.33621\n",
      "[400]\ttrain-avgRecall:0.68490\tvalidate-avgRecall:0.34453\n",
      "[513]\ttrain-avgRecall:0.71364\tvalidate-avgRecall:0.34293\n",
      "Predicting for fold 2...\n",
      "Start processing fold 3...\n",
      "Class distribution: (array([0, 1, 2]), array([ 6057, 18958, 29260]))\n",
      "Class instance weights: (array([0.61830713, 0.95430249, 2.98690221]), array([29260, 18958,  6057]))\n",
      "Start training model for fold 3...\n",
      "[0]\ttrain-avgRecall:0.37482\tvalidate-avgRecall:0.28322\n",
      "[200]\ttrain-avgRecall:0.59532\tvalidate-avgRecall:0.35607\n",
      "[400]\ttrain-avgRecall:0.68763\tvalidate-avgRecall:0.36430\n",
      "[467]\ttrain-avgRecall:0.70658\tvalidate-avgRecall:0.36455\n",
      "Predicting for fold 3...\n"
     ]
    },
    {
     "name": "stderr",
     "output_type": "stream",
     "text": [
      "\u001b[32m[I 2023-01-04 01:07:45,323]\u001b[0m Trial 84 finished with value: 0.3559341652579679 and parameters: {'learning_rate': 0.1418851335556867, 'gamma': 1, 'max_delta_step': 9, 'lambda': 10, 'alpha': 10, 'colsample_bylevel': 0.8, 'colsample_bynode': 0.6, 'colsample_bytree': 0.9, 'subsample': 0.6, 'max_depth': 7, 'num_feat': 70, 'step': 0.3, 'num_boost_round': 1000}. Best is trial 75 with value: 0.3614773184310625.\u001b[0m\n"
     ]
    },
    {
     "name": "stdout",
     "output_type": "stream",
     "text": [
      "Weighted average recall scores for class 0 and 1 averaged across all folds: 0.3559341652579679\n",
      "Start processing fold 1...\n",
      "Class distribution: (array([0, 1, 2]), array([ 6056, 18957, 29261]))\n",
      "Class instance weights: (array([0.61827461, 0.95433525, 2.98734038]), array([29261, 18957,  6056]))\n",
      "Start training model for fold 1...\n",
      "[0]\ttrain-avgRecall:0.37057\tvalidate-avgRecall:0.29013\n",
      "[100]\ttrain-avgRecall:0.40331\tvalidate-avgRecall:0.27990\n",
      "Predicting for fold 1...\n",
      "Start processing fold 2...\n",
      "Class distribution: (array([0, 1, 2]), array([ 6057, 18957, 29261]))\n",
      "Class instance weights: (array([0.618286  , 0.95435283, 2.98690221]), array([29261, 18957,  6057]))\n",
      "Start training model for fold 2...\n",
      "[0]\ttrain-avgRecall:0.34293\tvalidate-avgRecall:0.23843\n",
      "[102]\ttrain-avgRecall:0.39342\tvalidate-avgRecall:0.26169\n",
      "Predicting for fold 2...\n",
      "Start processing fold 3...\n",
      "Class distribution: (array([0, 1, 2]), array([ 6057, 18958, 29260]))\n",
      "Class instance weights: (array([0.61830713, 0.95430249, 2.98690221]), array([29260, 18958,  6057]))\n",
      "Start training model for fold 3...\n",
      "[0]\ttrain-avgRecall:0.36218\tvalidate-avgRecall:0.27995\n",
      "[200]\ttrain-avgRecall:0.45409\tvalidate-avgRecall:0.31737\n",
      "[400]\ttrain-avgRecall:0.51037\tvalidate-avgRecall:0.33512\n",
      "[600]\ttrain-avgRecall:0.55143\tvalidate-avgRecall:0.34224\n",
      "[789]\ttrain-avgRecall:0.58269\tvalidate-avgRecall:0.34375\n",
      "Predicting for fold 3...\n"
     ]
    },
    {
     "name": "stderr",
     "output_type": "stream",
     "text": [
      "\u001b[32m[I 2023-01-04 01:10:11,963]\u001b[0m Trial 85 finished with value: 0.29527636080871683 and parameters: {'learning_rate': 0.029791455247384677, 'gamma': 0, 'max_delta_step': 9, 'lambda': 10, 'alpha': 10, 'colsample_bylevel': 0.8, 'colsample_bynode': 0.6, 'colsample_bytree': 0.9, 'subsample': 0.6, 'max_depth': 7, 'num_feat': 70, 'step': 0.3, 'num_boost_round': 900}. Best is trial 75 with value: 0.3614773184310625.\u001b[0m\n"
     ]
    },
    {
     "name": "stdout",
     "output_type": "stream",
     "text": [
      "Weighted average recall scores for class 0 and 1 averaged across all folds: 0.29527636080871683\n",
      "Start processing fold 1...\n",
      "Class distribution: (array([0, 1, 2]), array([ 6056, 18957, 29261]))\n",
      "Class instance weights: (array([0.61827461, 0.95433525, 2.98734038]), array([29261, 18957,  6056]))\n",
      "Start training model for fold 1...\n",
      "[0]\ttrain-avgRecall:0.34722\tvalidate-avgRecall:0.24448\n",
      "[105]\ttrain-avgRecall:0.39152\tvalidate-avgRecall:0.28126\n",
      "Predicting for fold 1...\n",
      "Start processing fold 2...\n",
      "Class distribution: (array([0, 1, 2]), array([ 6057, 18957, 29261]))\n",
      "Class instance weights: (array([0.618286  , 0.95435283, 2.98690221]), array([29261, 18957,  6057]))\n",
      "Start training model for fold 2...\n",
      "[0]\ttrain-avgRecall:0.33341\tvalidate-avgRecall:0.26057\n",
      "[200]\ttrain-avgRecall:0.39382\tvalidate-avgRecall:0.27880\n",
      "[400]\ttrain-avgRecall:0.40505\tvalidate-avgRecall:0.28176\n",
      "[577]\ttrain-avgRecall:0.41385\tvalidate-avgRecall:0.28216\n",
      "Predicting for fold 2...\n",
      "Start processing fold 3...\n",
      "Class distribution: (array([0, 1, 2]), array([ 6057, 18958, 29260]))\n",
      "Class instance weights: (array([0.61830713, 0.95430249, 2.98690221]), array([29260, 18958,  6057]))\n",
      "Start training model for fold 3...\n",
      "[0]\ttrain-avgRecall:0.35159\tvalidate-avgRecall:0.26403\n",
      "[200]\ttrain-avgRecall:0.40144\tvalidate-avgRecall:0.30250\n",
      "[400]\ttrain-avgRecall:0.41439\tvalidate-avgRecall:0.31177\n",
      "[600]\ttrain-avgRecall:0.42650\tvalidate-avgRecall:0.31865\n",
      "[800]\ttrain-avgRecall:0.43270\tvalidate-avgRecall:0.32408\n",
      "[890]\ttrain-avgRecall:0.43486\tvalidate-avgRecall:0.32377\n",
      "Predicting for fold 3...\n"
     ]
    },
    {
     "name": "stderr",
     "output_type": "stream",
     "text": [
      "\u001b[32m[I 2023-01-04 01:12:56,208]\u001b[0m Trial 86 finished with value: 0.29580883090078647 and parameters: {'learning_rate': 0.13312956929212685, 'gamma': 1, 'max_delta_step': 10, 'lambda': 10, 'alpha': 100, 'colsample_bylevel': 0.8, 'colsample_bynode': 0.6, 'colsample_bytree': 0.9, 'subsample': 0.5, 'max_depth': 7, 'num_feat': 70, 'step': 0.3, 'num_boost_round': 900}. Best is trial 75 with value: 0.3614773184310625.\u001b[0m\n"
     ]
    },
    {
     "name": "stdout",
     "output_type": "stream",
     "text": [
      "Weighted average recall scores for class 0 and 1 averaged across all folds: 0.29580883090078647\n",
      "Start processing fold 1...\n",
      "Class distribution: (array([0, 1, 2]), array([ 6056, 18957, 29261]))\n",
      "Class instance weights: (array([0.61827461, 0.95433525, 2.98734038]), array([29261, 18957,  6056]))\n",
      "Start training model for fold 1...\n",
      "[0]\ttrain-avgRecall:0.29789\tvalidate-avgRecall:0.21354\n",
      "[200]\ttrain-avgRecall:0.37908\tvalidate-avgRecall:0.28158\n",
      "[400]\ttrain-avgRecall:0.38220\tvalidate-avgRecall:0.28294\n",
      "[442]\ttrain-avgRecall:0.38448\tvalidate-avgRecall:0.28342\n",
      "Predicting for fold 1...\n",
      "Start processing fold 2...\n",
      "Class distribution: (array([0, 1, 2]), array([ 6057, 18957, 29261]))\n",
      "Class instance weights: (array([0.618286  , 0.95435283, 2.98690221]), array([29261, 18957,  6057]))\n",
      "Start training model for fold 2...\n",
      "[0]\ttrain-avgRecall:0.34381\tvalidate-avgRecall:0.26105\n",
      "[200]\ttrain-avgRecall:0.37011\tvalidate-avgRecall:0.27553\n",
      "[387]\ttrain-avgRecall:0.37355\tvalidate-avgRecall:0.27681\n",
      "Predicting for fold 2...\n",
      "Start processing fold 3...\n",
      "Class distribution: (array([0, 1, 2]), array([ 6057, 18958, 29260]))\n",
      "Class instance weights: (array([0.61830713, 0.95430249, 2.98690221]), array([29260, 18958,  6057]))\n",
      "Start training model for fold 3...\n",
      "[0]\ttrain-avgRecall:0.31013\tvalidate-avgRecall:0.24260\n",
      "[200]\ttrain-avgRecall:0.38413\tvalidate-avgRecall:0.30162\n",
      "[285]\ttrain-avgRecall:0.38733\tvalidate-avgRecall:0.30353\n"
     ]
    },
    {
     "name": "stderr",
     "output_type": "stream",
     "text": [
      "\u001b[32m[I 2023-01-04 01:15:08,782]\u001b[0m Trial 87 finished with value: 0.28786599599537893 and parameters: {'learning_rate': 0.1065844518407977, 'gamma': 9, 'max_delta_step': 9, 'lambda': 10, 'alpha': 10, 'colsample_bylevel': 0.5, 'colsample_bynode': 0.6, 'colsample_bytree': 0.9, 'subsample': 0.6, 'max_depth': 7, 'num_feat': 70, 'step': 0.3, 'num_boost_round': 800}. Best is trial 75 with value: 0.3614773184310625.\u001b[0m\n"
     ]
    },
    {
     "name": "stdout",
     "output_type": "stream",
     "text": [
      "Predicting for fold 3...\n",
      "Weighted average recall scores for class 0 and 1 averaged across all folds: 0.28786599599537893\n",
      "Start processing fold 1...\n",
      "Class distribution: (array([0, 1, 2]), array([ 6056, 18957, 29261]))\n",
      "Class instance weights: (array([0.61827461, 0.95433525, 2.98734038]), array([29261, 18957,  6056]))\n",
      "Start training model for fold 1...\n",
      "[0]\ttrain-avgRecall:0.30192\tvalidate-avgRecall:0.25480\n",
      "[200]\ttrain-avgRecall:0.39088\tvalidate-avgRecall:0.28414\n",
      "[394]\ttrain-avgRecall:0.39355\tvalidate-avgRecall:0.28246\n",
      "Predicting for fold 1...\n",
      "Start processing fold 2...\n",
      "Class distribution: (array([0, 1, 2]), array([ 6057, 18957, 29261]))\n",
      "Class instance weights: (array([0.618286  , 0.95435283, 2.98690221]), array([29261, 18957,  6057]))\n",
      "Start training model for fold 2...\n",
      "[0]\ttrain-avgRecall:0.31650\tvalidate-avgRecall:0.23515\n",
      "[200]\ttrain-avgRecall:0.37931\tvalidate-avgRecall:0.26985\n",
      "[309]\ttrain-avgRecall:0.37923\tvalidate-avgRecall:0.26665\n",
      "Predicting for fold 2...\n",
      "Start processing fold 3...\n",
      "Class distribution: (array([0, 1, 2]), array([ 6057, 18958, 29260]))\n",
      "Class instance weights: (array([0.61830713, 0.95430249, 2.98690221]), array([29260, 18958,  6057]))\n",
      "Start training model for fold 3...\n",
      "[0]\ttrain-avgRecall:0.33588\tvalidate-avgRecall:0.24764\n",
      "[200]\ttrain-avgRecall:0.39144\tvalidate-avgRecall:0.29570\n",
      "[209]\ttrain-avgRecall:0.39149\tvalidate-avgRecall:0.29698\n"
     ]
    },
    {
     "name": "stderr",
     "output_type": "stream",
     "text": [
      "\u001b[32m[I 2023-01-04 01:17:46,688]\u001b[0m Trial 88 finished with value: 0.28202911751351856 and parameters: {'learning_rate': 0.1464217738846692, 'gamma': 8, 'max_delta_step': 8, 'lambda': 10, 'alpha': 1, 'colsample_bylevel': 0.8, 'colsample_bynode': 0.6, 'colsample_bytree': 0.5, 'subsample': 0.6, 'max_depth': 7, 'num_feat': 70, 'step': 0.1, 'num_boost_round': 1000}. Best is trial 75 with value: 0.3614773184310625.\u001b[0m\n"
     ]
    },
    {
     "name": "stdout",
     "output_type": "stream",
     "text": [
      "Predicting for fold 3...\n",
      "Weighted average recall scores for class 0 and 1 averaged across all folds: 0.28202911751351856\n",
      "Start processing fold 1...\n",
      "Class distribution: (array([0, 1, 2]), array([ 6056, 18957, 29261]))\n",
      "Class instance weights: (array([0.61827461, 0.95433525, 2.98734038]), array([29261, 18957,  6056]))\n",
      "Start training model for fold 1...\n",
      "[0]\ttrain-avgRecall:0.37465\tvalidate-avgRecall:0.29045\n",
      "[200]\ttrain-avgRecall:0.51701\tvalidate-avgRecall:0.32763\n",
      "[400]\ttrain-avgRecall:0.53016\tvalidate-avgRecall:0.33099\n",
      "[600]\ttrain-avgRecall:0.53908\tvalidate-avgRecall:0.33331\n",
      "[755]\ttrain-avgRecall:0.54460\tvalidate-avgRecall:0.33475\n",
      "Predicting for fold 1...\n",
      "Start processing fold 2...\n",
      "Class distribution: (array([0, 1, 2]), array([ 6057, 18957, 29261]))\n",
      "Class instance weights: (array([0.618286  , 0.95435283, 2.98690221]), array([29261, 18957,  6057]))\n",
      "Start training model for fold 2...\n",
      "[0]\ttrain-avgRecall:0.35856\tvalidate-avgRecall:0.27273\n",
      "[200]\ttrain-avgRecall:0.50804\tvalidate-avgRecall:0.31334\n",
      "[359]\ttrain-avgRecall:0.52143\tvalidate-avgRecall:0.31382\n",
      "Predicting for fold 2...\n",
      "Start processing fold 3...\n",
      "Class distribution: (array([0, 1, 2]), array([ 6057, 18958, 29260]))\n",
      "Class instance weights: (array([0.61830713, 0.95430249, 2.98690221]), array([29260, 18958,  6057]))\n",
      "Start training model for fold 3...\n",
      "[0]\ttrain-avgRecall:0.41483\tvalidate-avgRecall:0.33016\n",
      "[200]\ttrain-avgRecall:0.51925\tvalidate-avgRecall:0.33680\n",
      "[239]\ttrain-avgRecall:0.52325\tvalidate-avgRecall:0.33720\n"
     ]
    },
    {
     "name": "stderr",
     "output_type": "stream",
     "text": [
      "\u001b[32m[I 2023-01-04 01:20:25,767]\u001b[0m Trial 89 finished with value: 0.32858938867253484 and parameters: {'learning_rate': 0.11800783929621754, 'gamma': 2, 'max_delta_step': 9, 'lambda': 10, 'alpha': 10, 'colsample_bylevel': 0.8, 'colsample_bynode': 1.0, 'colsample_bytree': 0.9, 'subsample': 0.9, 'max_depth': 7, 'num_feat': 70, 'step': 0.3, 'num_boost_round': 800}. Best is trial 75 with value: 0.3614773184310625.\u001b[0m\n"
     ]
    },
    {
     "name": "stdout",
     "output_type": "stream",
     "text": [
      "Predicting for fold 3...\n",
      "Weighted average recall scores for class 0 and 1 averaged across all folds: 0.32858938867253484\n",
      "Start processing fold 1...\n",
      "Class distribution: (array([0, 1, 2]), array([ 6056, 18957, 29261]))\n",
      "Class instance weights: (array([0.61827461, 0.95433525, 2.98734038]), array([29261, 18957,  6056]))\n",
      "Start training model for fold 1...\n",
      "[0]\ttrain-avgRecall:0.34370\tvalidate-avgRecall:0.27526\n",
      "[200]\ttrain-avgRecall:0.49914\tvalidate-avgRecall:0.31660\n",
      "[400]\ttrain-avgRecall:0.57674\tvalidate-avgRecall:0.33411\n",
      "[600]\ttrain-avgRecall:0.63503\tvalidate-avgRecall:0.34234\n",
      "[800]\ttrain-avgRecall:0.68085\tvalidate-avgRecall:0.35321\n",
      "[861]\ttrain-avgRecall:0.69264\tvalidate-avgRecall:0.35169\n",
      "Predicting for fold 1...\n",
      "Start processing fold 2...\n",
      "Class distribution: (array([0, 1, 2]), array([ 6057, 18957, 29261]))\n",
      "Class instance weights: (array([0.618286  , 0.95435283, 2.98690221]), array([29261, 18957,  6057]))\n",
      "Start training model for fold 2...\n",
      "[0]\ttrain-avgRecall:0.31486\tvalidate-avgRecall:0.23707\n",
      "[200]\ttrain-avgRecall:0.49496\tvalidate-avgRecall:0.30551\n",
      "[400]\ttrain-avgRecall:0.57416\tvalidate-avgRecall:0.31574\n",
      "[600]\ttrain-avgRecall:0.63316\tvalidate-avgRecall:0.32566\n",
      "[800]\ttrain-avgRecall:0.67970\tvalidate-avgRecall:0.32934\n",
      "[999]\ttrain-avgRecall:0.71488\tvalidate-avgRecall:0.33221\n",
      "Predicting for fold 2...\n",
      "Start processing fold 3...\n",
      "Class distribution: (array([0, 1, 2]), array([ 6057, 18958, 29260]))\n",
      "Class instance weights: (array([0.61830713, 0.95430249, 2.98690221]), array([29260, 18958,  6057]))\n",
      "Start training model for fold 3...\n",
      "[0]\ttrain-avgRecall:0.39232\tvalidate-avgRecall:0.30178\n",
      "[200]\ttrain-avgRecall:0.50282\tvalidate-avgRecall:0.34287\n",
      "[400]\ttrain-avgRecall:0.57649\tvalidate-avgRecall:0.35391\n",
      "[600]\ttrain-avgRecall:0.63290\tvalidate-avgRecall:0.35879\n",
      "[800]\ttrain-avgRecall:0.67795\tvalidate-avgRecall:0.36303\n",
      "[891]\ttrain-avgRecall:0.69654\tvalidate-avgRecall:0.36423\n",
      "Predicting for fold 3...\n"
     ]
    },
    {
     "name": "stderr",
     "output_type": "stream",
     "text": [
      "\u001b[32m[I 2023-01-04 01:25:00,393]\u001b[0m Trial 90 finished with value: 0.3493780456179159 and parameters: {'learning_rate': 0.07907616568144206, 'gamma': 0, 'max_delta_step': 1, 'lambda': 10, 'alpha': 10, 'colsample_bylevel': 0.9, 'colsample_bynode': 0.8, 'colsample_bytree': 0.9, 'subsample': 0.7, 'max_depth': 6, 'num_feat': 70, 'step': 0.3, 'num_boost_round': 1000}. Best is trial 75 with value: 0.3614773184310625.\u001b[0m\n"
     ]
    },
    {
     "name": "stdout",
     "output_type": "stream",
     "text": [
      "Weighted average recall scores for class 0 and 1 averaged across all folds: 0.3493780456179159\n",
      "Start processing fold 1...\n",
      "Class distribution: (array([0, 1, 2]), array([ 6056, 18957, 29261]))\n",
      "Class instance weights: (array([0.61827461, 0.95433525, 2.98734038]), array([29261, 18957,  6056]))\n",
      "Start training model for fold 1...\n",
      "[0]\ttrain-avgRecall:0.37257\tvalidate-avgRecall:0.28798\n",
      "[200]\ttrain-avgRecall:0.63091\tvalidate-avgRecall:0.34418\n",
      "[400]\ttrain-avgRecall:0.72394\tvalidate-avgRecall:0.35449\n",
      "[546]\ttrain-avgRecall:0.75733\tvalidate-avgRecall:0.36097\n",
      "Predicting for fold 1...\n",
      "Start processing fold 2...\n",
      "Class distribution: (array([0, 1, 2]), array([ 6057, 18957, 29261]))\n",
      "Class instance weights: (array([0.618286  , 0.95435283, 2.98690221]), array([29261, 18957,  6057]))\n",
      "Start training model for fold 2...\n",
      "[0]\ttrain-avgRecall:0.37071\tvalidate-avgRecall:0.27009\n",
      "[200]\ttrain-avgRecall:0.62881\tvalidate-avgRecall:0.32958\n",
      "[400]\ttrain-avgRecall:0.71964\tvalidate-avgRecall:0.34533\n",
      "[557]\ttrain-avgRecall:0.75582\tvalidate-avgRecall:0.34661\n",
      "Predicting for fold 2...\n",
      "Start processing fold 3...\n",
      "Class distribution: (array([0, 1, 2]), array([ 6057, 18958, 29260]))\n",
      "Class instance weights: (array([0.61830713, 0.95430249, 2.98690221]), array([29260, 18958,  6057]))\n",
      "Start training model for fold 3...\n",
      "[0]\ttrain-avgRecall:0.38245\tvalidate-avgRecall:0.30018\n",
      "[200]\ttrain-avgRecall:0.62842\tvalidate-avgRecall:0.36614\n",
      "[400]\ttrain-avgRecall:0.72469\tvalidate-avgRecall:0.37294\n",
      "[451]\ttrain-avgRecall:0.73716\tvalidate-avgRecall:0.37542\n",
      "Predicting for fold 3...\n"
     ]
    },
    {
     "name": "stderr",
     "output_type": "stream",
     "text": [
      "\u001b[32m[I 2023-01-04 01:27:39,915]\u001b[0m Trial 91 finished with value: 0.3608116684181208 and parameters: {'learning_rate': 0.17413800273868543, 'gamma': 1, 'max_delta_step': 8, 'lambda': 10, 'alpha': 10, 'colsample_bylevel': 0.8, 'colsample_bynode': 0.7, 'colsample_bytree': 0.9, 'subsample': 0.6, 'max_depth': 7, 'num_feat': 70, 'step': 0.3, 'num_boost_round': 700}. Best is trial 75 with value: 0.3614773184310625.\u001b[0m\n"
     ]
    },
    {
     "name": "stdout",
     "output_type": "stream",
     "text": [
      "Weighted average recall scores for class 0 and 1 averaged across all folds: 0.3608116684181208\n",
      "Start processing fold 1...\n",
      "Class distribution: (array([0, 1, 2]), array([ 6056, 18957, 29261]))\n",
      "Class instance weights: (array([0.61827461, 0.95433525, 2.98734038]), array([29261, 18957,  6056]))\n",
      "Start training model for fold 1...\n",
      "[0]\ttrain-avgRecall:0.35194\tvalidate-avgRecall:0.25216\n",
      "[200]\ttrain-avgRecall:0.62328\tvalidate-avgRecall:0.34746\n",
      "[400]\ttrain-avgRecall:0.71251\tvalidate-avgRecall:0.35785\n",
      "[586]\ttrain-avgRecall:0.75133\tvalidate-avgRecall:0.36625\n",
      "Predicting for fold 1...\n",
      "Start processing fold 2...\n",
      "Class distribution: (array([0, 1, 2]), array([ 6057, 18957, 29261]))\n",
      "Class instance weights: (array([0.618286  , 0.95435283, 2.98690221]), array([29261, 18957,  6057]))\n",
      "Start training model for fold 2...\n",
      "[0]\ttrain-avgRecall:0.34773\tvalidate-avgRecall:0.24138\n",
      "[200]\ttrain-avgRecall:0.62433\tvalidate-avgRecall:0.33565\n",
      "[400]\ttrain-avgRecall:0.71324\tvalidate-avgRecall:0.34829\n",
      "[513]\ttrain-avgRecall:0.73947\tvalidate-avgRecall:0.34677\n",
      "Predicting for fold 2...\n",
      "Start processing fold 3...\n",
      "Class distribution: (array([0, 1, 2]), array([ 6057, 18958, 29260]))\n",
      "Class instance weights: (array([0.61830713, 0.95430249, 2.98690221]), array([29260, 18958,  6057]))\n",
      "Start training model for fold 3...\n",
      "[0]\ttrain-avgRecall:0.37482\tvalidate-avgRecall:0.28322\n",
      "[200]\ttrain-avgRecall:0.62075\tvalidate-avgRecall:0.35279\n",
      "[400]\ttrain-avgRecall:0.70949\tvalidate-avgRecall:0.36614\n",
      "[599]\ttrain-avgRecall:0.74775\tvalidate-avgRecall:0.36726\n",
      "Predicting for fold 3...\n"
     ]
    },
    {
     "name": "stderr",
     "output_type": "stream",
     "text": [
      "\u001b[32m[I 2023-01-04 01:30:34,412]\u001b[0m Trial 92 finished with value: 0.36003840990400765 and parameters: {'learning_rate': 0.1743475684066929, 'gamma': 1, 'max_delta_step': 8, 'lambda': 10, 'alpha': 10, 'colsample_bylevel': 0.8, 'colsample_bynode': 0.6, 'colsample_bytree': 0.9, 'subsample': 0.6, 'max_depth': 7, 'num_feat': 70, 'step': 0.3, 'num_boost_round': 600}. Best is trial 75 with value: 0.3614773184310625.\u001b[0m\n"
     ]
    },
    {
     "name": "stdout",
     "output_type": "stream",
     "text": [
      "Weighted average recall scores for class 0 and 1 averaged across all folds: 0.36003840990400765\n",
      "Start processing fold 1...\n",
      "Class distribution: (array([0, 1, 2]), array([ 6056, 18957, 29261]))\n",
      "Class instance weights: (array([0.61827461, 0.95433525, 2.98734038]), array([29261, 18957,  6056]))\n",
      "Start training model for fold 1...\n",
      "[0]\ttrain-avgRecall:0.35194\tvalidate-avgRecall:0.25216\n",
      "[200]\ttrain-avgRecall:0.64275\tvalidate-avgRecall:0.35081\n",
      "[400]\ttrain-avgRecall:0.72606\tvalidate-avgRecall:0.36345\n",
      "[600]\ttrain-avgRecall:0.76356\tvalidate-avgRecall:0.37352\n",
      "[699]\ttrain-avgRecall:0.77216\tvalidate-avgRecall:0.37288\n",
      "Predicting for fold 1...\n",
      "Start processing fold 2...\n",
      "Class distribution: (array([0, 1, 2]), array([ 6057, 18957, 29261]))\n",
      "Class instance weights: (array([0.618286  , 0.95435283, 2.98690221]), array([29261, 18957,  6057]))\n",
      "Start training model for fold 2...\n",
      "[0]\ttrain-avgRecall:0.34773\tvalidate-avgRecall:0.24138\n",
      "[200]\ttrain-avgRecall:0.64364\tvalidate-avgRecall:0.33221\n",
      "[400]\ttrain-avgRecall:0.72807\tvalidate-avgRecall:0.34653\n",
      "[480]\ttrain-avgRecall:0.74578\tvalidate-avgRecall:0.34213\n",
      "Predicting for fold 2...\n",
      "Start processing fold 3...\n",
      "Class distribution: (array([0, 1, 2]), array([ 6057, 18958, 29260]))\n",
      "Class instance weights: (array([0.61830713, 0.95430249, 2.98690221]), array([29260, 18958,  6057]))\n",
      "Start training model for fold 3...\n",
      "[0]\ttrain-avgRecall:0.37482\tvalidate-avgRecall:0.28322\n",
      "[200]\ttrain-avgRecall:0.63794\tvalidate-avgRecall:0.36287\n",
      "[291]\ttrain-avgRecall:0.68715\tvalidate-avgRecall:0.36358\n",
      "Predicting for fold 3...\n"
     ]
    },
    {
     "name": "stderr",
     "output_type": "stream",
     "text": [
      "\u001b[32m[I 2023-01-04 01:33:18,795]\u001b[0m Trial 93 finished with value: 0.35958505541020425 and parameters: {'learning_rate': 0.20004585545948111, 'gamma': 1, 'max_delta_step': 8, 'lambda': 10, 'alpha': 10, 'colsample_bylevel': 0.8, 'colsample_bynode': 0.6, 'colsample_bytree': 0.9, 'subsample': 0.6, 'max_depth': 7, 'num_feat': 70, 'step': 0.3, 'num_boost_round': 700}. Best is trial 75 with value: 0.3614773184310625.\u001b[0m\n"
     ]
    },
    {
     "name": "stdout",
     "output_type": "stream",
     "text": [
      "Weighted average recall scores for class 0 and 1 averaged across all folds: 0.35958505541020425\n",
      "Start processing fold 1...\n",
      "Class distribution: (array([0, 1, 2]), array([ 6056, 18957, 29261]))\n",
      "Class instance weights: (array([0.61827461, 0.95433525, 2.98734038]), array([29261, 18957,  6056]))\n",
      "Start training model for fold 1...\n",
      "[0]\ttrain-avgRecall:0.35194\tvalidate-avgRecall:0.25216\n",
      "[200]\ttrain-avgRecall:0.63871\tvalidate-avgRecall:0.34026\n",
      "[400]\ttrain-avgRecall:0.72234\tvalidate-avgRecall:0.35401\n",
      "[599]\ttrain-avgRecall:0.76212\tvalidate-avgRecall:0.36393\n",
      "Predicting for fold 1...\n",
      "Start processing fold 2...\n",
      "Class distribution: (array([0, 1, 2]), array([ 6057, 18957, 29261]))\n",
      "Class instance weights: (array([0.618286  , 0.95435283, 2.98690221]), array([29261, 18957,  6057]))\n",
      "Start training model for fold 2...\n",
      "[0]\ttrain-avgRecall:0.34773\tvalidate-avgRecall:0.24138\n",
      "[200]\ttrain-avgRecall:0.64116\tvalidate-avgRecall:0.33557\n",
      "[400]\ttrain-avgRecall:0.72284\tvalidate-avgRecall:0.34717\n",
      "[510]\ttrain-avgRecall:0.74690\tvalidate-avgRecall:0.34173\n",
      "Predicting for fold 2...\n",
      "Start processing fold 3...\n",
      "Class distribution: (array([0, 1, 2]), array([ 6057, 18958, 29260]))\n",
      "Class instance weights: (array([0.61830713, 0.95430249, 2.98690221]), array([29260, 18958,  6057]))\n",
      "Start training model for fold 3...\n",
      "[0]\ttrain-avgRecall:0.37482\tvalidate-avgRecall:0.28322\n",
      "[200]\ttrain-avgRecall:0.63450\tvalidate-avgRecall:0.35767\n",
      "[400]\ttrain-avgRecall:0.72361\tvalidate-avgRecall:0.36662\n",
      "[450]\ttrain-avgRecall:0.73704\tvalidate-avgRecall:0.36574\n",
      "Predicting for fold 3...\n"
     ]
    },
    {
     "name": "stderr",
     "output_type": "stream",
     "text": [
      "\u001b[32m[I 2023-01-04 01:36:34,647]\u001b[0m Trial 94 finished with value: 0.35729330607399795 and parameters: {'learning_rate': 0.19655553892667943, 'gamma': 1, 'max_delta_step': 9, 'lambda': 10, 'alpha': 10, 'colsample_bylevel': 0.8, 'colsample_bynode': 0.6, 'colsample_bytree': 0.9, 'subsample': 0.6, 'max_depth': 7, 'num_feat': 70, 'step': 0.3, 'num_boost_round': 600}. Best is trial 75 with value: 0.3614773184310625.\u001b[0m\n"
     ]
    },
    {
     "name": "stdout",
     "output_type": "stream",
     "text": [
      "Weighted average recall scores for class 0 and 1 averaged across all folds: 0.35729330607399795\n",
      "Start processing fold 1...\n",
      "Class distribution: (array([0, 1, 2]), array([ 6056, 18957, 29261]))\n",
      "Class instance weights: (array([0.61827461, 0.95433525, 2.98734038]), array([29261, 18957,  6056]))\n",
      "Start training model for fold 1...\n",
      "[0]\ttrain-avgRecall:0.35194\tvalidate-avgRecall:0.25216\n",
      "[200]\ttrain-avgRecall:0.65490\tvalidate-avgRecall:0.34154\n",
      "[393]\ttrain-avgRecall:0.73506\tvalidate-avgRecall:0.35569\n",
      "Predicting for fold 1...\n",
      "Start processing fold 2...\n",
      "Class distribution: (array([0, 1, 2]), array([ 6057, 18957, 29261]))\n",
      "Class instance weights: (array([0.618286  , 0.95435283, 2.98690221]), array([29261, 18957,  6057]))\n",
      "Start training model for fold 2...\n",
      "[0]\ttrain-avgRecall:0.34773\tvalidate-avgRecall:0.24138\n",
      "[200]\ttrain-avgRecall:0.65151\tvalidate-avgRecall:0.33253\n",
      "[400]\ttrain-avgRecall:0.73291\tvalidate-avgRecall:0.33885\n",
      "[547]\ttrain-avgRecall:0.76249\tvalidate-avgRecall:0.33981\n",
      "Predicting for fold 2...\n",
      "Start processing fold 3...\n",
      "Class distribution: (array([0, 1, 2]), array([ 6057, 18958, 29260]))\n",
      "Class instance weights: (array([0.61830713, 0.95430249, 2.98690221]), array([29260, 18958,  6057]))\n",
      "Start training model for fold 3...\n",
      "[0]\ttrain-avgRecall:0.37482\tvalidate-avgRecall:0.28322\n",
      "[200]\ttrain-avgRecall:0.64901\tvalidate-avgRecall:0.36582\n",
      "[400]\ttrain-avgRecall:0.72772\tvalidate-avgRecall:0.37598\n",
      "[467]\ttrain-avgRecall:0.74259\tvalidate-avgRecall:0.37478\n",
      "Predicting for fold 3...\n"
     ]
    },
    {
     "name": "stderr",
     "output_type": "stream",
     "text": [
      "\u001b[32m[I 2023-01-04 01:39:27,492]\u001b[0m Trial 95 finished with value: 0.35670742377991854 and parameters: {'learning_rate': 0.2150196667952488, 'gamma': 1, 'max_delta_step': 7, 'lambda': 10, 'alpha': 10, 'colsample_bylevel': 0.8, 'colsample_bynode': 0.6, 'colsample_bytree': 0.9, 'subsample': 0.6, 'max_depth': 7, 'num_feat': 70, 'step': 0.3, 'num_boost_round': 700}. Best is trial 75 with value: 0.3614773184310625.\u001b[0m\n"
     ]
    },
    {
     "name": "stdout",
     "output_type": "stream",
     "text": [
      "Weighted average recall scores for class 0 and 1 averaged across all folds: 0.35670742377991854\n",
      "Start processing fold 1...\n",
      "Class distribution: (array([0, 1, 2]), array([ 6056, 18957, 29261]))\n",
      "Class instance weights: (array([0.61827461, 0.95433525, 2.98734038]), array([29261, 18957,  6056]))\n",
      "Start training model for fold 1...\n",
      "[0]\ttrain-avgRecall:0.33531\tvalidate-avgRecall:0.27095\n",
      "[200]\ttrain-avgRecall:0.58130\tvalidate-avgRecall:0.34114\n",
      "[400]\ttrain-avgRecall:0.61876\tvalidate-avgRecall:0.35042\n",
      "[599]\ttrain-avgRecall:0.63975\tvalidate-avgRecall:0.35769\n",
      "Predicting for fold 1...\n",
      "Start processing fold 2...\n",
      "Class distribution: (array([0, 1, 2]), array([ 6057, 18957, 29261]))\n",
      "Class instance weights: (array([0.618286  , 0.95435283, 2.98690221]), array([29261, 18957,  6057]))\n",
      "Start training model for fold 2...\n",
      "[0]\ttrain-avgRecall:0.35236\tvalidate-avgRecall:0.25234\n",
      "[200]\ttrain-avgRecall:0.58020\tvalidate-avgRecall:0.28240\n",
      "[400]\ttrain-avgRecall:0.62133\tvalidate-avgRecall:0.28680\n",
      "[483]\ttrain-avgRecall:0.62889\tvalidate-avgRecall:0.28408\n",
      "Predicting for fold 2...\n",
      "Start processing fold 3...\n",
      "Class distribution: (array([0, 1, 2]), array([ 6057, 18958, 29260]))\n",
      "Class instance weights: (array([0.61830713, 0.95430249, 2.98690221]), array([29260, 18958,  6057]))\n",
      "Start training model for fold 3...\n",
      "[0]\ttrain-avgRecall:0.35495\tvalidate-avgRecall:0.27227\n",
      "[200]\ttrain-avgRecall:0.58489\tvalidate-avgRecall:0.35703\n",
      "[400]\ttrain-avgRecall:0.62411\tvalidate-avgRecall:0.36351\n",
      "[475]\ttrain-avgRecall:0.63290\tvalidate-avgRecall:0.36574\n",
      "Predicting for fold 3...\n"
     ]
    },
    {
     "name": "stderr",
     "output_type": "stream",
     "text": [
      "\u001b[32m[I 2023-01-04 01:42:28,499]\u001b[0m Trial 96 finished with value: 0.3357055423244814 and parameters: {'learning_rate': 0.23221603534101948, 'gamma': 2, 'max_delta_step': 8, 'lambda': 10, 'alpha': 10, 'colsample_bylevel': 0.8, 'colsample_bynode': 0.6, 'colsample_bytree': 0.9, 'subsample': 0.6, 'max_depth': 7, 'num_feat': 70, 'step': 0.2, 'num_boost_round': 600}. Best is trial 75 with value: 0.3614773184310625.\u001b[0m\n"
     ]
    },
    {
     "name": "stdout",
     "output_type": "stream",
     "text": [
      "Weighted average recall scores for class 0 and 1 averaged across all folds: 0.3357055423244814\n",
      "Start processing fold 1...\n",
      "Class distribution: (array([0, 1, 2]), array([ 6056, 18957, 29261]))\n",
      "Class instance weights: (array([0.61827461, 0.95433525, 2.98734038]), array([29261, 18957,  6056]))\n",
      "Start training model for fold 1...\n",
      "[0]\ttrain-avgRecall:0.38028\tvalidate-avgRecall:0.27039\n",
      "[200]\ttrain-avgRecall:0.61368\tvalidate-avgRecall:0.33842\n",
      "[400]\ttrain-avgRecall:0.69480\tvalidate-avgRecall:0.35193\n",
      "[499]\ttrain-avgRecall:0.71971\tvalidate-avgRecall:0.35729\n",
      "Predicting for fold 1...\n",
      "Start processing fold 2...\n",
      "Class distribution: (array([0, 1, 2]), array([ 6057, 18957, 29261]))\n",
      "Class instance weights: (array([0.618286  , 0.95435283, 2.98690221]), array([29261, 18957,  6057]))\n",
      "Start training model for fold 2...\n",
      "[0]\ttrain-avgRecall:0.35984\tvalidate-avgRecall:0.28624\n",
      "[200]\ttrain-avgRecall:0.60890\tvalidate-avgRecall:0.31998\n",
      "[400]\ttrain-avgRecall:0.69149\tvalidate-avgRecall:0.33669\n",
      "[499]\ttrain-avgRecall:0.71396\tvalidate-avgRecall:0.33917\n",
      "Predicting for fold 2...\n",
      "Start processing fold 3...\n",
      "Class distribution: (array([0, 1, 2]), array([ 6057, 18958, 29260]))\n",
      "Class instance weights: (array([0.61830713, 0.95430249, 2.98690221]), array([29260, 18958,  6057]))\n",
      "Start training model for fold 3...\n",
      "[0]\ttrain-avgRecall:0.35855\tvalidate-avgRecall:0.26051\n",
      "[200]\ttrain-avgRecall:0.61187\tvalidate-avgRecall:0.33888\n",
      "[400]\ttrain-avgRecall:0.69606\tvalidate-avgRecall:0.34991\n",
      "[499]\ttrain-avgRecall:0.71685\tvalidate-avgRecall:0.35335\n",
      "Predicting for fold 3...\n"
     ]
    },
    {
     "name": "stderr",
     "output_type": "stream",
     "text": [
      "\u001b[32m[I 2023-01-04 01:45:53,239]\u001b[0m Trial 97 finished with value: 0.3499372633740642 and parameters: {'learning_rate': 0.1778604964758037, 'gamma': 1, 'max_delta_step': 9, 'lambda': 10, 'alpha': 10, 'colsample_bylevel': 0.8, 'colsample_bynode': 0.6, 'colsample_bytree': 0.7, 'subsample': 0.6, 'max_depth': 7, 'num_feat': 70, 'step': 0.3, 'num_boost_round': 500}. Best is trial 75 with value: 0.3614773184310625.\u001b[0m\n"
     ]
    },
    {
     "name": "stdout",
     "output_type": "stream",
     "text": [
      "Weighted average recall scores for class 0 and 1 averaged across all folds: 0.3499372633740642\n",
      "Start processing fold 1...\n",
      "Class distribution: (array([0, 1, 2]), array([ 6056, 18957, 29261]))\n",
      "Class instance weights: (array([0.61827461, 0.95433525, 2.98734038]), array([29261, 18957,  6056]))\n",
      "Start training model for fold 1...\n",
      "[0]\ttrain-avgRecall:0.34514\tvalidate-avgRecall:0.24560\n",
      "[200]\ttrain-avgRecall:0.56347\tvalidate-avgRecall:0.33946\n",
      "[400]\ttrain-avgRecall:0.59969\tvalidate-avgRecall:0.35153\n",
      "[600]\ttrain-avgRecall:0.62044\tvalidate-avgRecall:0.35713\n",
      "[666]\ttrain-avgRecall:0.62252\tvalidate-avgRecall:0.35705\n",
      "Predicting for fold 1...\n",
      "Start processing fold 2...\n",
      "Class distribution: (array([0, 1, 2]), array([ 6057, 18957, 29261]))\n",
      "Class instance weights: (array([0.618286  , 0.95435283, 2.98690221]), array([29261, 18957,  6057]))\n",
      "Start training model for fold 2...\n",
      "[0]\ttrain-avgRecall:0.33469\tvalidate-avgRecall:0.24498\n",
      "[200]\ttrain-avgRecall:0.55925\tvalidate-avgRecall:0.32830\n",
      "[400]\ttrain-avgRecall:0.59862\tvalidate-avgRecall:0.34509\n",
      "[516]\ttrain-avgRecall:0.61230\tvalidate-avgRecall:0.34229\n",
      "Predicting for fold 2...\n",
      "Start processing fold 3...\n",
      "Class distribution: (array([0, 1, 2]), array([ 6057, 18958, 29260]))\n",
      "Class instance weights: (array([0.61830713, 0.95430249, 2.98690221]), array([29260, 18958,  6057]))\n",
      "Start training model for fold 3...\n",
      "[0]\ttrain-avgRecall:0.34212\tvalidate-avgRecall:0.25004\n",
      "[200]\ttrain-avgRecall:0.55918\tvalidate-avgRecall:0.34479\n",
      "[400]\ttrain-avgRecall:0.60228\tvalidate-avgRecall:0.35663\n",
      "[600]\ttrain-avgRecall:0.62287\tvalidate-avgRecall:0.35727\n",
      "[638]\ttrain-avgRecall:0.62550\tvalidate-avgRecall:0.35575\n",
      "Predicting for fold 3...\n"
     ]
    },
    {
     "name": "stderr",
     "output_type": "stream",
     "text": [
      "\u001b[32m[I 2023-01-04 01:49:00,058]\u001b[0m Trial 98 finished with value: 0.35220271895967303 and parameters: {'learning_rate': 0.20537471614931999, 'gamma': 2, 'max_delta_step': 2, 'lambda': 10, 'alpha': 10, 'colsample_bylevel': 0.8, 'colsample_bynode': 0.5, 'colsample_bytree': 0.9, 'subsample': 0.6, 'max_depth': 7, 'num_feat': 70, 'step': 0.3, 'num_boost_round': 700}. Best is trial 75 with value: 0.3614773184310625.\u001b[0m\n"
     ]
    },
    {
     "name": "stdout",
     "output_type": "stream",
     "text": [
      "Weighted average recall scores for class 0 and 1 averaged across all folds: 0.35220271895967303\n",
      "Start processing fold 1...\n",
      "Class distribution: (array([0, 1, 2]), array([ 6056, 18957, 29261]))\n",
      "Class instance weights: (array([0.61827461, 0.95433525, 2.98734038]), array([29261, 18957,  6056]))\n",
      "Start training model for fold 1...\n",
      "[0]\ttrain-avgRecall:0.39983\tvalidate-avgRecall:0.32315\n",
      "[200]\ttrain-avgRecall:0.64031\tvalidate-avgRecall:0.34674\n",
      "[400]\ttrain-avgRecall:0.73054\tvalidate-avgRecall:0.35817\n",
      "[599]\ttrain-avgRecall:0.76972\tvalidate-avgRecall:0.36569\n",
      "Predicting for fold 1...\n",
      "Start processing fold 2...\n",
      "Class distribution: (array([0, 1, 2]), array([ 6057, 18957, 29261]))\n",
      "Class instance weights: (array([0.618286  , 0.95435283, 2.98690221]), array([29261, 18957,  6057]))\n",
      "Start training model for fold 2...\n",
      "[0]\ttrain-avgRecall:0.35752\tvalidate-avgRecall:0.24986\n",
      "[200]\ttrain-avgRecall:0.63628\tvalidate-avgRecall:0.32478\n",
      "[345]\ttrain-avgRecall:0.71400\tvalidate-avgRecall:0.32726\n",
      "Predicting for fold 2...\n",
      "Start processing fold 3...\n",
      "Class distribution: (array([0, 1, 2]), array([ 6057, 18958, 29260]))\n",
      "Class instance weights: (array([0.61830713, 0.95430249, 2.98690221]), array([29260, 18958,  6057]))\n",
      "Start training model for fold 3...\n",
      "[0]\ttrain-avgRecall:0.37921\tvalidate-avgRecall:0.27075\n",
      "[200]\ttrain-avgRecall:0.63646\tvalidate-avgRecall:0.36127\n",
      "[400]\ttrain-avgRecall:0.72928\tvalidate-avgRecall:0.36838\n",
      "[564]\ttrain-avgRecall:0.76494\tvalidate-avgRecall:0.36886\n",
      "Predicting for fold 3...\n"
     ]
    },
    {
     "name": "stderr",
     "output_type": "stream",
     "text": [
      "\u001b[32m[I 2023-01-04 01:52:03,433]\u001b[0m Trial 99 finished with value: 0.3539352143329016 and parameters: {'learning_rate': 0.18189879063417697, 'gamma': 1, 'max_delta_step': 10, 'lambda': 10, 'alpha': 10, 'colsample_bylevel': 0.8, 'colsample_bynode': 0.9, 'colsample_bytree': 0.8, 'subsample': 0.6, 'max_depth': 7, 'num_feat': 70, 'step': 0.3, 'num_boost_round': 600}. Best is trial 75 with value: 0.3614773184310625.\u001b[0m\n"
     ]
    },
    {
     "name": "stdout",
     "output_type": "stream",
     "text": [
      "Weighted average recall scores for class 0 and 1 averaged across all folds: 0.3539352143329016\n"
     ]
    }
   ],
   "source": [
    "study = optuna.create_study(\n",
    "    sampler=optuna.samplers.TPESampler(),\n",
    "    study_name=\"maximizing_avg_recall\",\n",
    "    direction=\"maximize\",\n",
    ")\n",
    "study.optimize(objective, n_trials=100)"
   ]
  },
  {
   "attachments": {},
   "cell_type": "markdown",
   "metadata": {},
   "source": [
    "### Plot Intermediate Values"
   ]
  },
  {
   "cell_type": "code",
   "execution_count": 125,
   "metadata": {},
   "outputs": [
    {
     "data": {
      "application/vnd.plotly.v1+json": {
       "config": {
        "plotlyServerURL": "https://plot.ly"
       },
       "data": [
        {
         "mode": "markers",
         "name": "Objective Value",
         "type": "scatter",
         "x": [
          0,
          1,
          2,
          3,
          4,
          5,
          6,
          7,
          8,
          9,
          10,
          11,
          12,
          13,
          14,
          15,
          16,
          17,
          18,
          19,
          20,
          21,
          22,
          23,
          24,
          25,
          26,
          27,
          28,
          29,
          30,
          31,
          32,
          33,
          34,
          35,
          36,
          37,
          38,
          39,
          40,
          41,
          42,
          43,
          44,
          45,
          46,
          47,
          48,
          49,
          50,
          51,
          52,
          53,
          54,
          55,
          56,
          57,
          58,
          59,
          60,
          61,
          62,
          63,
          64,
          65,
          66,
          67,
          68,
          69,
          70,
          71,
          72,
          73,
          74,
          75,
          76,
          77,
          78,
          79,
          80,
          81,
          82,
          83,
          84,
          85,
          86,
          87,
          88,
          89,
          90,
          91,
          92,
          93,
          94,
          95,
          96,
          97,
          98,
          99
         ],
         "y": [
          0.25884202963656366,
          0.3216067708668637,
          0.284907211574595,
          0.268090518644611,
          0.27752481757029057,
          0.28440065371864787,
          0.28480078570229117,
          0.341355781840472,
          0.290264610150486,
          0.27467333904441676,
          0.31699627945334935,
          0.24165153263614073,
          0.32006118075841244,
          0.2990066713245397,
          0.28917204215323955,
          0.33738435692221597,
          0.3335734071842788,
          0.29596739033763275,
          0.2989265519748791,
          0.28066958462045893,
          0.32789660748452326,
          0.3210476148674289,
          0.3603849635434114,
          0.35167006772543546,
          0.35857338877090833,
          0.3507379087723397,
          0.30926797113297505,
          0.3184611002488989,
          0.3491642072918151,
          0.2681163840704584,
          0.26912937613568816,
          0.34434059361719216,
          0.3563341288888678,
          0.35193633362358856,
          0.34484660811853624,
          0.3532426035496934,
          0.325390800334265,
          0.2975139286409024,
          0.3322126255108493,
          0.28210875948356434,
          0.3378906505054177,
          0.3539625713630332,
          0.3497513319371353,
          0.34748556523783763,
          0.35348232431377075,
          0.3021245308155625,
          0.3425818407761849,
          0.2846674055430307,
          0.3228330237300798,
          0.3390112255035335,
          0.2999125342892634,
          0.3536958728356429,
          0.35732039891009976,
          0.3406892858353159,
          0.3569740093404201,
          0.3600923036180352,
          0.334425964592092,
          0.35175003146202616,
          0.29540894825844344,
          0.34908453977290715,
          0.3010321056160637,
          0.3577469461063896,
          0.3515372181115896,
          0.33834448445679355,
          0.3202475831335598,
          0.3498581413487134,
          0.33490573426855486,
          0.2944226291898435,
          0.33575905241779286,
          0.2837616447948823,
          0.3435397436644554,
          0.3447940035350154,
          0.353349389530577,
          0.35350920833590455,
          0.35145707110171465,
          0.3614773184310625,
          0.35953242102342603,
          0.3428478744719297,
          0.32096702252851234,
          0.3478057718483931,
          0.3525230811253692,
          0.3597453963012253,
          0.3588120760403079,
          0.34444766091225576,
          0.3559341652579679,
          0.29527636080871683,
          0.29580883090078647,
          0.28786599599537893,
          0.28202911751351856,
          0.32858938867253484,
          0.3493780456179159,
          0.3608116684181208,
          0.36003840990400765,
          0.35958505541020425,
          0.35729330607399795,
          0.35670742377991854,
          0.3357055423244814,
          0.3499372633740642,
          0.35220271895967303,
          0.3539352143329016
         ]
        },
        {
         "name": "Best Value",
         "type": "scatter",
         "x": [
          0,
          1,
          2,
          3,
          4,
          5,
          6,
          7,
          8,
          9,
          10,
          11,
          12,
          13,
          14,
          15,
          16,
          17,
          18,
          19,
          20,
          21,
          22,
          23,
          24,
          25,
          26,
          27,
          28,
          29,
          30,
          31,
          32,
          33,
          34,
          35,
          36,
          37,
          38,
          39,
          40,
          41,
          42,
          43,
          44,
          45,
          46,
          47,
          48,
          49,
          50,
          51,
          52,
          53,
          54,
          55,
          56,
          57,
          58,
          59,
          60,
          61,
          62,
          63,
          64,
          65,
          66,
          67,
          68,
          69,
          70,
          71,
          72,
          73,
          74,
          75,
          76,
          77,
          78,
          79,
          80,
          81,
          82,
          83,
          84,
          85,
          86,
          87,
          88,
          89,
          90,
          91,
          92,
          93,
          94,
          95,
          96,
          97,
          98,
          99
         ],
         "y": [
          0.25884202963656366,
          0.3216067708668637,
          0.3216067708668637,
          0.3216067708668637,
          0.3216067708668637,
          0.3216067708668637,
          0.3216067708668637,
          0.341355781840472,
          0.341355781840472,
          0.341355781840472,
          0.341355781840472,
          0.341355781840472,
          0.341355781840472,
          0.341355781840472,
          0.341355781840472,
          0.341355781840472,
          0.341355781840472,
          0.341355781840472,
          0.341355781840472,
          0.341355781840472,
          0.341355781840472,
          0.341355781840472,
          0.3603849635434114,
          0.3603849635434114,
          0.3603849635434114,
          0.3603849635434114,
          0.3603849635434114,
          0.3603849635434114,
          0.3603849635434114,
          0.3603849635434114,
          0.3603849635434114,
          0.3603849635434114,
          0.3603849635434114,
          0.3603849635434114,
          0.3603849635434114,
          0.3603849635434114,
          0.3603849635434114,
          0.3603849635434114,
          0.3603849635434114,
          0.3603849635434114,
          0.3603849635434114,
          0.3603849635434114,
          0.3603849635434114,
          0.3603849635434114,
          0.3603849635434114,
          0.3603849635434114,
          0.3603849635434114,
          0.3603849635434114,
          0.3603849635434114,
          0.3603849635434114,
          0.3603849635434114,
          0.3603849635434114,
          0.3603849635434114,
          0.3603849635434114,
          0.3603849635434114,
          0.3603849635434114,
          0.3603849635434114,
          0.3603849635434114,
          0.3603849635434114,
          0.3603849635434114,
          0.3603849635434114,
          0.3603849635434114,
          0.3603849635434114,
          0.3603849635434114,
          0.3603849635434114,
          0.3603849635434114,
          0.3603849635434114,
          0.3603849635434114,
          0.3603849635434114,
          0.3603849635434114,
          0.3603849635434114,
          0.3603849635434114,
          0.3603849635434114,
          0.3603849635434114,
          0.3603849635434114,
          0.3614773184310625,
          0.3614773184310625,
          0.3614773184310625,
          0.3614773184310625,
          0.3614773184310625,
          0.3614773184310625,
          0.3614773184310625,
          0.3614773184310625,
          0.3614773184310625,
          0.3614773184310625,
          0.3614773184310625,
          0.3614773184310625,
          0.3614773184310625,
          0.3614773184310625,
          0.3614773184310625,
          0.3614773184310625,
          0.3614773184310625,
          0.3614773184310625,
          0.3614773184310625,
          0.3614773184310625,
          0.3614773184310625,
          0.3614773184310625,
          0.3614773184310625,
          0.3614773184310625,
          0.3614773184310625
         ]
        }
       ],
       "layout": {
        "template": {
         "data": {
          "bar": [
           {
            "error_x": {
             "color": "#2a3f5f"
            },
            "error_y": {
             "color": "#2a3f5f"
            },
            "marker": {
             "line": {
              "color": "#E5ECF6",
              "width": 0.5
             }
            },
            "type": "bar"
           }
          ],
          "barpolar": [
           {
            "marker": {
             "line": {
              "color": "#E5ECF6",
              "width": 0.5
             }
            },
            "type": "barpolar"
           }
          ],
          "carpet": [
           {
            "aaxis": {
             "endlinecolor": "#2a3f5f",
             "gridcolor": "white",
             "linecolor": "white",
             "minorgridcolor": "white",
             "startlinecolor": "#2a3f5f"
            },
            "baxis": {
             "endlinecolor": "#2a3f5f",
             "gridcolor": "white",
             "linecolor": "white",
             "minorgridcolor": "white",
             "startlinecolor": "#2a3f5f"
            },
            "type": "carpet"
           }
          ],
          "choropleth": [
           {
            "colorbar": {
             "outlinewidth": 0,
             "ticks": ""
            },
            "type": "choropleth"
           }
          ],
          "contour": [
           {
            "colorbar": {
             "outlinewidth": 0,
             "ticks": ""
            },
            "colorscale": [
             [
              0,
              "#0d0887"
             ],
             [
              0.1111111111111111,
              "#46039f"
             ],
             [
              0.2222222222222222,
              "#7201a8"
             ],
             [
              0.3333333333333333,
              "#9c179e"
             ],
             [
              0.4444444444444444,
              "#bd3786"
             ],
             [
              0.5555555555555556,
              "#d8576b"
             ],
             [
              0.6666666666666666,
              "#ed7953"
             ],
             [
              0.7777777777777778,
              "#fb9f3a"
             ],
             [
              0.8888888888888888,
              "#fdca26"
             ],
             [
              1,
              "#f0f921"
             ]
            ],
            "type": "contour"
           }
          ],
          "contourcarpet": [
           {
            "colorbar": {
             "outlinewidth": 0,
             "ticks": ""
            },
            "type": "contourcarpet"
           }
          ],
          "heatmap": [
           {
            "colorbar": {
             "outlinewidth": 0,
             "ticks": ""
            },
            "colorscale": [
             [
              0,
              "#0d0887"
             ],
             [
              0.1111111111111111,
              "#46039f"
             ],
             [
              0.2222222222222222,
              "#7201a8"
             ],
             [
              0.3333333333333333,
              "#9c179e"
             ],
             [
              0.4444444444444444,
              "#bd3786"
             ],
             [
              0.5555555555555556,
              "#d8576b"
             ],
             [
              0.6666666666666666,
              "#ed7953"
             ],
             [
              0.7777777777777778,
              "#fb9f3a"
             ],
             [
              0.8888888888888888,
              "#fdca26"
             ],
             [
              1,
              "#f0f921"
             ]
            ],
            "type": "heatmap"
           }
          ],
          "heatmapgl": [
           {
            "colorbar": {
             "outlinewidth": 0,
             "ticks": ""
            },
            "colorscale": [
             [
              0,
              "#0d0887"
             ],
             [
              0.1111111111111111,
              "#46039f"
             ],
             [
              0.2222222222222222,
              "#7201a8"
             ],
             [
              0.3333333333333333,
              "#9c179e"
             ],
             [
              0.4444444444444444,
              "#bd3786"
             ],
             [
              0.5555555555555556,
              "#d8576b"
             ],
             [
              0.6666666666666666,
              "#ed7953"
             ],
             [
              0.7777777777777778,
              "#fb9f3a"
             ],
             [
              0.8888888888888888,
              "#fdca26"
             ],
             [
              1,
              "#f0f921"
             ]
            ],
            "type": "heatmapgl"
           }
          ],
          "histogram": [
           {
            "marker": {
             "colorbar": {
              "outlinewidth": 0,
              "ticks": ""
             }
            },
            "type": "histogram"
           }
          ],
          "histogram2d": [
           {
            "colorbar": {
             "outlinewidth": 0,
             "ticks": ""
            },
            "colorscale": [
             [
              0,
              "#0d0887"
             ],
             [
              0.1111111111111111,
              "#46039f"
             ],
             [
              0.2222222222222222,
              "#7201a8"
             ],
             [
              0.3333333333333333,
              "#9c179e"
             ],
             [
              0.4444444444444444,
              "#bd3786"
             ],
             [
              0.5555555555555556,
              "#d8576b"
             ],
             [
              0.6666666666666666,
              "#ed7953"
             ],
             [
              0.7777777777777778,
              "#fb9f3a"
             ],
             [
              0.8888888888888888,
              "#fdca26"
             ],
             [
              1,
              "#f0f921"
             ]
            ],
            "type": "histogram2d"
           }
          ],
          "histogram2dcontour": [
           {
            "colorbar": {
             "outlinewidth": 0,
             "ticks": ""
            },
            "colorscale": [
             [
              0,
              "#0d0887"
             ],
             [
              0.1111111111111111,
              "#46039f"
             ],
             [
              0.2222222222222222,
              "#7201a8"
             ],
             [
              0.3333333333333333,
              "#9c179e"
             ],
             [
              0.4444444444444444,
              "#bd3786"
             ],
             [
              0.5555555555555556,
              "#d8576b"
             ],
             [
              0.6666666666666666,
              "#ed7953"
             ],
             [
              0.7777777777777778,
              "#fb9f3a"
             ],
             [
              0.8888888888888888,
              "#fdca26"
             ],
             [
              1,
              "#f0f921"
             ]
            ],
            "type": "histogram2dcontour"
           }
          ],
          "mesh3d": [
           {
            "colorbar": {
             "outlinewidth": 0,
             "ticks": ""
            },
            "type": "mesh3d"
           }
          ],
          "parcoords": [
           {
            "line": {
             "colorbar": {
              "outlinewidth": 0,
              "ticks": ""
             }
            },
            "type": "parcoords"
           }
          ],
          "pie": [
           {
            "automargin": true,
            "type": "pie"
           }
          ],
          "scatter": [
           {
            "marker": {
             "colorbar": {
              "outlinewidth": 0,
              "ticks": ""
             }
            },
            "type": "scatter"
           }
          ],
          "scatter3d": [
           {
            "line": {
             "colorbar": {
              "outlinewidth": 0,
              "ticks": ""
             }
            },
            "marker": {
             "colorbar": {
              "outlinewidth": 0,
              "ticks": ""
             }
            },
            "type": "scatter3d"
           }
          ],
          "scattercarpet": [
           {
            "marker": {
             "colorbar": {
              "outlinewidth": 0,
              "ticks": ""
             }
            },
            "type": "scattercarpet"
           }
          ],
          "scattergeo": [
           {
            "marker": {
             "colorbar": {
              "outlinewidth": 0,
              "ticks": ""
             }
            },
            "type": "scattergeo"
           }
          ],
          "scattergl": [
           {
            "marker": {
             "colorbar": {
              "outlinewidth": 0,
              "ticks": ""
             }
            },
            "type": "scattergl"
           }
          ],
          "scattermapbox": [
           {
            "marker": {
             "colorbar": {
              "outlinewidth": 0,
              "ticks": ""
             }
            },
            "type": "scattermapbox"
           }
          ],
          "scatterpolar": [
           {
            "marker": {
             "colorbar": {
              "outlinewidth": 0,
              "ticks": ""
             }
            },
            "type": "scatterpolar"
           }
          ],
          "scatterpolargl": [
           {
            "marker": {
             "colorbar": {
              "outlinewidth": 0,
              "ticks": ""
             }
            },
            "type": "scatterpolargl"
           }
          ],
          "scatterternary": [
           {
            "marker": {
             "colorbar": {
              "outlinewidth": 0,
              "ticks": ""
             }
            },
            "type": "scatterternary"
           }
          ],
          "surface": [
           {
            "colorbar": {
             "outlinewidth": 0,
             "ticks": ""
            },
            "colorscale": [
             [
              0,
              "#0d0887"
             ],
             [
              0.1111111111111111,
              "#46039f"
             ],
             [
              0.2222222222222222,
              "#7201a8"
             ],
             [
              0.3333333333333333,
              "#9c179e"
             ],
             [
              0.4444444444444444,
              "#bd3786"
             ],
             [
              0.5555555555555556,
              "#d8576b"
             ],
             [
              0.6666666666666666,
              "#ed7953"
             ],
             [
              0.7777777777777778,
              "#fb9f3a"
             ],
             [
              0.8888888888888888,
              "#fdca26"
             ],
             [
              1,
              "#f0f921"
             ]
            ],
            "type": "surface"
           }
          ],
          "table": [
           {
            "cells": {
             "fill": {
              "color": "#EBF0F8"
             },
             "line": {
              "color": "white"
             }
            },
            "header": {
             "fill": {
              "color": "#C8D4E3"
             },
             "line": {
              "color": "white"
             }
            },
            "type": "table"
           }
          ]
         },
         "layout": {
          "annotationdefaults": {
           "arrowcolor": "#2a3f5f",
           "arrowhead": 0,
           "arrowwidth": 1
          },
          "autotypenumbers": "strict",
          "coloraxis": {
           "colorbar": {
            "outlinewidth": 0,
            "ticks": ""
           }
          },
          "colorscale": {
           "diverging": [
            [
             0,
             "#8e0152"
            ],
            [
             0.1,
             "#c51b7d"
            ],
            [
             0.2,
             "#de77ae"
            ],
            [
             0.3,
             "#f1b6da"
            ],
            [
             0.4,
             "#fde0ef"
            ],
            [
             0.5,
             "#f7f7f7"
            ],
            [
             0.6,
             "#e6f5d0"
            ],
            [
             0.7,
             "#b8e186"
            ],
            [
             0.8,
             "#7fbc41"
            ],
            [
             0.9,
             "#4d9221"
            ],
            [
             1,
             "#276419"
            ]
           ],
           "sequential": [
            [
             0,
             "#0d0887"
            ],
            [
             0.1111111111111111,
             "#46039f"
            ],
            [
             0.2222222222222222,
             "#7201a8"
            ],
            [
             0.3333333333333333,
             "#9c179e"
            ],
            [
             0.4444444444444444,
             "#bd3786"
            ],
            [
             0.5555555555555556,
             "#d8576b"
            ],
            [
             0.6666666666666666,
             "#ed7953"
            ],
            [
             0.7777777777777778,
             "#fb9f3a"
            ],
            [
             0.8888888888888888,
             "#fdca26"
            ],
            [
             1,
             "#f0f921"
            ]
           ],
           "sequentialminus": [
            [
             0,
             "#0d0887"
            ],
            [
             0.1111111111111111,
             "#46039f"
            ],
            [
             0.2222222222222222,
             "#7201a8"
            ],
            [
             0.3333333333333333,
             "#9c179e"
            ],
            [
             0.4444444444444444,
             "#bd3786"
            ],
            [
             0.5555555555555556,
             "#d8576b"
            ],
            [
             0.6666666666666666,
             "#ed7953"
            ],
            [
             0.7777777777777778,
             "#fb9f3a"
            ],
            [
             0.8888888888888888,
             "#fdca26"
            ],
            [
             1,
             "#f0f921"
            ]
           ]
          },
          "colorway": [
           "#636efa",
           "#EF553B",
           "#00cc96",
           "#ab63fa",
           "#FFA15A",
           "#19d3f3",
           "#FF6692",
           "#B6E880",
           "#FF97FF",
           "#FECB52"
          ],
          "font": {
           "color": "#2a3f5f"
          },
          "geo": {
           "bgcolor": "white",
           "lakecolor": "white",
           "landcolor": "#E5ECF6",
           "showlakes": true,
           "showland": true,
           "subunitcolor": "white"
          },
          "hoverlabel": {
           "align": "left"
          },
          "hovermode": "closest",
          "mapbox": {
           "style": "light"
          },
          "paper_bgcolor": "white",
          "plot_bgcolor": "#E5ECF6",
          "polar": {
           "angularaxis": {
            "gridcolor": "white",
            "linecolor": "white",
            "ticks": ""
           },
           "bgcolor": "#E5ECF6",
           "radialaxis": {
            "gridcolor": "white",
            "linecolor": "white",
            "ticks": ""
           }
          },
          "scene": {
           "xaxis": {
            "backgroundcolor": "#E5ECF6",
            "gridcolor": "white",
            "gridwidth": 2,
            "linecolor": "white",
            "showbackground": true,
            "ticks": "",
            "zerolinecolor": "white"
           },
           "yaxis": {
            "backgroundcolor": "#E5ECF6",
            "gridcolor": "white",
            "gridwidth": 2,
            "linecolor": "white",
            "showbackground": true,
            "ticks": "",
            "zerolinecolor": "white"
           },
           "zaxis": {
            "backgroundcolor": "#E5ECF6",
            "gridcolor": "white",
            "gridwidth": 2,
            "linecolor": "white",
            "showbackground": true,
            "ticks": "",
            "zerolinecolor": "white"
           }
          },
          "shapedefaults": {
           "line": {
            "color": "#2a3f5f"
           }
          },
          "ternary": {
           "aaxis": {
            "gridcolor": "white",
            "linecolor": "white",
            "ticks": ""
           },
           "baxis": {
            "gridcolor": "white",
            "linecolor": "white",
            "ticks": ""
           },
           "bgcolor": "#E5ECF6",
           "caxis": {
            "gridcolor": "white",
            "linecolor": "white",
            "ticks": ""
           }
          },
          "title": {
           "x": 0.05
          },
          "xaxis": {
           "automargin": true,
           "gridcolor": "white",
           "linecolor": "white",
           "ticks": "",
           "title": {
            "standoff": 15
           },
           "zerolinecolor": "white",
           "zerolinewidth": 2
          },
          "yaxis": {
           "automargin": true,
           "gridcolor": "white",
           "linecolor": "white",
           "ticks": "",
           "title": {
            "standoff": 15
           },
           "zerolinecolor": "white",
           "zerolinewidth": 2
          }
         }
        },
        "title": {
         "text": "Optimization History Plot"
        },
        "xaxis": {
         "title": {
          "text": "Trial"
         }
        },
        "yaxis": {
         "title": {
          "text": "Objective Value"
         }
        }
       }
      }
     },
     "metadata": {},
     "output_type": "display_data"
    }
   ],
   "source": [
    "optuna.visualization.plot_optimization_history(study)"
   ]
  },
  {
   "attachments": {},
   "cell_type": "markdown",
   "metadata": {},
   "source": [
    "### Best Parameters"
   ]
  },
  {
   "cell_type": "code",
   "execution_count": 126,
   "metadata": {},
   "outputs": [
    {
     "data": {
      "text/plain": [
       "{'learning_rate': 0.15172330358622138,\n",
       " 'gamma': 1,\n",
       " 'max_delta_step': 9,\n",
       " 'lambda': 100,\n",
       " 'alpha': 10,\n",
       " 'colsample_bylevel': 0.8,\n",
       " 'colsample_bynode': 0.7,\n",
       " 'colsample_bytree': 0.9,\n",
       " 'subsample': 0.6,\n",
       " 'max_depth': 7,\n",
       " 'num_feat': 70,\n",
       " 'step': 0.3,\n",
       " 'num_boost_round': 900}"
      ]
     },
     "execution_count": 126,
     "metadata": {},
     "output_type": "execute_result"
    }
   ],
   "source": [
    "study.best_params"
   ]
  },
  {
   "attachments": {},
   "cell_type": "markdown",
   "metadata": {},
   "source": [
    "## Training with K-Fold"
   ]
  },
  {
   "cell_type": "code",
   "execution_count": 127,
   "metadata": {},
   "outputs": [],
   "source": [
    "optimal_params = {\n",
    "    # Booster parameters\n",
    "    \"booster_params\": {\n",
    "        \"booster\": \"gbtree\",\n",
    "        \"objective\": \"multi:softprob\",\n",
    "        \"num_class\": 3,\n",
    "        \"learning_rate\": study.best_params[\"learning_rate\"],\n",
    "        \"gamma\": study.best_params[\"gamma\"],\n",
    "        \"max_delta_step\": study.best_params[\"max_delta_step\"],\n",
    "        \"lambda\": study.best_params[\"lambda\"],\n",
    "        \"alpha\": study.best_params[\"alpha\"],\n",
    "        \"colsample_bylevel\": study.best_params[\"colsample_bylevel\"],\n",
    "        \"colsample_bynode\": study.best_params[\"colsample_bynode\"],\n",
    "        \"colsample_bytree\": study.best_params[\"colsample_bytree\"],\n",
    "        \"subsample\": study.best_params[\"subsample\"],\n",
    "        \"max_depth\": study.best_params[\"max_depth\"],\n",
    "        \"tree_method\": \"hist\",\n",
    "        \"predictor\": \"cpu_predictor\",\n",
    "        \"disable_default_eval_metric\": 1,\n",
    "    },\n",
    "    # Non-booster parameters\n",
    "    \"num_feat\": study.best_params[\"num_feat\"],\n",
    "    \"step\": study.best_params[\"step\"],\n",
    "    \"num_boost_round\": study.best_params[\"num_boost_round\"],\n",
    "}"
   ]
  },
  {
   "cell_type": "code",
   "execution_count": 128,
   "metadata": {},
   "outputs": [
    {
     "name": "stdout",
     "output_type": "stream",
     "text": [
      "################################################################################\n",
      "# Fold 1\n",
      "# Training set size 65129 Validation set size 16283\n",
      "################################################################################\n",
      "The training and validation sets are disjoint: True\n",
      "The preprocessor is not fitted yet. Fitting now...\n",
      "The label encoder is not fitted yet. Fitting now...\n"
     ]
    },
    {
     "data": {
      "text/plain": [
       "['../outputs/pipeline/optuna_preprocessor_fold_1.joblib']"
      ]
     },
     "execution_count": 128,
     "metadata": {},
     "output_type": "execute_result"
    },
    {
     "data": {
      "text/plain": [
       "['../outputs/pipeline/optuna_label_encoder_fold_1.joblib']"
      ]
     },
     "execution_count": 128,
     "metadata": {},
     "output_type": "execute_result"
    },
    {
     "name": "stderr",
     "output_type": "stream",
     "text": [
      "/Users/kenwu/opt/anaconda3/envs/python_for_machine_learning/lib/python3.9/site-packages/sklearn/base.py:402: UserWarning:\n",
      "\n",
      "X has feature names, but RFE was fitted without feature names\n",
      "\n"
     ]
    },
    {
     "name": "stdout",
     "output_type": "stream",
     "text": [
      "The feature selector is not fitted yet. Fitting now...\n"
     ]
    },
    {
     "data": {
      "text/plain": [
       "['../outputs/pipeline/optuna_feature_selector_fold_1.joblib']"
      ]
     },
     "execution_count": 128,
     "metadata": {},
     "output_type": "execute_result"
    },
    {
     "name": "stdout",
     "output_type": "stream",
     "text": [
      "Class distribution: [0.11159289 0.34928512 0.539122  ]\n",
      "Class instance weights: (array([0.61828925, 0.95433019, 2.98704825]), array([43891, 28436,  9085]))\n",
      "[0]\ttrain-avgRecall:0.38666\tvalidate-avgRecall:0.20213\n",
      "[200]\ttrain-avgRecall:0.55220\tvalidate-avgRecall:0.29687\n",
      "[400]\ttrain-avgRecall:0.62216\tvalidate-avgRecall:0.32592\n",
      "[600]\ttrain-avgRecall:0.66907\tvalidate-avgRecall:0.34910\n",
      "[800]\ttrain-avgRecall:0.70110\tvalidate-avgRecall:0.35909\n",
      "[899]\ttrain-avgRecall:0.71248\tvalidate-avgRecall:0.36549\n"
     ]
    },
    {
     "data": {
      "text/plain": [
       "['../outputs/models/optuna_eval_fold_1.joblib']"
      ]
     },
     "execution_count": 128,
     "metadata": {},
     "output_type": "execute_result"
    },
    {
     "name": "stdout",
     "output_type": "stream",
     "text": [
      "                   pre       rec       spe        f1       geo       iba       sup\n",
      "\n",
      "          0       0.49      0.42      0.95      0.46      0.63      0.38      1817\n",
      "          1       0.69      0.35      0.92      0.46      0.56      0.30      5688\n",
      "          2       0.67      0.90      0.47      0.77      0.65      0.45      8778\n",
      "\n",
      "avg / total       0.66      0.66      0.68      0.63      0.62      0.39     16283\n",
      "\n",
      "################################################################################\n",
      "# Fold 2\n",
      "# Training set size 65129 Validation set size 16283\n",
      "################################################################################\n",
      "The training and validation sets are disjoint: True\n",
      "The preprocessor is not fitted yet. Fitting now...\n",
      "The label encoder is not fitted yet. Fitting now...\n"
     ]
    },
    {
     "data": {
      "text/plain": [
       "['../outputs/pipeline/optuna_preprocessor_fold_2.joblib']"
      ]
     },
     "execution_count": 128,
     "metadata": {},
     "output_type": "execute_result"
    },
    {
     "data": {
      "text/plain": [
       "['../outputs/pipeline/optuna_label_encoder_fold_2.joblib']"
      ]
     },
     "execution_count": 128,
     "metadata": {},
     "output_type": "execute_result"
    },
    {
     "name": "stderr",
     "output_type": "stream",
     "text": [
      "/Users/kenwu/opt/anaconda3/envs/python_for_machine_learning/lib/python3.9/site-packages/sklearn/base.py:402: UserWarning:\n",
      "\n",
      "X has feature names, but RFE was fitted without feature names\n",
      "\n"
     ]
    },
    {
     "name": "stdout",
     "output_type": "stream",
     "text": [
      "The feature selector is not fitted yet. Fitting now...\n"
     ]
    },
    {
     "data": {
      "text/plain": [
       "['../outputs/pipeline/optuna_feature_selector_fold_2.joblib']"
      ]
     },
     "execution_count": 128,
     "metadata": {},
     "output_type": "execute_result"
    },
    {
     "name": "stdout",
     "output_type": "stream",
     "text": [
      "Class distribution: [0.11159289 0.34928512 0.539122  ]\n",
      "Class instance weights: (array([0.61828925, 0.95433019, 2.98704825]), array([43891, 28436,  9085]))\n",
      "[0]\ttrain-avgRecall:0.38666\tvalidate-avgRecall:0.19510\n",
      "[200]\ttrain-avgRecall:0.55220\tvalidate-avgRecall:0.27159\n",
      "[400]\ttrain-avgRecall:0.62216\tvalidate-avgRecall:0.30610\n",
      "[600]\ttrain-avgRecall:0.66907\tvalidate-avgRecall:0.32756\n",
      "[800]\ttrain-avgRecall:0.70110\tvalidate-avgRecall:0.33955\n",
      "[899]\ttrain-avgRecall:0.71248\tvalidate-avgRecall:0.34462\n"
     ]
    },
    {
     "data": {
      "text/plain": [
       "['../outputs/models/optuna_eval_fold_2.joblib']"
      ]
     },
     "execution_count": 128,
     "metadata": {},
     "output_type": "execute_result"
    },
    {
     "name": "stdout",
     "output_type": "stream",
     "text": [
      "                   pre       rec       spe        f1       geo       iba       sup\n",
      "\n",
      "          0       0.48      0.38      0.95      0.43      0.60      0.34      1817\n",
      "          1       0.68      0.33      0.92      0.45      0.55      0.29      5687\n",
      "          2       0.66      0.90      0.45      0.76      0.64      0.42      8779\n",
      "\n",
      "avg / total       0.65      0.65      0.67      0.61      0.60      0.37     16283\n",
      "\n",
      "################################################################################\n",
      "# Fold 3\n",
      "# Training set size 65130 Validation set size 16282\n",
      "################################################################################\n",
      "The training and validation sets are disjoint: True\n",
      "The preprocessor is not fitted yet. Fitting now...\n",
      "The label encoder is not fitted yet. Fitting now...\n"
     ]
    },
    {
     "data": {
      "text/plain": [
       "['../outputs/pipeline/optuna_preprocessor_fold_3.joblib']"
      ]
     },
     "execution_count": 128,
     "metadata": {},
     "output_type": "execute_result"
    },
    {
     "data": {
      "text/plain": [
       "['../outputs/pipeline/optuna_label_encoder_fold_3.joblib']"
      ]
     },
     "execution_count": 128,
     "metadata": {},
     "output_type": "execute_result"
    },
    {
     "name": "stderr",
     "output_type": "stream",
     "text": [
      "/Users/kenwu/opt/anaconda3/envs/python_for_machine_learning/lib/python3.9/site-packages/sklearn/base.py:402: UserWarning:\n",
      "\n",
      "X has feature names, but RFE was fitted without feature names\n",
      "\n"
     ]
    },
    {
     "name": "stdout",
     "output_type": "stream",
     "text": [
      "The feature selector is not fitted yet. Fitting now...\n"
     ]
    },
    {
     "data": {
      "text/plain": [
       "['../outputs/pipeline/optuna_feature_selector_fold_3.joblib']"
      ]
     },
     "execution_count": 128,
     "metadata": {},
     "output_type": "execute_result"
    },
    {
     "name": "stdout",
     "output_type": "stream",
     "text": [
      "Class distribution: [0.11159289 0.34928512 0.539122  ]\n",
      "Class instance weights: (array([0.61828925, 0.95433019, 2.98704825]), array([43891, 28436,  9085]))\n",
      "[0]\ttrain-avgRecall:0.38666\tvalidate-avgRecall:0.21135\n",
      "[200]\ttrain-avgRecall:0.55220\tvalidate-avgRecall:0.28478\n",
      "[400]\ttrain-avgRecall:0.62216\tvalidate-avgRecall:0.32236\n",
      "[600]\ttrain-avgRecall:0.66907\tvalidate-avgRecall:0.33702\n",
      "[800]\ttrain-avgRecall:0.70110\tvalidate-avgRecall:0.35341\n",
      "[899]\ttrain-avgRecall:0.71248\tvalidate-avgRecall:0.36194\n"
     ]
    },
    {
     "data": {
      "text/plain": [
       "['../outputs/models/optuna_eval_fold_3.joblib']"
      ]
     },
     "execution_count": 128,
     "metadata": {},
     "output_type": "execute_result"
    },
    {
     "name": "stdout",
     "output_type": "stream",
     "text": [
      "                   pre       rec       spe        f1       geo       iba       sup\n",
      "\n",
      "          0       0.48      0.39      0.95      0.43      0.61      0.35      1817\n",
      "          1       0.69      0.35      0.91      0.47      0.57      0.30      5687\n",
      "          2       0.67      0.90      0.47      0.77      0.65      0.44      8778\n",
      "\n",
      "avg / total       0.65      0.65      0.68      0.62      0.62      0.38     16282\n",
      "\n",
      "################################################################################\n",
      "# Fold 4\n",
      "# Training set size 65130 Validation set size 16282\n",
      "################################################################################\n",
      "The training and validation sets are disjoint: True\n",
      "The preprocessor is not fitted yet. Fitting now...\n",
      "The label encoder is not fitted yet. Fitting now...\n"
     ]
    },
    {
     "data": {
      "text/plain": [
       "['../outputs/pipeline/optuna_preprocessor_fold_4.joblib']"
      ]
     },
     "execution_count": 128,
     "metadata": {},
     "output_type": "execute_result"
    },
    {
     "data": {
      "text/plain": [
       "['../outputs/pipeline/optuna_label_encoder_fold_4.joblib']"
      ]
     },
     "execution_count": 128,
     "metadata": {},
     "output_type": "execute_result"
    },
    {
     "name": "stderr",
     "output_type": "stream",
     "text": [
      "/Users/kenwu/opt/anaconda3/envs/python_for_machine_learning/lib/python3.9/site-packages/sklearn/base.py:402: UserWarning:\n",
      "\n",
      "X has feature names, but RFE was fitted without feature names\n",
      "\n"
     ]
    },
    {
     "name": "stdout",
     "output_type": "stream",
     "text": [
      "The feature selector is not fitted yet. Fitting now...\n"
     ]
    },
    {
     "data": {
      "text/plain": [
       "['../outputs/pipeline/optuna_feature_selector_fold_4.joblib']"
      ]
     },
     "execution_count": 128,
     "metadata": {},
     "output_type": "execute_result"
    },
    {
     "name": "stdout",
     "output_type": "stream",
     "text": [
      "Class distribution: [0.11159289 0.34928512 0.539122  ]\n",
      "Class instance weights: (array([0.61828925, 0.95433019, 2.98704825]), array([43891, 28436,  9085]))\n",
      "[0]\ttrain-avgRecall:0.38666\tvalidate-avgRecall:0.20776\n",
      "[200]\ttrain-avgRecall:0.55220\tvalidate-avgRecall:0.27679\n",
      "[400]\ttrain-avgRecall:0.62216\tvalidate-avgRecall:0.29891\n",
      "[600]\ttrain-avgRecall:0.66907\tvalidate-avgRecall:0.32156\n",
      "[800]\ttrain-avgRecall:0.70110\tvalidate-avgRecall:0.33609\n",
      "[899]\ttrain-avgRecall:0.71248\tvalidate-avgRecall:0.34288\n"
     ]
    },
    {
     "data": {
      "text/plain": [
       "['../outputs/models/optuna_eval_fold_4.joblib']"
      ]
     },
     "execution_count": 128,
     "metadata": {},
     "output_type": "execute_result"
    },
    {
     "name": "stdout",
     "output_type": "stream",
     "text": [
      "                   pre       rec       spe        f1       geo       iba       sup\n",
      "\n",
      "          0       0.48      0.37      0.95      0.42      0.59      0.33      1817\n",
      "          1       0.69      0.33      0.92      0.45      0.55      0.29      5687\n",
      "          2       0.66      0.91      0.45      0.76      0.64      0.43      8778\n",
      "\n",
      "avg / total       0.65      0.65      0.67      0.62      0.60      0.37     16282\n",
      "\n",
      "################################################################################\n",
      "# Fold 5\n",
      "# Training set size 65130 Validation set size 16282\n",
      "################################################################################\n",
      "The training and validation sets are disjoint: True\n",
      "The preprocessor is not fitted yet. Fitting now...\n",
      "The label encoder is not fitted yet. Fitting now...\n"
     ]
    },
    {
     "data": {
      "text/plain": [
       "['../outputs/pipeline/optuna_preprocessor_fold_5.joblib']"
      ]
     },
     "execution_count": 128,
     "metadata": {},
     "output_type": "execute_result"
    },
    {
     "data": {
      "text/plain": [
       "['../outputs/pipeline/optuna_label_encoder_fold_5.joblib']"
      ]
     },
     "execution_count": 128,
     "metadata": {},
     "output_type": "execute_result"
    },
    {
     "name": "stderr",
     "output_type": "stream",
     "text": [
      "/Users/kenwu/opt/anaconda3/envs/python_for_machine_learning/lib/python3.9/site-packages/sklearn/base.py:402: UserWarning:\n",
      "\n",
      "X has feature names, but RFE was fitted without feature names\n",
      "\n"
     ]
    },
    {
     "name": "stdout",
     "output_type": "stream",
     "text": [
      "The feature selector is not fitted yet. Fitting now...\n"
     ]
    },
    {
     "data": {
      "text/plain": [
       "['../outputs/pipeline/optuna_feature_selector_fold_5.joblib']"
      ]
     },
     "execution_count": 128,
     "metadata": {},
     "output_type": "execute_result"
    },
    {
     "name": "stdout",
     "output_type": "stream",
     "text": [
      "Class distribution: [0.11159289 0.34928512 0.539122  ]\n",
      "Class instance weights: (array([0.61828925, 0.95433019, 2.98704825]), array([43891, 28436,  9085]))\n",
      "[0]\ttrain-avgRecall:0.38666\tvalidate-avgRecall:0.19270\n",
      "[200]\ttrain-avgRecall:0.55220\tvalidate-avgRecall:0.27505\n",
      "[400]\ttrain-avgRecall:0.62216\tvalidate-avgRecall:0.30744\n",
      "[600]\ttrain-avgRecall:0.66907\tvalidate-avgRecall:0.32716\n",
      "[800]\ttrain-avgRecall:0.70110\tvalidate-avgRecall:0.33969\n",
      "[899]\ttrain-avgRecall:0.71248\tvalidate-avgRecall:0.34462\n"
     ]
    },
    {
     "data": {
      "text/plain": [
       "['../outputs/models/optuna_eval_fold_5.joblib']"
      ]
     },
     "execution_count": 128,
     "metadata": {},
     "output_type": "execute_result"
    },
    {
     "name": "stdout",
     "output_type": "stream",
     "text": [
      "                   pre       rec       spe        f1       geo       iba       sup\n",
      "\n",
      "          0       0.50      0.38      0.95      0.43      0.60      0.34      1817\n",
      "          1       0.70      0.33      0.92      0.45      0.55      0.29      5687\n",
      "          2       0.66      0.91      0.44      0.76      0.63      0.42      8778\n",
      "\n",
      "avg / total       0.65      0.65      0.67      0.62      0.60      0.37     16282\n",
      "\n"
     ]
    }
   ],
   "source": [
    "# Out-of-fold prediction dictionary\n",
    "oof = {}\n",
    "# Feature importance container\n",
    "feat_imp_list = []\n",
    "# Classification report container\n",
    "clf_report_list = []\n",
    "# CV splitter\n",
    "skf = StratifiedKFold(n_splits=5, shuffle=True, random_state=rs)\n",
    "\n",
    "for fold, (train_idx, val_idx) in enumerate(skf.split(train_X, train_y)):\n",
    "    # Print messages to console\n",
    "    print(\"#\" * 80)\n",
    "    print(\"# Fold\", fold + 1)\n",
    "    print(\"# Training set size\", len(train_idx), \"Validation set size\", len(val_idx))\n",
    "    print(\"#\" * 80)\n",
    "\n",
    "    # Check that the indices are indeed disjoint for training and validation set\n",
    "    print(\n",
    "        \"The training and validation sets are disjoint:\",\n",
    "        set(train_idx).isdisjoint(set(val_idx)),\n",
    "    )\n",
    "\n",
    "    # Train and validation sets\n",
    "    fold_train_X, fold_train_y = train_X.iloc[train_idx], train_y[train_idx]\n",
    "    fold_val_X, fold_val_y = train_X.iloc[val_idx], train_y[val_idx]\n",
    "\n",
    "    # Preprocessing\n",
    "    preprocessor = joblib.load(\"../outputs/pipeline/preprocessor.joblib\")\n",
    "    label_encoder = joblib.load(\"../outputs/pipeline/label_encoder.joblib\")\n",
    "    try:\n",
    "        preprocessor.transform(train_X)\n",
    "    except NotFittedError:\n",
    "        print(\"The preprocessor is not fitted yet. Fitting now...\")\n",
    "    try:\n",
    "        label_encoder.transform(train_y)\n",
    "    except NotFittedError:\n",
    "        print(\"The label encoder is not fitted yet. Fitting now...\")\n",
    "    # Fit and transform on training data\n",
    "    fold_train_X = preprocessor.fit_transform(train_X)\n",
    "    fold_train_y = label_encoder.fit_transform(train_y)\n",
    "    # Transform validation data\n",
    "    fold_val_X = preprocessor.transform(fold_val_X)\n",
    "    fold_val_y = label_encoder.transform(fold_val_y)\n",
    "    # Store fitted preprocessor and label encoder\n",
    "    joblib.dump(\n",
    "        preprocessor, f\"../outputs/pipeline/optuna_preprocessor_fold_{fold + 1}.joblib\"\n",
    "    )\n",
    "    joblib.dump(\n",
    "        label_encoder,\n",
    "        f\"../outputs/pipeline/optuna_label_encoder_fold_{fold + 1}.joblib\",\n",
    "    )\n",
    "\n",
    "    # Feature selection\n",
    "    selector = RFE(\n",
    "        estimator=DecisionTreeClassifier(random_state=rs),\n",
    "        n_features_to_select=optimal_params[\"num_feat\"],\n",
    "        step=optimal_params[\"step\"],\n",
    "    )\n",
    "    try:\n",
    "        selector.transform(fold_train_X)\n",
    "    except NotFittedError:\n",
    "        print(\"The feature selector is not fitted yet. Fitting now...\")\n",
    "    fold_train_X = selector.fit_transform(fold_train_X, fold_train_y)\n",
    "    fold_val_X = selector.transform(fold_val_X)\n",
    "    # Store fitted feature selector\n",
    "    joblib.dump(\n",
    "        selector, f\"../outputs/pipeline/optuna_feature_selector_fold_{fold + 1}.joblib\"\n",
    "    )\n",
    "\n",
    "    # Obtaining training data class weight after resampling\n",
    "    print(\n",
    "        \"Class distribution:\",\n",
    "        np.unique(fold_train_y, return_counts=True)[1] / len(fold_train_y),\n",
    "    )\n",
    "    instance_weights = compute_sample_weight(\"balanced\", fold_train_y)\n",
    "    print(\"Class instance weights:\", np.unique(instance_weights, return_counts=True))\n",
    "\n",
    "    # Container for evaluation results\n",
    "    evals_result = {}\n",
    "    # Model, applying weights to the training data and not the validation data\n",
    "    dtrain = xgb.DMatrix(\n",
    "        data=fold_train_X,\n",
    "        label=fold_train_y,\n",
    "        feature_names=selector.get_feature_names_out().tolist(),\n",
    "        weight=instance_weights,\n",
    "    )\n",
    "    dvalid = xgb.DMatrix(\n",
    "        data=fold_val_X,\n",
    "        label=fold_val_y,\n",
    "        feature_names=selector.get_feature_names_out().tolist(),\n",
    "    )\n",
    "    model = xgb.train(\n",
    "        params=optimal_params[\"booster_params\"],\n",
    "        dtrain=dtrain,\n",
    "        num_boost_round=optimal_params[\"num_boost_round\"],\n",
    "        early_stopping_rounds=400,\n",
    "        custom_metric=custom_recall_score,  # Custom evaluation metric\n",
    "        maximize=True,  # Maximize custom evaluation metric (average recall score for class 0 and 1)\n",
    "        evals=[(dtrain, \"train\"), (dvalid, \"validate\")],\n",
    "        evals_result=evals_result,\n",
    "        verbose_eval=200,\n",
    "    )\n",
    "    model.save_model(model_path + f\"optuna_model_fold_{fold + 1}.xgb\")\n",
    "    joblib.dump(evals_result, model_path + f\"optuna_eval_fold_{fold + 1}.joblib\")\n",
    "\n",
    "    # Feature importance for the current fold\n",
    "    # The booster object has a get_score method that returns a dictionary of feature names and their importance scores\n",
    "    feat_imp = model.get_score(importance_type=\"weight\")\n",
    "    df = pd.DataFrame(\n",
    "        {\"feature\": feat_imp.keys(), f\"importance_{fold + 1}\": feat_imp.values()}\n",
    "    )\n",
    "    # Add the current fold's feature importance to the container\n",
    "    feat_imp_list.append(df)\n",
    "\n",
    "    # Out-of-fold prediction, matrix of probabilities with shape (n_samples, n_classes)\n",
    "    oof_pred = model.predict(dvalid)\n",
    "    pred_classes = np.argmax(oof_pred, axis=1)\n",
    "    # Add the current fold's out-of-fold prediction to the dictionary with target values\n",
    "    oof[f\"fold_{fold + 1}\"] = {\"target\": fold_val_y, \"prediction\": oof_pred}\n",
    "    # Add report to container\n",
    "    clf_report_list.append(\n",
    "        classification_report_imbalanced(y_true=fold_val_y, y_pred=pred_classes)\n",
    "    )\n",
    "    # Print multi-class logloss and balanced accuracy (average recall (i.e., the ability of the classifier to find all the positive samples) for each class)\n",
    "    print(classification_report_imbalanced(y_true=fold_val_y, y_pred=pred_classes))\n",
    "\n",
    "    del (\n",
    "        fold_train_X,\n",
    "        fold_train_y,\n",
    "        fold_val_X,\n",
    "        fold_val_y,\n",
    "        dtrain,\n",
    "        dvalid,\n",
    "        model,\n",
    "        feat_imp,\n",
    "        oof_pred,\n",
    "        pred_classes,\n",
    "    )"
   ]
  },
  {
   "attachments": {},
   "cell_type": "markdown",
   "metadata": {},
   "source": [
    "### Learning Curve"
   ]
  },
  {
   "cell_type": "code",
   "execution_count": 133,
   "metadata": {},
   "outputs": [
    {
     "data": {
      "text/plain": [
       "[<matplotlib.lines.Line2D at 0x16f9951c0>]"
      ]
     },
     "execution_count": 133,
     "metadata": {},
     "output_type": "execute_result"
    },
    {
     "data": {
      "text/plain": [
       "[<matplotlib.lines.Line2D at 0x16f98cf40>]"
      ]
     },
     "execution_count": 133,
     "metadata": {},
     "output_type": "execute_result"
    },
    {
     "data": {
      "text/plain": [
       "<matplotlib.legend.Legend at 0x16f995a30>"
      ]
     },
     "execution_count": 133,
     "metadata": {},
     "output_type": "execute_result"
    },
    {
     "data": {
      "text/plain": [
       "Text(0.5, 1.0, 'Fold 1 Learning Curve')"
      ]
     },
     "execution_count": 133,
     "metadata": {},
     "output_type": "execute_result"
    },
    {
     "data": {
      "image/png": "[encoded data removed]",
      "text/plain": [
       "<Figure size 1080x864 with 1 Axes>"
      ]
     },
     "metadata": {
      "needs_background": "light"
     },
     "output_type": "display_data"
    },
    {
     "data": {
      "text/plain": [
       "[<matplotlib.lines.Line2D at 0x16f8a97c0>]"
      ]
     },
     "execution_count": 133,
     "metadata": {},
     "output_type": "execute_result"
    },
    {
     "data": {
      "text/plain": [
       "[<matplotlib.lines.Line2D at 0x16f8a93a0>]"
      ]
     },
     "execution_count": 133,
     "metadata": {},
     "output_type": "execute_result"
    },
    {
     "data": {
      "text/plain": [
       "<matplotlib.legend.Legend at 0x16f8a9700>"
      ]
     },
     "execution_count": 133,
     "metadata": {},
     "output_type": "execute_result"
    },
    {
     "data": {
      "text/plain": [
       "Text(0.5, 1.0, 'Fold 2 Learning Curve')"
      ]
     },
     "execution_count": 133,
     "metadata": {},
     "output_type": "execute_result"
    },
    {
     "data": {
      "image/png": "[encoded data removed]",
      "text/plain": [
       "<Figure size 1080x864 with 1 Axes>"
      ]
     },
     "metadata": {
      "needs_background": "light"
     },
     "output_type": "display_data"
    },
    {
     "data": {
      "text/plain": [
       "[<matplotlib.lines.Line2D at 0x16f550c40>]"
      ]
     },
     "execution_count": 133,
     "metadata": {},
     "output_type": "execute_result"
    },
    {
     "data": {
      "text/plain": [
       "[<matplotlib.lines.Line2D at 0x16f550340>]"
      ]
     },
     "execution_count": 133,
     "metadata": {},
     "output_type": "execute_result"
    },
    {
     "data": {
      "text/plain": [
       "<matplotlib.legend.Legend at 0x16f54cc70>"
      ]
     },
     "execution_count": 133,
     "metadata": {},
     "output_type": "execute_result"
    },
    {
     "data": {
      "text/plain": [
       "Text(0.5, 1.0, 'Fold 3 Learning Curve')"
      ]
     },
     "execution_count": 133,
     "metadata": {},
     "output_type": "execute_result"
    },
    {
     "data": {
      "image/png": "[encoded data removed]",
      "text/plain": [
       "<Figure size 1080x864 with 1 Axes>"
      ]
     },
     "metadata": {
      "needs_background": "light"
     },
     "output_type": "display_data"
    },
    {
     "data": {
      "text/plain": [
       "[<matplotlib.lines.Line2D at 0x16f8e3eb0>]"
      ]
     },
     "execution_count": 133,
     "metadata": {},
     "output_type": "execute_result"
    },
    {
     "data": {
      "text/plain": [
       "[<matplotlib.lines.Line2D at 0x16f8cc190>]"
      ]
     },
     "execution_count": 133,
     "metadata": {},
     "output_type": "execute_result"
    },
    {
     "data": {
      "text/plain": [
       "<matplotlib.legend.Legend at 0x16f925c70>"
      ]
     },
     "execution_count": 133,
     "metadata": {},
     "output_type": "execute_result"
    },
    {
     "data": {
      "text/plain": [
       "Text(0.5, 1.0, 'Fold 4 Learning Curve')"
      ]
     },
     "execution_count": 133,
     "metadata": {},
     "output_type": "execute_result"
    },
    {
     "data": {
      "image/png": "[encoded data removed]",
      "text/plain": [
       "<Figure size 1080x864 with 1 Axes>"
      ]
     },
     "metadata": {
      "needs_background": "light"
     },
     "output_type": "display_data"
    },
    {
     "data": {
      "text/plain": [
       "[<matplotlib.lines.Line2D at 0x16fa35ca0>]"
      ]
     },
     "execution_count": 133,
     "metadata": {},
     "output_type": "execute_result"
    },
    {
     "data": {
      "text/plain": [
       "[<matplotlib.lines.Line2D at 0x16fa3f070>]"
      ]
     },
     "execution_count": 133,
     "metadata": {},
     "output_type": "execute_result"
    },
    {
     "data": {
      "text/plain": [
       "<matplotlib.legend.Legend at 0x16fa30be0>"
      ]
     },
     "execution_count": 133,
     "metadata": {},
     "output_type": "execute_result"
    },
    {
     "data": {
      "text/plain": [
       "Text(0.5, 1.0, 'Fold 5 Learning Curve')"
      ]
     },
     "execution_count": 133,
     "metadata": {},
     "output_type": "execute_result"
    },
    {
     "data": {
      "image/png": "[encoded data removed]",
      "text/plain": [
       "<Figure size 1080x864 with 1 Axes>"
      ]
     },
     "metadata": {
      "needs_background": "light"
     },
     "output_type": "display_data"
    }
   ],
   "source": [
    "for fold in range(5):\n",
    "    eval_result = joblib.load(model_path + f\"optuna_eval_fold_{fold + 1}.joblib\")\n",
    "    plt.plot(eval_result[\"train\"][\"avgRecall\"], label=\"train\")\n",
    "    plt.plot(eval_result[\"validate\"][\"avgRecall\"], label=\"validate\")\n",
    "    plt.legend()\n",
    "    plt.title(f\"Fold {fold + 1} Learning Curve\")\n",
    "    plt.show()"
   ]
  },
  {
   "attachments": {},
   "cell_type": "markdown",
   "metadata": {},
   "source": [
    "### Confusion Matrix"
   ]
  },
  {
   "cell_type": "code",
   "execution_count": 134,
   "metadata": {},
   "outputs": [
    {
     "data": {
      "text/plain": [
       "<sklearn.metrics._plot.confusion_matrix.ConfusionMatrixDisplay at 0x16f580370>"
      ]
     },
     "execution_count": 134,
     "metadata": {},
     "output_type": "execute_result"
    },
    {
     "data": {
      "image/png": "[encoded data removed]",
      "text/plain": [
       "<Figure size 1080x864 with 2 Axes>"
      ]
     },
     "metadata": {
      "needs_background": "light"
     },
     "output_type": "display_data"
    },
    {
     "data": {
      "text/plain": [
       "<sklearn.metrics._plot.confusion_matrix.ConfusionMatrixDisplay at 0x16faeed60>"
      ]
     },
     "execution_count": 134,
     "metadata": {},
     "output_type": "execute_result"
    },
    {
     "data": {
      "image/png": "[encoded data removed]",
      "text/plain": [
       "<Figure size 1080x864 with 2 Axes>"
      ]
     },
     "metadata": {
      "needs_background": "light"
     },
     "output_type": "display_data"
    },
    {
     "data": {
      "text/plain": [
       "<sklearn.metrics._plot.confusion_matrix.ConfusionMatrixDisplay at 0x16f8a6850>"
      ]
     },
     "execution_count": 134,
     "metadata": {},
     "output_type": "execute_result"
    },
    {
     "data": {
      "image/png": "[encoded data removed]",
      "text/plain": [
       "<Figure size 1080x864 with 2 Axes>"
      ]
     },
     "metadata": {
      "needs_background": "light"
     },
     "output_type": "display_data"
    },
    {
     "data": {
      "text/plain": [
       "<sklearn.metrics._plot.confusion_matrix.ConfusionMatrixDisplay at 0x16fc24d00>"
      ]
     },
     "execution_count": 134,
     "metadata": {},
     "output_type": "execute_result"
    },
    {
     "data": {
      "image/png": "[encoded data removed]",
      "text/plain": [
       "<Figure size 1080x864 with 2 Axes>"
      ]
     },
     "metadata": {
      "needs_background": "light"
     },
     "output_type": "display_data"
    },
    {
     "data": {
      "text/plain": [
       "<sklearn.metrics._plot.confusion_matrix.ConfusionMatrixDisplay at 0x16fce4d60>"
      ]
     },
     "execution_count": 134,
     "metadata": {},
     "output_type": "execute_result"
    },
    {
     "data": {
      "image/png": "[encoded data removed]",
      "text/plain": [
       "<Figure size 1080x864 with 2 Axes>"
      ]
     },
     "metadata": {
      "needs_background": "light"
     },
     "output_type": "display_data"
    }
   ],
   "source": [
    "for fold in range(5):\n",
    "    # Compute predictions for the current fold, summing up the counts across the rows of the matrices for each true label\n",
    "    ConfusionMatrixDisplay(\n",
    "        confusion_matrix(\n",
    "            y_true=oof[f\"fold_{fold + 1}\"][\"target\"],\n",
    "            y_pred=np.argmax(oof[f\"fold_{fold + 1}\"][\"prediction\"], axis=1),\n",
    "            labels=[0, 1, 2],\n",
    "            normalize=\"true\",\n",
    "        )\n",
    "    ).plot()\n",
    "    plt.show()"
   ]
  },
  {
   "attachments": {},
   "cell_type": "markdown",
   "metadata": {},
   "source": [
    "## Performance on Test Data"
   ]
  },
  {
   "cell_type": "code",
   "execution_count": 146,
   "metadata": {},
   "outputs": [
    {
     "data": {
      "text/plain": [
       "((20354, 49), (20354,))"
      ]
     },
     "execution_count": 146,
     "metadata": {},
     "output_type": "execute_result"
    }
   ],
   "source": [
    "test_X, test_y = (\n",
    "    pd.read_parquet(data_path + \"test_X.parquet\"),\n",
    "    pd.read_parquet(data_path + \"test_y.parquet\")\n",
    "    .to_numpy()\n",
    "    .reshape(\n",
    "        -1,\n",
    "    ),\n",
    ")\n",
    "test_X.shape, test_y.shape"
   ]
  },
  {
   "cell_type": "code",
   "execution_count": 148,
   "metadata": {},
   "outputs": [
    {
     "data": {
      "text/plain": [
       "array([2, 2, 2, ..., 1, 1, 1])"
      ]
     },
     "execution_count": 148,
     "metadata": {},
     "output_type": "execute_result"
    }
   ],
   "source": [
    "test_y = label_encoder.transform(test_y)\n",
    "test_y"
   ]
  },
  {
   "cell_type": "code",
   "execution_count": 137,
   "metadata": {},
   "outputs": [],
   "source": [
    "pred = np.zeros(shape=(test_X.shape[0], 3))\n",
    "for i in range(5):\n",
    "    # Initialize the model\n",
    "    model = xgb.Booster()\n",
    "    # Load the model\n",
    "    model.load_model(model_path + f\"optuna_model_fold_{i + 1}.xgb\")\n",
    "    # Process test set\n",
    "    fold_test_X = joblib.load(\n",
    "        f\"../outputs/pipeline/optuna_preprocessor_fold_{i + 1}.joblib\"\n",
    "    ).transform(test_X)\n",
    "    fold_test_X = joblib.load(\n",
    "        f\"../outputs/pipeline/optuna_feature_selector_fold_{i + 1}.joblib\"\n",
    "    ).transform(fold_test_X)\n",
    "    # Make predictions on the test set and sum the matrices of probabilities with shape (n_samples, n_classes) element-wise\n",
    "    pred += model.predict(xgb.DMatrix(data=fold_test_X))\n",
    "# Average the predictions\n",
    "pred /= 5\n",
    "pred = pred.astype(\"float64\")"
   ]
  },
  {
   "attachments": {},
   "cell_type": "markdown",
   "metadata": {},
   "source": [
    "### Confusion Matrix"
   ]
  },
  {
   "cell_type": "code",
   "execution_count": 160,
   "metadata": {},
   "outputs": [
    {
     "data": {
      "text/plain": [
       "<sklearn.metrics._plot.confusion_matrix.ConfusionMatrixDisplay at 0x16ff3a340>"
      ]
     },
     "execution_count": 160,
     "metadata": {},
     "output_type": "execute_result"
    },
    {
     "data": {
      "image/png": "[encoded data removed]",
      "text/plain": [
       "<Figure size 1080x864 with 2 Axes>"
      ]
     },
     "metadata": {
      "needs_background": "light"
     },
     "output_type": "display_data"
    }
   ],
   "source": [
    "ConfusionMatrixDisplay(\n",
    "    confusion_matrix(\n",
    "        y_true=test_y,\n",
    "        y_pred=np.argmax(pred, axis=1),\n",
    "        labels=[0, 1, 2],\n",
    "        normalize=\"true\",\n",
    "    )\n",
    ").plot()\n",
    "plt.show()"
   ]
  },
  {
   "attachments": {},
   "cell_type": "markdown",
   "metadata": {},
   "source": [
    "### One Versus Rest ROC Curves"
   ]
  },
  {
   "cell_type": "code",
   "execution_count": 140,
   "metadata": {},
   "outputs": [
    {
     "data": {
      "text/plain": [
       "0.7163957567290595"
      ]
     },
     "execution_count": 140,
     "metadata": {},
     "output_type": "execute_result"
    }
   ],
   "source": [
    "roc_auc_score(\n",
    "    test_y,\n",
    "    pred,\n",
    "    multi_class=\"ovr\",\n",
    "    average=\"weighted\",\n",
    ")"
   ]
  },
  {
   "cell_type": "code",
   "execution_count": 162,
   "metadata": {},
   "outputs": [
    {
     "data": {
      "text/plain": [
       "['<30', '>30', 'NO']"
      ]
     },
     "execution_count": 162,
     "metadata": {},
     "output_type": "execute_result"
    }
   ],
   "source": [
    "target_names = label_encoder.classes_.tolist()\n",
    "target_names"
   ]
  },
  {
   "attachments": {},
   "cell_type": "markdown",
   "metadata": {},
   "source": [
    "We need to one-hot the test target vector in order to plot the one versus rest ROC curves:"
   ]
  },
  {
   "cell_type": "code",
   "execution_count": 149,
   "metadata": {},
   "outputs": [
    {
     "data": {
      "text/plain": [
       "array([[0, 0, 1],\n",
       "       [0, 0, 1],\n",
       "       [0, 0, 1],\n",
       "       ...,\n",
       "       [0, 1, 0],\n",
       "       [0, 1, 0],\n",
       "       [0, 1, 0]])"
      ]
     },
     "execution_count": 149,
     "metadata": {},
     "output_type": "execute_result"
    }
   ],
   "source": [
    "label_binarizer = LabelBinarizer().fit(train_y)\n",
    "test_y_one_hot = label_binarizer.transform(test_y)\n",
    "test_y_one_hot"
   ]
  },
  {
   "cell_type": "code",
   "execution_count": 163,
   "metadata": {},
   "outputs": [
    {
     "data": {
      "image/png": "[encoded data removed]",
      "text/plain": [
       "<Figure size 1080x864 with 1 Axes>"
      ]
     },
     "metadata": {
      "needs_background": "light"
     },
     "output_type": "display_data"
    }
   ],
   "source": [
    "fig, ax = plt.subplots(figsize=(15, 12))\n",
    "\n",
    "colors = cycle([\"aqua\", \"darkorange\", \"cornflowerblue\"])\n",
    "for class_id, color in zip(range(3), colors):\n",
    "    RocCurveDisplay.from_predictions(\n",
    "        test_y_one_hot[:, class_id],\n",
    "        pred[:, class_id],\n",
    "        name=f\"ROC curve for {target_names[class_id]}\",\n",
    "        color=color,\n",
    "        ax=ax,\n",
    "    )\n",
    "\n",
    "plt.plot([0, 1], [0, 1], \"k--\", label=\"ROC curve for chance level (AUC = 0.5)\")\n",
    "plt.axis(\"square\")\n",
    "plt.xlabel(\"False Positive Rate\")\n",
    "plt.ylabel(\"True Positive Rate\")\n",
    "plt.title(\"Extension of Receiver Operating Characteristic\\nto One-vs-Rest multiclass\")\n",
    "plt.legend()\n",
    "plt.show();"
   ]
  },
  {
   "attachments": {},
   "cell_type": "markdown",
   "metadata": {},
   "source": [
    "### One Versus One ROC Curves"
   ]
  },
  {
   "cell_type": "code",
   "execution_count": 161,
   "metadata": {},
   "outputs": [
    {
     "name": "stdout",
     "output_type": "stream",
     "text": [
      "[(0, 1), (0, 2), (1, 2)]\n"
     ]
    }
   ],
   "source": [
    "# All unique combinations of pairs of classes\n",
    "pair_list = list(combinations(np.unique(test_y), 2))\n",
    "print(pair_list)"
   ]
  },
  {
   "cell_type": "code",
   "execution_count": 172,
   "metadata": {},
   "outputs": [
    {
     "data": {
      "text/plain": [
       "[<matplotlib.lines.Line2D at 0x1703020a0>]"
      ]
     },
     "execution_count": 172,
     "metadata": {},
     "output_type": "execute_result"
    },
    {
     "data": {
      "text/plain": [
       "<sklearn.metrics._plot.roc_curve.RocCurveDisplay at 0x1702f5040>"
      ]
     },
     "execution_count": 172,
     "metadata": {},
     "output_type": "execute_result"
    },
    {
     "data": {
      "text/plain": [
       "<sklearn.metrics._plot.roc_curve.RocCurveDisplay at 0x170302610>"
      ]
     },
     "execution_count": 172,
     "metadata": {},
     "output_type": "execute_result"
    },
    {
     "data": {
      "text/plain": [
       "[<matplotlib.lines.Line2D at 0x170314d90>]"
      ]
     },
     "execution_count": 172,
     "metadata": {},
     "output_type": "execute_result"
    },
    {
     "data": {
      "text/plain": [
       "(-0.05, 1.05, -0.05, 1.05)"
      ]
     },
     "execution_count": 172,
     "metadata": {},
     "output_type": "execute_result"
    },
    {
     "data": {
      "text/plain": [
       "Text(0.5, 0, 'False Positive Rate')"
      ]
     },
     "execution_count": 172,
     "metadata": {},
     "output_type": "execute_result"
    },
    {
     "data": {
      "text/plain": [
       "Text(0, 0.5, 'True Positive Rate')"
      ]
     },
     "execution_count": 172,
     "metadata": {},
     "output_type": "execute_result"
    },
    {
     "data": {
      "text/plain": [
       "Text(0.5, 1.0, '<30 vs 1 ROC curves')"
      ]
     },
     "execution_count": 172,
     "metadata": {},
     "output_type": "execute_result"
    },
    {
     "data": {
      "text/plain": [
       "<matplotlib.legend.Legend at 0x170302610>"
      ]
     },
     "execution_count": 172,
     "metadata": {},
     "output_type": "execute_result"
    },
    {
     "data": {
      "image/png": "[encoded data removed]",
      "text/plain": [
       "<Figure size 1080x864 with 1 Axes>"
      ]
     },
     "metadata": {
      "needs_background": "light"
     },
     "output_type": "display_data"
    },
    {
     "data": {
      "text/plain": [
       "[<matplotlib.lines.Line2D at 0x1701ea850>]"
      ]
     },
     "execution_count": 172,
     "metadata": {},
     "output_type": "execute_result"
    },
    {
     "data": {
      "text/plain": [
       "<sklearn.metrics._plot.roc_curve.RocCurveDisplay at 0x1701ff730>"
      ]
     },
     "execution_count": 172,
     "metadata": {},
     "output_type": "execute_result"
    },
    {
     "data": {
      "text/plain": [
       "<sklearn.metrics._plot.roc_curve.RocCurveDisplay at 0x170223400>"
      ]
     },
     "execution_count": 172,
     "metadata": {},
     "output_type": "execute_result"
    },
    {
     "data": {
      "text/plain": [
       "[<matplotlib.lines.Line2D at 0x17019cf40>]"
      ]
     },
     "execution_count": 172,
     "metadata": {},
     "output_type": "execute_result"
    },
    {
     "data": {
      "text/plain": [
       "(-0.05, 1.05, -0.05, 1.05)"
      ]
     },
     "execution_count": 172,
     "metadata": {},
     "output_type": "execute_result"
    },
    {
     "data": {
      "text/plain": [
       "Text(0.5, 0, 'False Positive Rate')"
      ]
     },
     "execution_count": 172,
     "metadata": {},
     "output_type": "execute_result"
    },
    {
     "data": {
      "text/plain": [
       "Text(0, 0.5, 'True Positive Rate')"
      ]
     },
     "execution_count": 172,
     "metadata": {},
     "output_type": "execute_result"
    },
    {
     "data": {
      "text/plain": [
       "Text(0.5, 1.0, '<30 vs 2 ROC curves')"
      ]
     },
     "execution_count": 172,
     "metadata": {},
     "output_type": "execute_result"
    },
    {
     "data": {
      "text/plain": [
       "<matplotlib.legend.Legend at 0x170234310>"
      ]
     },
     "execution_count": 172,
     "metadata": {},
     "output_type": "execute_result"
    },
    {
     "data": {
      "image/png": "[encoded data removed]",
      "text/plain": [
       "<Figure size 1080x864 with 1 Axes>"
      ]
     },
     "metadata": {
      "needs_background": "light"
     },
     "output_type": "display_data"
    },
    {
     "data": {
      "text/plain": [
       "[<matplotlib.lines.Line2D at 0x1700c2280>]"
      ]
     },
     "execution_count": 172,
     "metadata": {},
     "output_type": "execute_result"
    },
    {
     "data": {
      "text/plain": [
       "<sklearn.metrics._plot.roc_curve.RocCurveDisplay at 0x16fb3a160>"
      ]
     },
     "execution_count": 172,
     "metadata": {},
     "output_type": "execute_result"
    },
    {
     "data": {
      "text/plain": [
       "<sklearn.metrics._plot.roc_curve.RocCurveDisplay at 0x1700c2eb0>"
      ]
     },
     "execution_count": 172,
     "metadata": {},
     "output_type": "execute_result"
    },
    {
     "data": {
      "text/plain": [
       "[<matplotlib.lines.Line2D at 0x1700757c0>]"
      ]
     },
     "execution_count": 172,
     "metadata": {},
     "output_type": "execute_result"
    },
    {
     "data": {
      "text/plain": [
       "(-0.05, 1.05, -0.05, 1.05)"
      ]
     },
     "execution_count": 172,
     "metadata": {},
     "output_type": "execute_result"
    },
    {
     "data": {
      "text/plain": [
       "Text(0.5, 0, 'False Positive Rate')"
      ]
     },
     "execution_count": 172,
     "metadata": {},
     "output_type": "execute_result"
    },
    {
     "data": {
      "text/plain": [
       "Text(0, 0.5, 'True Positive Rate')"
      ]
     },
     "execution_count": 172,
     "metadata": {},
     "output_type": "execute_result"
    },
    {
     "data": {
      "text/plain": [
       "Text(0.5, 1.0, '>30 vs 2 ROC curves')"
      ]
     },
     "execution_count": 172,
     "metadata": {},
     "output_type": "execute_result"
    },
    {
     "data": {
      "text/plain": [
       "<matplotlib.legend.Legend at 0x1700c2eb0>"
      ]
     },
     "execution_count": 172,
     "metadata": {},
     "output_type": "execute_result"
    },
    {
     "data": {
      "image/png": "[encoded data removed]",
      "text/plain": [
       "<Figure size 1080x864 with 1 Axes>"
      ]
     },
     "metadata": {
      "needs_background": "light"
     },
     "output_type": "display_data"
    },
    {
     "name": "stdout",
     "output_type": "stream",
     "text": [
      "Macro-averaged One-vs-One ROC AUC score:\n",
      "0.68\n"
     ]
    }
   ],
   "source": [
    "pair_scores = []\n",
    "mean_tpr = dict()\n",
    "fpr_grid = np.linspace(0, 1, 1000)  # For interpolation\n",
    "\n",
    "for ix, (label_a, label_b) in enumerate(pair_list):\n",
    "    a_mask = test_y == label_a\n",
    "    b_mask = test_y == label_b\n",
    "    ab_mask = np.logical_or(a_mask, b_mask)\n",
    "\n",
    "    a_true = a_mask[ab_mask]\n",
    "    b_true = b_mask[ab_mask]\n",
    "\n",
    "    idx_a = np.flatnonzero(label_binarizer.classes_ == label_a)[0]\n",
    "    idx_b = np.flatnonzero(label_binarizer.classes_ == label_b)[0]\n",
    "\n",
    "    fpr_a, tpr_a, _ = roc_curve(a_true, pred[ab_mask, idx_a])\n",
    "    fpr_b, tpr_b, _ = roc_curve(b_true, pred[ab_mask, idx_b])\n",
    "\n",
    "    mean_tpr[ix] = np.zeros_like(fpr_grid)\n",
    "    mean_tpr[ix] += np.interp(fpr_grid, fpr_a, tpr_a)\n",
    "    mean_tpr[ix] += np.interp(fpr_grid, fpr_b, tpr_b)\n",
    "    mean_tpr[ix] /= 2\n",
    "    mean_score = auc(fpr_grid, mean_tpr[ix])\n",
    "    pair_scores.append(mean_score)\n",
    "\n",
    "    fig, ax = plt.subplots(figsize=(15, 12))\n",
    "    plt.plot(\n",
    "        fpr_grid,\n",
    "        mean_tpr[ix],\n",
    "        label=f\"Mean {label_a} vs {label_b} (AUC = {mean_score:.2f})\",\n",
    "        linestyle=\":\",\n",
    "        linewidth=4,\n",
    "    )\n",
    "    RocCurveDisplay.from_predictions(\n",
    "        a_true,\n",
    "        pred[ab_mask, idx_a],\n",
    "        ax=ax,\n",
    "        name=f\"{label_a} as positive class\",\n",
    "    )\n",
    "    RocCurveDisplay.from_predictions(\n",
    "        b_true,\n",
    "        pred[ab_mask, idx_b],\n",
    "        ax=ax,\n",
    "        name=f\"{label_b} as positive class\",\n",
    "    )\n",
    "    plt.plot([0, 1], [0, 1], \"k--\", label=\"chance level (AUC = 0.5)\")\n",
    "    plt.axis(\"square\")\n",
    "    plt.xlabel(\"False Positive Rate\")\n",
    "    plt.ylabel(\"True Positive Rate\")\n",
    "    plt.title(f\"{target_names[idx_a]} vs {label_b} ROC curves\")\n",
    "    plt.legend()\n",
    "    plt.show()\n",
    "\n",
    "print(f\"Macro-averaged One-vs-One ROC AUC score:\\n{np.average(pair_scores):.2f}\")"
   ]
  }
 ],
 "metadata": {
  "kernelspec": {
   "display_name": "python_for_machine_learning",
   "language": "python",
   "name": "python3"
  },
  "language_info": {
   "codemirror_mode": {
    "name": "ipython",
    "version": 3
   },
   "file_extension": ".py",
   "mimetype": "text/x-python",
   "name": "python",
   "nbconvert_exporter": "python",
   "pygments_lexer": "ipython3",
   "version": "3.9.6 | packaged by conda-forge | (default, Jul 11 2021, 03:36:15) \n[Clang 11.1.0 ]"
  },
  "orig_nbformat": 4,
  "vscode": {
   "interpreter": {
    "hash": "40fc6ebffc74793621f684cf09d9f3d0a501c91440a6f462aebac8d38ed47133"
   }
  }
 },
 "nbformat": 4,
 "nbformat_minor": 2
}
